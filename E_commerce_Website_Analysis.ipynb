{
  "nbformat": 4,
  "nbformat_minor": 0,
  "metadata": {
    "colab": {
      "name": "E-commerce Website Analysis.ipynb",
      "provenance": [],
      "collapsed_sections": [],
      "authorship_tag": "ABX9TyMjXGN7DzBnO9ywrTNerOmf",
      "include_colab_link": true
    },
    "kernelspec": {
      "name": "python3",
      "display_name": "Python 3"
    }
  },
  "cells": [
    {
      "cell_type": "markdown",
      "metadata": {
        "id": "view-in-github",
        "colab_type": "text"
      },
      "source": [
        "<a href=\"https://colab.research.google.com/github/ishardina/Website_Analysis/blob/main/E_commerce_Website_Analysis.ipynb\" target=\"_parent\"><img src=\"https://colab.research.google.com/assets/colab-badge.svg\" alt=\"Open In Colab\"/></a>"
      ]
    },
    {
      "cell_type": "markdown",
      "metadata": {
        "id": "8U6gxO6_tUnY"
      },
      "source": [
        "# **E-Commerce Website Analysis**\r\n",
        "\r\n",
        "In this digital era, one of the things that company CEOs need to pay attention to is the performance of their websites. In this notebook, I'm trying to solve the problem of a company CEO who is not very happy with sales volume, especially sales coming from new users. Therefore, he asked me to investigate if there was something wrong with the **conversion funnel** or in general whether I could suggest how the conversion rate could be improved."
      ]
    },
    {
      "cell_type": "markdown",
      "metadata": {
        "id": "nEKx99H3lKF3"
      },
      "source": [
        "**Author : Ishardina Cholifatul Hidayati**"
      ]
    },
    {
      "cell_type": "markdown",
      "metadata": {
        "id": "x3WzIFU1xWy4"
      },
      "source": [
        "## **Table of Content**\r\n",
        "\r\n",
        "1. Website Overview\r\n",
        "2. Pre-processing Data\r\n",
        "3. Exploratory Data Analysis\r\n",
        "4. Conclusion\r\n",
        "5. Suggestion"
      ]
    },
    {
      "cell_type": "markdown",
      "metadata": {
        "id": "lTJtElJUwo8n"
      },
      "source": [
        "## **1. Website Overview**\r\n",
        "\r\n",
        "This site is very simple and only has 4 pages:\r\n",
        "\r\n",
        "1. The first page is the **home page**. When the user opens the site for the first time, the user can only open the home page as the first page.\r\n",
        "2. From the home page, users can perform searches and land on the **search page**.\r\n",
        "3. From the search page, if the user clicks on a product, the user will arrive at the **payment page**, where the user is asked to provide payment information to purchase the product.\r\n",
        "4. If the user decides to buy, the user ends up on the **confirmation page**.\r\n"
      ]
    },
    {
      "cell_type": "markdown",
      "metadata": {
        "id": "m-iF3Dm3zoyf"
      },
      "source": [
        "## **2. Pre Processing Data**\r\n",
        "\r\n",
        "In this step, we will check the data size and manipulate the dataframe so that the data is ready to use."
      ]
    },
    {
      "cell_type": "code",
      "metadata": {
        "id": "VFWazZMUHK22"
      },
      "source": [
        "import pandas as pd\r\n",
        "import matplotlib.pyplot as plt\r\n",
        "import seaborn as sns\r\n",
        "%matplotlib inline"
      ],
      "execution_count": 1,
      "outputs": []
    },
    {
      "cell_type": "code",
      "metadata": {
        "id": "Zdo9gf6jqTRD"
      },
      "source": [
        "#import data\r\n",
        "user_df = pd.read_csv('/content/user_table.csv')\r\n",
        "page1 = pd.read_csv('/content/home_page_table.csv')\r\n",
        "page2 = pd.read_csv('/content/search_page_table.csv')\r\n",
        "page3 = pd.read_csv('/content/payment_page_table.csv')\r\n",
        "page4 = pd.read_csv('/content/payment_confirmation_table.csv')"
      ],
      "execution_count": 2,
      "outputs": []
    },
    {
      "cell_type": "code",
      "metadata": {
        "colab": {
          "base_uri": "https://localhost:8080/",
          "height": 202
        },
        "id": "e0puZbA1HhvT",
        "outputId": "035996ea-4783-48cf-c508-95c0dabc1c89"
      },
      "source": [
        "user_df.head()"
      ],
      "execution_count": 3,
      "outputs": [
        {
          "output_type": "execute_result",
          "data": {
            "text/html": [
              "<div>\n",
              "<style scoped>\n",
              "    .dataframe tbody tr th:only-of-type {\n",
              "        vertical-align: middle;\n",
              "    }\n",
              "\n",
              "    .dataframe tbody tr th {\n",
              "        vertical-align: top;\n",
              "    }\n",
              "\n",
              "    .dataframe thead th {\n",
              "        text-align: right;\n",
              "    }\n",
              "</style>\n",
              "<table border=\"1\" class=\"dataframe\">\n",
              "  <thead>\n",
              "    <tr style=\"text-align: right;\">\n",
              "      <th></th>\n",
              "      <th>user_id</th>\n",
              "      <th>date</th>\n",
              "      <th>device</th>\n",
              "      <th>sex</th>\n",
              "    </tr>\n",
              "  </thead>\n",
              "  <tbody>\n",
              "    <tr>\n",
              "      <th>0</th>\n",
              "      <td>450007</td>\n",
              "      <td>2015-02-28</td>\n",
              "      <td>Desktop</td>\n",
              "      <td>Female</td>\n",
              "    </tr>\n",
              "    <tr>\n",
              "      <th>1</th>\n",
              "      <td>756838</td>\n",
              "      <td>2015-01-13</td>\n",
              "      <td>Desktop</td>\n",
              "      <td>Male</td>\n",
              "    </tr>\n",
              "    <tr>\n",
              "      <th>2</th>\n",
              "      <td>568983</td>\n",
              "      <td>2015-04-09</td>\n",
              "      <td>Desktop</td>\n",
              "      <td>Male</td>\n",
              "    </tr>\n",
              "    <tr>\n",
              "      <th>3</th>\n",
              "      <td>190794</td>\n",
              "      <td>2015-02-18</td>\n",
              "      <td>Desktop</td>\n",
              "      <td>Female</td>\n",
              "    </tr>\n",
              "    <tr>\n",
              "      <th>4</th>\n",
              "      <td>537909</td>\n",
              "      <td>2015-01-15</td>\n",
              "      <td>Desktop</td>\n",
              "      <td>Male</td>\n",
              "    </tr>\n",
              "  </tbody>\n",
              "</table>\n",
              "</div>"
            ],
            "text/plain": [
              "   user_id        date   device     sex\n",
              "0   450007  2015-02-28  Desktop  Female\n",
              "1   756838  2015-01-13  Desktop    Male\n",
              "2   568983  2015-04-09  Desktop    Male\n",
              "3   190794  2015-02-18  Desktop  Female\n",
              "4   537909  2015-01-15  Desktop    Male"
            ]
          },
          "metadata": {
            "tags": []
          },
          "execution_count": 3
        }
      ]
    },
    {
      "cell_type": "code",
      "metadata": {
        "colab": {
          "base_uri": "https://localhost:8080/",
          "height": 202
        },
        "id": "xtTl_pTIHmWs",
        "outputId": "eb132b1a-3e0b-4a5c-e608-0b0bc6678820"
      },
      "source": [
        "page1.head()"
      ],
      "execution_count": 4,
      "outputs": [
        {
          "output_type": "execute_result",
          "data": {
            "text/html": [
              "<div>\n",
              "<style scoped>\n",
              "    .dataframe tbody tr th:only-of-type {\n",
              "        vertical-align: middle;\n",
              "    }\n",
              "\n",
              "    .dataframe tbody tr th {\n",
              "        vertical-align: top;\n",
              "    }\n",
              "\n",
              "    .dataframe thead th {\n",
              "        text-align: right;\n",
              "    }\n",
              "</style>\n",
              "<table border=\"1\" class=\"dataframe\">\n",
              "  <thead>\n",
              "    <tr style=\"text-align: right;\">\n",
              "      <th></th>\n",
              "      <th>user_id</th>\n",
              "      <th>page</th>\n",
              "    </tr>\n",
              "  </thead>\n",
              "  <tbody>\n",
              "    <tr>\n",
              "      <th>0</th>\n",
              "      <td>313593</td>\n",
              "      <td>home_page</td>\n",
              "    </tr>\n",
              "    <tr>\n",
              "      <th>1</th>\n",
              "      <td>468315</td>\n",
              "      <td>home_page</td>\n",
              "    </tr>\n",
              "    <tr>\n",
              "      <th>2</th>\n",
              "      <td>264005</td>\n",
              "      <td>home_page</td>\n",
              "    </tr>\n",
              "    <tr>\n",
              "      <th>3</th>\n",
              "      <td>290784</td>\n",
              "      <td>home_page</td>\n",
              "    </tr>\n",
              "    <tr>\n",
              "      <th>4</th>\n",
              "      <td>639104</td>\n",
              "      <td>home_page</td>\n",
              "    </tr>\n",
              "  </tbody>\n",
              "</table>\n",
              "</div>"
            ],
            "text/plain": [
              "   user_id       page\n",
              "0   313593  home_page\n",
              "1   468315  home_page\n",
              "2   264005  home_page\n",
              "3   290784  home_page\n",
              "4   639104  home_page"
            ]
          },
          "metadata": {
            "tags": []
          },
          "execution_count": 4
        }
      ]
    },
    {
      "cell_type": "code",
      "metadata": {
        "colab": {
          "base_uri": "https://localhost:8080/",
          "height": 202
        },
        "id": "ZL1thn_bHqsf",
        "outputId": "8367d8fc-5f85-40bb-b53f-370637f2a2de"
      },
      "source": [
        "page2.head()"
      ],
      "execution_count": 5,
      "outputs": [
        {
          "output_type": "execute_result",
          "data": {
            "text/html": [
              "<div>\n",
              "<style scoped>\n",
              "    .dataframe tbody tr th:only-of-type {\n",
              "        vertical-align: middle;\n",
              "    }\n",
              "\n",
              "    .dataframe tbody tr th {\n",
              "        vertical-align: top;\n",
              "    }\n",
              "\n",
              "    .dataframe thead th {\n",
              "        text-align: right;\n",
              "    }\n",
              "</style>\n",
              "<table border=\"1\" class=\"dataframe\">\n",
              "  <thead>\n",
              "    <tr style=\"text-align: right;\">\n",
              "      <th></th>\n",
              "      <th>user_id</th>\n",
              "      <th>page</th>\n",
              "    </tr>\n",
              "  </thead>\n",
              "  <tbody>\n",
              "    <tr>\n",
              "      <th>0</th>\n",
              "      <td>15866</td>\n",
              "      <td>search_page</td>\n",
              "    </tr>\n",
              "    <tr>\n",
              "      <th>1</th>\n",
              "      <td>347058</td>\n",
              "      <td>search_page</td>\n",
              "    </tr>\n",
              "    <tr>\n",
              "      <th>2</th>\n",
              "      <td>577020</td>\n",
              "      <td>search_page</td>\n",
              "    </tr>\n",
              "    <tr>\n",
              "      <th>3</th>\n",
              "      <td>780347</td>\n",
              "      <td>search_page</td>\n",
              "    </tr>\n",
              "    <tr>\n",
              "      <th>4</th>\n",
              "      <td>383739</td>\n",
              "      <td>search_page</td>\n",
              "    </tr>\n",
              "  </tbody>\n",
              "</table>\n",
              "</div>"
            ],
            "text/plain": [
              "   user_id         page\n",
              "0    15866  search_page\n",
              "1   347058  search_page\n",
              "2   577020  search_page\n",
              "3   780347  search_page\n",
              "4   383739  search_page"
            ]
          },
          "metadata": {
            "tags": []
          },
          "execution_count": 5
        }
      ]
    },
    {
      "cell_type": "code",
      "metadata": {
        "colab": {
          "base_uri": "https://localhost:8080/",
          "height": 202
        },
        "id": "pKr5lkgfHsqm",
        "outputId": "602cf932-e979-45b6-c56e-b7b53ec6fd76"
      },
      "source": [
        "page3.head()"
      ],
      "execution_count": 6,
      "outputs": [
        {
          "output_type": "execute_result",
          "data": {
            "text/html": [
              "<div>\n",
              "<style scoped>\n",
              "    .dataframe tbody tr th:only-of-type {\n",
              "        vertical-align: middle;\n",
              "    }\n",
              "\n",
              "    .dataframe tbody tr th {\n",
              "        vertical-align: top;\n",
              "    }\n",
              "\n",
              "    .dataframe thead th {\n",
              "        text-align: right;\n",
              "    }\n",
              "</style>\n",
              "<table border=\"1\" class=\"dataframe\">\n",
              "  <thead>\n",
              "    <tr style=\"text-align: right;\">\n",
              "      <th></th>\n",
              "      <th>user_id</th>\n",
              "      <th>page</th>\n",
              "    </tr>\n",
              "  </thead>\n",
              "  <tbody>\n",
              "    <tr>\n",
              "      <th>0</th>\n",
              "      <td>253019</td>\n",
              "      <td>payment_page</td>\n",
              "    </tr>\n",
              "    <tr>\n",
              "      <th>1</th>\n",
              "      <td>310478</td>\n",
              "      <td>payment_page</td>\n",
              "    </tr>\n",
              "    <tr>\n",
              "      <th>2</th>\n",
              "      <td>304081</td>\n",
              "      <td>payment_page</td>\n",
              "    </tr>\n",
              "    <tr>\n",
              "      <th>3</th>\n",
              "      <td>901286</td>\n",
              "      <td>payment_page</td>\n",
              "    </tr>\n",
              "    <tr>\n",
              "      <th>4</th>\n",
              "      <td>195052</td>\n",
              "      <td>payment_page</td>\n",
              "    </tr>\n",
              "  </tbody>\n",
              "</table>\n",
              "</div>"
            ],
            "text/plain": [
              "   user_id          page\n",
              "0   253019  payment_page\n",
              "1   310478  payment_page\n",
              "2   304081  payment_page\n",
              "3   901286  payment_page\n",
              "4   195052  payment_page"
            ]
          },
          "metadata": {
            "tags": []
          },
          "execution_count": 6
        }
      ]
    },
    {
      "cell_type": "code",
      "metadata": {
        "colab": {
          "base_uri": "https://localhost:8080/",
          "height": 202
        },
        "id": "xA-aSO5AHwQa",
        "outputId": "167de76c-22d7-426e-9e5c-73a349491b87"
      },
      "source": [
        "page4.head()"
      ],
      "execution_count": 7,
      "outputs": [
        {
          "output_type": "execute_result",
          "data": {
            "text/html": [
              "<div>\n",
              "<style scoped>\n",
              "    .dataframe tbody tr th:only-of-type {\n",
              "        vertical-align: middle;\n",
              "    }\n",
              "\n",
              "    .dataframe tbody tr th {\n",
              "        vertical-align: top;\n",
              "    }\n",
              "\n",
              "    .dataframe thead th {\n",
              "        text-align: right;\n",
              "    }\n",
              "</style>\n",
              "<table border=\"1\" class=\"dataframe\">\n",
              "  <thead>\n",
              "    <tr style=\"text-align: right;\">\n",
              "      <th></th>\n",
              "      <th>user_id</th>\n",
              "      <th>page</th>\n",
              "    </tr>\n",
              "  </thead>\n",
              "  <tbody>\n",
              "    <tr>\n",
              "      <th>0</th>\n",
              "      <td>123100</td>\n",
              "      <td>payment_confirmation_page</td>\n",
              "    </tr>\n",
              "    <tr>\n",
              "      <th>1</th>\n",
              "      <td>704999</td>\n",
              "      <td>payment_confirmation_page</td>\n",
              "    </tr>\n",
              "    <tr>\n",
              "      <th>2</th>\n",
              "      <td>407188</td>\n",
              "      <td>payment_confirmation_page</td>\n",
              "    </tr>\n",
              "    <tr>\n",
              "      <th>3</th>\n",
              "      <td>538348</td>\n",
              "      <td>payment_confirmation_page</td>\n",
              "    </tr>\n",
              "    <tr>\n",
              "      <th>4</th>\n",
              "      <td>841681</td>\n",
              "      <td>payment_confirmation_page</td>\n",
              "    </tr>\n",
              "  </tbody>\n",
              "</table>\n",
              "</div>"
            ],
            "text/plain": [
              "   user_id                       page\n",
              "0   123100  payment_confirmation_page\n",
              "1   704999  payment_confirmation_page\n",
              "2   407188  payment_confirmation_page\n",
              "3   538348  payment_confirmation_page\n",
              "4   841681  payment_confirmation_page"
            ]
          },
          "metadata": {
            "tags": []
          },
          "execution_count": 7
        }
      ]
    },
    {
      "cell_type": "code",
      "metadata": {
        "colab": {
          "base_uri": "https://localhost:8080/"
        },
        "id": "MfNrIaitLD3P",
        "outputId": "ae07ac8d-1b2b-4dff-f2bb-165b8b4a8c88"
      },
      "source": [
        "#knowing the number of every visitor page\r\n",
        "print('all users : ', user_df.shape[0])\r\n",
        "print('home page visitor :', page1.shape[0])\r\n",
        "print('search page visitor : ', page2.shape[0])\r\n",
        "print('payment page visitor :', page3.shape[0])\r\n",
        "print('payment confirmation page visitor : ', page4.shape[0])"
      ],
      "execution_count": 8,
      "outputs": [
        {
          "output_type": "stream",
          "text": [
            "all users :  90400\n",
            "home page visitor : 90400\n",
            "search page visitor :  45200\n",
            "payment page visitor : 6030\n",
            "payment confirmation page visitor :  452\n"
          ],
          "name": "stdout"
        }
      ]
    },
    {
      "cell_type": "code",
      "metadata": {
        "colab": {
          "base_uri": "https://localhost:8080/",
          "height": 202
        },
        "id": "MTTTjB7NHxrV",
        "outputId": "f6c10513-7206-4fe4-dd3b-e9f80dec3b57"
      },
      "source": [
        "#merge the dataframe to simplify\r\n",
        "df = user_df.merge(page1,\r\n",
        "              how='left',\r\n",
        "              left_on='user_id',\r\n",
        "              right_on='user_id')\r\n",
        "df = df.merge(page2,\r\n",
        "              how='left',\r\n",
        "              left_on='user_id',\r\n",
        "              right_on='user_id')\r\n",
        "df.head()"
      ],
      "execution_count": 9,
      "outputs": [
        {
          "output_type": "execute_result",
          "data": {
            "text/html": [
              "<div>\n",
              "<style scoped>\n",
              "    .dataframe tbody tr th:only-of-type {\n",
              "        vertical-align: middle;\n",
              "    }\n",
              "\n",
              "    .dataframe tbody tr th {\n",
              "        vertical-align: top;\n",
              "    }\n",
              "\n",
              "    .dataframe thead th {\n",
              "        text-align: right;\n",
              "    }\n",
              "</style>\n",
              "<table border=\"1\" class=\"dataframe\">\n",
              "  <thead>\n",
              "    <tr style=\"text-align: right;\">\n",
              "      <th></th>\n",
              "      <th>user_id</th>\n",
              "      <th>date</th>\n",
              "      <th>device</th>\n",
              "      <th>sex</th>\n",
              "      <th>page_x</th>\n",
              "      <th>page_y</th>\n",
              "    </tr>\n",
              "  </thead>\n",
              "  <tbody>\n",
              "    <tr>\n",
              "      <th>0</th>\n",
              "      <td>450007</td>\n",
              "      <td>2015-02-28</td>\n",
              "      <td>Desktop</td>\n",
              "      <td>Female</td>\n",
              "      <td>home_page</td>\n",
              "      <td>NaN</td>\n",
              "    </tr>\n",
              "    <tr>\n",
              "      <th>1</th>\n",
              "      <td>756838</td>\n",
              "      <td>2015-01-13</td>\n",
              "      <td>Desktop</td>\n",
              "      <td>Male</td>\n",
              "      <td>home_page</td>\n",
              "      <td>NaN</td>\n",
              "    </tr>\n",
              "    <tr>\n",
              "      <th>2</th>\n",
              "      <td>568983</td>\n",
              "      <td>2015-04-09</td>\n",
              "      <td>Desktop</td>\n",
              "      <td>Male</td>\n",
              "      <td>home_page</td>\n",
              "      <td>search_page</td>\n",
              "    </tr>\n",
              "    <tr>\n",
              "      <th>3</th>\n",
              "      <td>190794</td>\n",
              "      <td>2015-02-18</td>\n",
              "      <td>Desktop</td>\n",
              "      <td>Female</td>\n",
              "      <td>home_page</td>\n",
              "      <td>search_page</td>\n",
              "    </tr>\n",
              "    <tr>\n",
              "      <th>4</th>\n",
              "      <td>537909</td>\n",
              "      <td>2015-01-15</td>\n",
              "      <td>Desktop</td>\n",
              "      <td>Male</td>\n",
              "      <td>home_page</td>\n",
              "      <td>NaN</td>\n",
              "    </tr>\n",
              "  </tbody>\n",
              "</table>\n",
              "</div>"
            ],
            "text/plain": [
              "   user_id        date   device     sex     page_x       page_y\n",
              "0   450007  2015-02-28  Desktop  Female  home_page          NaN\n",
              "1   756838  2015-01-13  Desktop    Male  home_page          NaN\n",
              "2   568983  2015-04-09  Desktop    Male  home_page  search_page\n",
              "3   190794  2015-02-18  Desktop  Female  home_page  search_page\n",
              "4   537909  2015-01-15  Desktop    Male  home_page          NaN"
            ]
          },
          "metadata": {
            "tags": []
          },
          "execution_count": 9
        }
      ]
    },
    {
      "cell_type": "code",
      "metadata": {
        "colab": {
          "base_uri": "https://localhost:8080/",
          "height": 202
        },
        "id": "-nDBBeeCJD6Q",
        "outputId": "7e362617-7b3d-4bf8-ee94-4a7568abf88c"
      },
      "source": [
        "df.rename(columns={'page_x':'home_page', 'page_y' : 'search_page'}, inplace=True)\r\n",
        "df = df.merge(page3,\r\n",
        "              how='left',\r\n",
        "              left_on='user_id',\r\n",
        "              right_on='user_id')\r\n",
        "df = df.merge(page4,\r\n",
        "              how='left',\r\n",
        "              left_on='user_id',\r\n",
        "              right_on='user_id')\r\n",
        "df.head()"
      ],
      "execution_count": 10,
      "outputs": [
        {
          "output_type": "execute_result",
          "data": {
            "text/html": [
              "<div>\n",
              "<style scoped>\n",
              "    .dataframe tbody tr th:only-of-type {\n",
              "        vertical-align: middle;\n",
              "    }\n",
              "\n",
              "    .dataframe tbody tr th {\n",
              "        vertical-align: top;\n",
              "    }\n",
              "\n",
              "    .dataframe thead th {\n",
              "        text-align: right;\n",
              "    }\n",
              "</style>\n",
              "<table border=\"1\" class=\"dataframe\">\n",
              "  <thead>\n",
              "    <tr style=\"text-align: right;\">\n",
              "      <th></th>\n",
              "      <th>user_id</th>\n",
              "      <th>date</th>\n",
              "      <th>device</th>\n",
              "      <th>sex</th>\n",
              "      <th>home_page</th>\n",
              "      <th>search_page</th>\n",
              "      <th>page_x</th>\n",
              "      <th>page_y</th>\n",
              "    </tr>\n",
              "  </thead>\n",
              "  <tbody>\n",
              "    <tr>\n",
              "      <th>0</th>\n",
              "      <td>450007</td>\n",
              "      <td>2015-02-28</td>\n",
              "      <td>Desktop</td>\n",
              "      <td>Female</td>\n",
              "      <td>home_page</td>\n",
              "      <td>NaN</td>\n",
              "      <td>NaN</td>\n",
              "      <td>NaN</td>\n",
              "    </tr>\n",
              "    <tr>\n",
              "      <th>1</th>\n",
              "      <td>756838</td>\n",
              "      <td>2015-01-13</td>\n",
              "      <td>Desktop</td>\n",
              "      <td>Male</td>\n",
              "      <td>home_page</td>\n",
              "      <td>NaN</td>\n",
              "      <td>NaN</td>\n",
              "      <td>NaN</td>\n",
              "    </tr>\n",
              "    <tr>\n",
              "      <th>2</th>\n",
              "      <td>568983</td>\n",
              "      <td>2015-04-09</td>\n",
              "      <td>Desktop</td>\n",
              "      <td>Male</td>\n",
              "      <td>home_page</td>\n",
              "      <td>search_page</td>\n",
              "      <td>NaN</td>\n",
              "      <td>NaN</td>\n",
              "    </tr>\n",
              "    <tr>\n",
              "      <th>3</th>\n",
              "      <td>190794</td>\n",
              "      <td>2015-02-18</td>\n",
              "      <td>Desktop</td>\n",
              "      <td>Female</td>\n",
              "      <td>home_page</td>\n",
              "      <td>search_page</td>\n",
              "      <td>NaN</td>\n",
              "      <td>NaN</td>\n",
              "    </tr>\n",
              "    <tr>\n",
              "      <th>4</th>\n",
              "      <td>537909</td>\n",
              "      <td>2015-01-15</td>\n",
              "      <td>Desktop</td>\n",
              "      <td>Male</td>\n",
              "      <td>home_page</td>\n",
              "      <td>NaN</td>\n",
              "      <td>NaN</td>\n",
              "      <td>NaN</td>\n",
              "    </tr>\n",
              "  </tbody>\n",
              "</table>\n",
              "</div>"
            ],
            "text/plain": [
              "   user_id        date   device     sex  home_page  search_page page_x page_y\n",
              "0   450007  2015-02-28  Desktop  Female  home_page          NaN    NaN    NaN\n",
              "1   756838  2015-01-13  Desktop    Male  home_page          NaN    NaN    NaN\n",
              "2   568983  2015-04-09  Desktop    Male  home_page  search_page    NaN    NaN\n",
              "3   190794  2015-02-18  Desktop  Female  home_page  search_page    NaN    NaN\n",
              "4   537909  2015-01-15  Desktop    Male  home_page          NaN    NaN    NaN"
            ]
          },
          "metadata": {
            "tags": []
          },
          "execution_count": 10
        }
      ]
    },
    {
      "cell_type": "code",
      "metadata": {
        "id": "OS7WpmeLKg7f"
      },
      "source": [
        "df.rename(columns={'page_x':'payment_page', 'page_y' : 'payment_confirmation_page'}, inplace=True)"
      ],
      "execution_count": 11,
      "outputs": []
    },
    {
      "cell_type": "code",
      "metadata": {
        "colab": {
          "base_uri": "https://localhost:8080/",
          "height": 202
        },
        "id": "8hWwP9fDKr1J",
        "outputId": "71f8b024-af35-48eb-bf10-fd63fb19df94"
      },
      "source": [
        "df.head()"
      ],
      "execution_count": 12,
      "outputs": [
        {
          "output_type": "execute_result",
          "data": {
            "text/html": [
              "<div>\n",
              "<style scoped>\n",
              "    .dataframe tbody tr th:only-of-type {\n",
              "        vertical-align: middle;\n",
              "    }\n",
              "\n",
              "    .dataframe tbody tr th {\n",
              "        vertical-align: top;\n",
              "    }\n",
              "\n",
              "    .dataframe thead th {\n",
              "        text-align: right;\n",
              "    }\n",
              "</style>\n",
              "<table border=\"1\" class=\"dataframe\">\n",
              "  <thead>\n",
              "    <tr style=\"text-align: right;\">\n",
              "      <th></th>\n",
              "      <th>user_id</th>\n",
              "      <th>date</th>\n",
              "      <th>device</th>\n",
              "      <th>sex</th>\n",
              "      <th>home_page</th>\n",
              "      <th>search_page</th>\n",
              "      <th>payment_page</th>\n",
              "      <th>payment_confirmation_page</th>\n",
              "    </tr>\n",
              "  </thead>\n",
              "  <tbody>\n",
              "    <tr>\n",
              "      <th>0</th>\n",
              "      <td>450007</td>\n",
              "      <td>2015-02-28</td>\n",
              "      <td>Desktop</td>\n",
              "      <td>Female</td>\n",
              "      <td>home_page</td>\n",
              "      <td>NaN</td>\n",
              "      <td>NaN</td>\n",
              "      <td>NaN</td>\n",
              "    </tr>\n",
              "    <tr>\n",
              "      <th>1</th>\n",
              "      <td>756838</td>\n",
              "      <td>2015-01-13</td>\n",
              "      <td>Desktop</td>\n",
              "      <td>Male</td>\n",
              "      <td>home_page</td>\n",
              "      <td>NaN</td>\n",
              "      <td>NaN</td>\n",
              "      <td>NaN</td>\n",
              "    </tr>\n",
              "    <tr>\n",
              "      <th>2</th>\n",
              "      <td>568983</td>\n",
              "      <td>2015-04-09</td>\n",
              "      <td>Desktop</td>\n",
              "      <td>Male</td>\n",
              "      <td>home_page</td>\n",
              "      <td>search_page</td>\n",
              "      <td>NaN</td>\n",
              "      <td>NaN</td>\n",
              "    </tr>\n",
              "    <tr>\n",
              "      <th>3</th>\n",
              "      <td>190794</td>\n",
              "      <td>2015-02-18</td>\n",
              "      <td>Desktop</td>\n",
              "      <td>Female</td>\n",
              "      <td>home_page</td>\n",
              "      <td>search_page</td>\n",
              "      <td>NaN</td>\n",
              "      <td>NaN</td>\n",
              "    </tr>\n",
              "    <tr>\n",
              "      <th>4</th>\n",
              "      <td>537909</td>\n",
              "      <td>2015-01-15</td>\n",
              "      <td>Desktop</td>\n",
              "      <td>Male</td>\n",
              "      <td>home_page</td>\n",
              "      <td>NaN</td>\n",
              "      <td>NaN</td>\n",
              "      <td>NaN</td>\n",
              "    </tr>\n",
              "  </tbody>\n",
              "</table>\n",
              "</div>"
            ],
            "text/plain": [
              "   user_id        date  ... payment_page payment_confirmation_page\n",
              "0   450007  2015-02-28  ...          NaN                       NaN\n",
              "1   756838  2015-01-13  ...          NaN                       NaN\n",
              "2   568983  2015-04-09  ...          NaN                       NaN\n",
              "3   190794  2015-02-18  ...          NaN                       NaN\n",
              "4   537909  2015-01-15  ...          NaN                       NaN\n",
              "\n",
              "[5 rows x 8 columns]"
            ]
          },
          "metadata": {
            "tags": []
          },
          "execution_count": 12
        }
      ]
    },
    {
      "cell_type": "code",
      "metadata": {
        "colab": {
          "base_uri": "https://localhost:8080/",
          "height": 202
        },
        "id": "DgtXTH0BKvu8",
        "outputId": "ec8b6d42-f63e-4235-cacc-1dd2f57e5026"
      },
      "source": [
        "#change the page information data to numeric\r\n",
        "\r\n",
        "df = df.replace({'home_page':'home_page', 'search_page': 'search_page', 'payment_page': 'payment_page', 'payment_confirmation_page': 'payment_confirmation_page'}, 1)\r\n",
        "df = df.fillna(0)\r\n",
        "df.head()"
      ],
      "execution_count": 13,
      "outputs": [
        {
          "output_type": "execute_result",
          "data": {
            "text/html": [
              "<div>\n",
              "<style scoped>\n",
              "    .dataframe tbody tr th:only-of-type {\n",
              "        vertical-align: middle;\n",
              "    }\n",
              "\n",
              "    .dataframe tbody tr th {\n",
              "        vertical-align: top;\n",
              "    }\n",
              "\n",
              "    .dataframe thead th {\n",
              "        text-align: right;\n",
              "    }\n",
              "</style>\n",
              "<table border=\"1\" class=\"dataframe\">\n",
              "  <thead>\n",
              "    <tr style=\"text-align: right;\">\n",
              "      <th></th>\n",
              "      <th>user_id</th>\n",
              "      <th>date</th>\n",
              "      <th>device</th>\n",
              "      <th>sex</th>\n",
              "      <th>home_page</th>\n",
              "      <th>search_page</th>\n",
              "      <th>payment_page</th>\n",
              "      <th>payment_confirmation_page</th>\n",
              "    </tr>\n",
              "  </thead>\n",
              "  <tbody>\n",
              "    <tr>\n",
              "      <th>0</th>\n",
              "      <td>450007</td>\n",
              "      <td>2015-02-28</td>\n",
              "      <td>Desktop</td>\n",
              "      <td>Female</td>\n",
              "      <td>1</td>\n",
              "      <td>0.0</td>\n",
              "      <td>0.0</td>\n",
              "      <td>0.0</td>\n",
              "    </tr>\n",
              "    <tr>\n",
              "      <th>1</th>\n",
              "      <td>756838</td>\n",
              "      <td>2015-01-13</td>\n",
              "      <td>Desktop</td>\n",
              "      <td>Male</td>\n",
              "      <td>1</td>\n",
              "      <td>0.0</td>\n",
              "      <td>0.0</td>\n",
              "      <td>0.0</td>\n",
              "    </tr>\n",
              "    <tr>\n",
              "      <th>2</th>\n",
              "      <td>568983</td>\n",
              "      <td>2015-04-09</td>\n",
              "      <td>Desktop</td>\n",
              "      <td>Male</td>\n",
              "      <td>1</td>\n",
              "      <td>1.0</td>\n",
              "      <td>0.0</td>\n",
              "      <td>0.0</td>\n",
              "    </tr>\n",
              "    <tr>\n",
              "      <th>3</th>\n",
              "      <td>190794</td>\n",
              "      <td>2015-02-18</td>\n",
              "      <td>Desktop</td>\n",
              "      <td>Female</td>\n",
              "      <td>1</td>\n",
              "      <td>1.0</td>\n",
              "      <td>0.0</td>\n",
              "      <td>0.0</td>\n",
              "    </tr>\n",
              "    <tr>\n",
              "      <th>4</th>\n",
              "      <td>537909</td>\n",
              "      <td>2015-01-15</td>\n",
              "      <td>Desktop</td>\n",
              "      <td>Male</td>\n",
              "      <td>1</td>\n",
              "      <td>0.0</td>\n",
              "      <td>0.0</td>\n",
              "      <td>0.0</td>\n",
              "    </tr>\n",
              "  </tbody>\n",
              "</table>\n",
              "</div>"
            ],
            "text/plain": [
              "   user_id        date  ... payment_page payment_confirmation_page\n",
              "0   450007  2015-02-28  ...          0.0                       0.0\n",
              "1   756838  2015-01-13  ...          0.0                       0.0\n",
              "2   568983  2015-04-09  ...          0.0                       0.0\n",
              "3   190794  2015-02-18  ...          0.0                       0.0\n",
              "4   537909  2015-01-15  ...          0.0                       0.0\n",
              "\n",
              "[5 rows x 8 columns]"
            ]
          },
          "metadata": {
            "tags": []
          },
          "execution_count": 13
        }
      ]
    },
    {
      "cell_type": "markdown",
      "metadata": {
        "id": "WUDdr_APlsEp"
      },
      "source": [
        "## **3. Exploratory Data Analys**\r\n",
        "\r\n",
        "At this stage, we will try to answer some questions to get insights from the data we already have."
      ]
    },
    {
      "cell_type": "markdown",
      "metadata": {
        "id": "hviWIt0Cn-Yj"
      },
      "source": [
        "### **What does the sales funnel look like?**\r\n",
        "We identified the processes a visitor goes through until the purchase is done. By doing this, I used Python package plotly to do the visualizations."
      ]
    },
    {
      "cell_type": "code",
      "metadata": {
        "colab": {
          "base_uri": "https://localhost:8080/",
          "height": 542
        },
        "id": "l7x-2HM2P4_o",
        "outputId": "85d36c83-c49a-428c-c230-f2846f51dd07"
      },
      "source": [
        "#draw funnel chart using plotly package\r\n",
        "from plotly import graph_objects as go\r\n",
        "\r\n",
        "fig = go.Figure(go.Funnel(\r\n",
        "    y = [\"home_page\", \"search_page\", \"payment_page\", \"payment_confirmation_page\"],\r\n",
        "    x = [page1.shape[0], page2.shape[0], page3.shape[0], page4.shape[0]],\r\n",
        "    textposition = \"outside\",\r\n",
        "    textinfo = \"value+percent initial\"))\r\n",
        "\r\n",
        "fig.show()"
      ],
      "execution_count": 14,
      "outputs": [
        {
          "output_type": "display_data",
          "data": {
            "text/html": [
              "<html>\n",
              "<head><meta charset=\"utf-8\" /></head>\n",
              "<body>\n",
              "    <div>\n",
              "            <script src=\"https://cdnjs.cloudflare.com/ajax/libs/mathjax/2.7.5/MathJax.js?config=TeX-AMS-MML_SVG\"></script><script type=\"text/javascript\">if (window.MathJax) {MathJax.Hub.Config({SVG: {font: \"STIX-Web\"}});}</script>\n",
              "                <script type=\"text/javascript\">window.PlotlyConfig = {MathJaxConfig: 'local'};</script>\n",
              "        <script src=\"https://cdn.plot.ly/plotly-latest.min.js\"></script>    \n",
              "            <div id=\"a089681d-0e41-476a-bbbc-fbcde1eb9dbc\" class=\"plotly-graph-div\" style=\"height:525px; width:100%;\"></div>\n",
              "            <script type=\"text/javascript\">\n",
              "                \n",
              "                    window.PLOTLYENV=window.PLOTLYENV || {};\n",
              "                    \n",
              "                if (document.getElementById(\"a089681d-0e41-476a-bbbc-fbcde1eb9dbc\")) {\n",
              "                    Plotly.newPlot(\n",
              "                        'a089681d-0e41-476a-bbbc-fbcde1eb9dbc',\n",
              "                        [{\"textinfo\": \"value+percent initial\", \"textposition\": \"outside\", \"type\": \"funnel\", \"x\": [90400, 45200, 6030, 452], \"y\": [\"home_page\", \"search_page\", \"payment_page\", \"payment_confirmation_page\"]}],\n",
              "                        {\"template\": {\"data\": {\"bar\": [{\"error_x\": {\"color\": \"#2a3f5f\"}, \"error_y\": {\"color\": \"#2a3f5f\"}, \"marker\": {\"line\": {\"color\": \"#E5ECF6\", \"width\": 0.5}}, \"type\": \"bar\"}], \"barpolar\": [{\"marker\": {\"line\": {\"color\": \"#E5ECF6\", \"width\": 0.5}}, \"type\": \"barpolar\"}], \"carpet\": [{\"aaxis\": {\"endlinecolor\": \"#2a3f5f\", \"gridcolor\": \"white\", \"linecolor\": \"white\", \"minorgridcolor\": \"white\", \"startlinecolor\": \"#2a3f5f\"}, \"baxis\": {\"endlinecolor\": \"#2a3f5f\", \"gridcolor\": \"white\", \"linecolor\": \"white\", \"minorgridcolor\": \"white\", \"startlinecolor\": \"#2a3f5f\"}, \"type\": \"carpet\"}], \"choropleth\": [{\"colorbar\": {\"outlinewidth\": 0, \"ticks\": \"\"}, \"type\": \"choropleth\"}], \"contour\": [{\"colorbar\": {\"outlinewidth\": 0, \"ticks\": \"\"}, \"colorscale\": [[0.0, \"#0d0887\"], [0.1111111111111111, \"#46039f\"], [0.2222222222222222, \"#7201a8\"], [0.3333333333333333, \"#9c179e\"], [0.4444444444444444, \"#bd3786\"], [0.5555555555555556, \"#d8576b\"], [0.6666666666666666, \"#ed7953\"], [0.7777777777777778, \"#fb9f3a\"], [0.8888888888888888, \"#fdca26\"], [1.0, \"#f0f921\"]], \"type\": \"contour\"}], \"contourcarpet\": [{\"colorbar\": {\"outlinewidth\": 0, \"ticks\": \"\"}, \"type\": \"contourcarpet\"}], \"heatmap\": [{\"colorbar\": {\"outlinewidth\": 0, \"ticks\": \"\"}, \"colorscale\": [[0.0, \"#0d0887\"], [0.1111111111111111, \"#46039f\"], [0.2222222222222222, \"#7201a8\"], [0.3333333333333333, \"#9c179e\"], [0.4444444444444444, \"#bd3786\"], [0.5555555555555556, \"#d8576b\"], [0.6666666666666666, \"#ed7953\"], [0.7777777777777778, \"#fb9f3a\"], [0.8888888888888888, \"#fdca26\"], [1.0, \"#f0f921\"]], \"type\": \"heatmap\"}], \"heatmapgl\": [{\"colorbar\": {\"outlinewidth\": 0, \"ticks\": \"\"}, \"colorscale\": [[0.0, \"#0d0887\"], [0.1111111111111111, \"#46039f\"], [0.2222222222222222, \"#7201a8\"], [0.3333333333333333, \"#9c179e\"], [0.4444444444444444, \"#bd3786\"], [0.5555555555555556, \"#d8576b\"], [0.6666666666666666, \"#ed7953\"], [0.7777777777777778, \"#fb9f3a\"], [0.8888888888888888, \"#fdca26\"], [1.0, \"#f0f921\"]], \"type\": \"heatmapgl\"}], \"histogram\": [{\"marker\": {\"colorbar\": {\"outlinewidth\": 0, \"ticks\": \"\"}}, \"type\": \"histogram\"}], \"histogram2d\": [{\"colorbar\": {\"outlinewidth\": 0, \"ticks\": \"\"}, \"colorscale\": [[0.0, \"#0d0887\"], [0.1111111111111111, \"#46039f\"], [0.2222222222222222, \"#7201a8\"], [0.3333333333333333, \"#9c179e\"], [0.4444444444444444, \"#bd3786\"], [0.5555555555555556, \"#d8576b\"], [0.6666666666666666, \"#ed7953\"], [0.7777777777777778, \"#fb9f3a\"], [0.8888888888888888, \"#fdca26\"], [1.0, \"#f0f921\"]], \"type\": \"histogram2d\"}], \"histogram2dcontour\": [{\"colorbar\": {\"outlinewidth\": 0, \"ticks\": \"\"}, \"colorscale\": [[0.0, \"#0d0887\"], [0.1111111111111111, \"#46039f\"], [0.2222222222222222, \"#7201a8\"], [0.3333333333333333, \"#9c179e\"], [0.4444444444444444, \"#bd3786\"], [0.5555555555555556, \"#d8576b\"], [0.6666666666666666, \"#ed7953\"], [0.7777777777777778, \"#fb9f3a\"], [0.8888888888888888, \"#fdca26\"], [1.0, \"#f0f921\"]], \"type\": \"histogram2dcontour\"}], \"mesh3d\": [{\"colorbar\": {\"outlinewidth\": 0, \"ticks\": \"\"}, \"type\": \"mesh3d\"}], \"parcoords\": [{\"line\": {\"colorbar\": {\"outlinewidth\": 0, \"ticks\": \"\"}}, \"type\": \"parcoords\"}], \"pie\": [{\"automargin\": true, \"type\": \"pie\"}], \"scatter\": [{\"marker\": {\"colorbar\": {\"outlinewidth\": 0, \"ticks\": \"\"}}, \"type\": \"scatter\"}], \"scatter3d\": [{\"line\": {\"colorbar\": {\"outlinewidth\": 0, \"ticks\": \"\"}}, \"marker\": {\"colorbar\": {\"outlinewidth\": 0, \"ticks\": \"\"}}, \"type\": \"scatter3d\"}], \"scattercarpet\": [{\"marker\": {\"colorbar\": {\"outlinewidth\": 0, \"ticks\": \"\"}}, \"type\": \"scattercarpet\"}], \"scattergeo\": [{\"marker\": {\"colorbar\": {\"outlinewidth\": 0, \"ticks\": \"\"}}, \"type\": \"scattergeo\"}], \"scattergl\": [{\"marker\": {\"colorbar\": {\"outlinewidth\": 0, \"ticks\": \"\"}}, \"type\": \"scattergl\"}], \"scattermapbox\": [{\"marker\": {\"colorbar\": {\"outlinewidth\": 0, \"ticks\": \"\"}}, \"type\": \"scattermapbox\"}], \"scatterpolar\": [{\"marker\": {\"colorbar\": {\"outlinewidth\": 0, \"ticks\": \"\"}}, \"type\": \"scatterpolar\"}], \"scatterpolargl\": [{\"marker\": {\"colorbar\": {\"outlinewidth\": 0, \"ticks\": \"\"}}, \"type\": \"scatterpolargl\"}], \"scatterternary\": [{\"marker\": {\"colorbar\": {\"outlinewidth\": 0, \"ticks\": \"\"}}, \"type\": \"scatterternary\"}], \"surface\": [{\"colorbar\": {\"outlinewidth\": 0, \"ticks\": \"\"}, \"colorscale\": [[0.0, \"#0d0887\"], [0.1111111111111111, \"#46039f\"], [0.2222222222222222, \"#7201a8\"], [0.3333333333333333, \"#9c179e\"], [0.4444444444444444, \"#bd3786\"], [0.5555555555555556, \"#d8576b\"], [0.6666666666666666, \"#ed7953\"], [0.7777777777777778, \"#fb9f3a\"], [0.8888888888888888, \"#fdca26\"], [1.0, \"#f0f921\"]], \"type\": \"surface\"}], \"table\": [{\"cells\": {\"fill\": {\"color\": \"#EBF0F8\"}, \"line\": {\"color\": \"white\"}}, \"header\": {\"fill\": {\"color\": \"#C8D4E3\"}, \"line\": {\"color\": \"white\"}}, \"type\": \"table\"}]}, \"layout\": {\"annotationdefaults\": {\"arrowcolor\": \"#2a3f5f\", \"arrowhead\": 0, \"arrowwidth\": 1}, \"coloraxis\": {\"colorbar\": {\"outlinewidth\": 0, \"ticks\": \"\"}}, \"colorscale\": {\"diverging\": [[0, \"#8e0152\"], [0.1, \"#c51b7d\"], [0.2, \"#de77ae\"], [0.3, \"#f1b6da\"], [0.4, \"#fde0ef\"], [0.5, \"#f7f7f7\"], [0.6, \"#e6f5d0\"], [0.7, \"#b8e186\"], [0.8, \"#7fbc41\"], [0.9, \"#4d9221\"], [1, \"#276419\"]], \"sequential\": [[0.0, \"#0d0887\"], [0.1111111111111111, \"#46039f\"], [0.2222222222222222, \"#7201a8\"], [0.3333333333333333, \"#9c179e\"], [0.4444444444444444, \"#bd3786\"], [0.5555555555555556, \"#d8576b\"], [0.6666666666666666, \"#ed7953\"], [0.7777777777777778, \"#fb9f3a\"], [0.8888888888888888, \"#fdca26\"], [1.0, \"#f0f921\"]], \"sequentialminus\": [[0.0, \"#0d0887\"], [0.1111111111111111, \"#46039f\"], [0.2222222222222222, \"#7201a8\"], [0.3333333333333333, \"#9c179e\"], [0.4444444444444444, \"#bd3786\"], [0.5555555555555556, \"#d8576b\"], [0.6666666666666666, \"#ed7953\"], [0.7777777777777778, \"#fb9f3a\"], [0.8888888888888888, \"#fdca26\"], [1.0, \"#f0f921\"]]}, \"colorway\": [\"#636efa\", \"#EF553B\", \"#00cc96\", \"#ab63fa\", \"#FFA15A\", \"#19d3f3\", \"#FF6692\", \"#B6E880\", \"#FF97FF\", \"#FECB52\"], \"font\": {\"color\": \"#2a3f5f\"}, \"geo\": {\"bgcolor\": \"white\", \"lakecolor\": \"white\", \"landcolor\": \"#E5ECF6\", \"showlakes\": true, \"showland\": true, \"subunitcolor\": \"white\"}, \"hoverlabel\": {\"align\": \"left\"}, \"hovermode\": \"closest\", \"mapbox\": {\"style\": \"light\"}, \"paper_bgcolor\": \"white\", \"plot_bgcolor\": \"#E5ECF6\", \"polar\": {\"angularaxis\": {\"gridcolor\": \"white\", \"linecolor\": \"white\", \"ticks\": \"\"}, \"bgcolor\": \"#E5ECF6\", \"radialaxis\": {\"gridcolor\": \"white\", \"linecolor\": \"white\", \"ticks\": \"\"}}, \"scene\": {\"xaxis\": {\"backgroundcolor\": \"#E5ECF6\", \"gridcolor\": \"white\", \"gridwidth\": 2, \"linecolor\": \"white\", \"showbackground\": true, \"ticks\": \"\", \"zerolinecolor\": \"white\"}, \"yaxis\": {\"backgroundcolor\": \"#E5ECF6\", \"gridcolor\": \"white\", \"gridwidth\": 2, \"linecolor\": \"white\", \"showbackground\": true, \"ticks\": \"\", \"zerolinecolor\": \"white\"}, \"zaxis\": {\"backgroundcolor\": \"#E5ECF6\", \"gridcolor\": \"white\", \"gridwidth\": 2, \"linecolor\": \"white\", \"showbackground\": true, \"ticks\": \"\", \"zerolinecolor\": \"white\"}}, \"shapedefaults\": {\"line\": {\"color\": \"#2a3f5f\"}}, \"ternary\": {\"aaxis\": {\"gridcolor\": \"white\", \"linecolor\": \"white\", \"ticks\": \"\"}, \"baxis\": {\"gridcolor\": \"white\", \"linecolor\": \"white\", \"ticks\": \"\"}, \"bgcolor\": \"#E5ECF6\", \"caxis\": {\"gridcolor\": \"white\", \"linecolor\": \"white\", \"ticks\": \"\"}}, \"title\": {\"x\": 0.05}, \"xaxis\": {\"automargin\": true, \"gridcolor\": \"white\", \"linecolor\": \"white\", \"ticks\": \"\", \"title\": {\"standoff\": 15}, \"zerolinecolor\": \"white\", \"zerolinewidth\": 2}, \"yaxis\": {\"automargin\": true, \"gridcolor\": \"white\", \"linecolor\": \"white\", \"ticks\": \"\", \"title\": {\"standoff\": 15}, \"zerolinecolor\": \"white\", \"zerolinewidth\": 2}}}},\n",
              "                        {\"responsive\": true}\n",
              "                    ).then(function(){\n",
              "                            \n",
              "var gd = document.getElementById('a089681d-0e41-476a-bbbc-fbcde1eb9dbc');\n",
              "var x = new MutationObserver(function (mutations, observer) {{\n",
              "        var display = window.getComputedStyle(gd).display;\n",
              "        if (!display || display === 'none') {{\n",
              "            console.log([gd, 'removed!']);\n",
              "            Plotly.purge(gd);\n",
              "            observer.disconnect();\n",
              "        }}\n",
              "}});\n",
              "\n",
              "// Listen for the removal of the full notebook cells\n",
              "var notebookContainer = gd.closest('#notebook-container');\n",
              "if (notebookContainer) {{\n",
              "    x.observe(notebookContainer, {childList: true});\n",
              "}}\n",
              "\n",
              "// Listen for the clearing of the current output cell\n",
              "var outputEl = gd.closest('.output');\n",
              "if (outputEl) {{\n",
              "    x.observe(outputEl, {childList: true});\n",
              "}}\n",
              "\n",
              "                        })\n",
              "                };\n",
              "                \n",
              "            </script>\n",
              "        </div>\n",
              "</body>\n",
              "</html>"
            ]
          },
          "metadata": {
            "tags": []
          }
        }
      ]
    },
    {
      "cell_type": "markdown",
      "metadata": {
        "id": "T7Ax3U61aA9N"
      },
      "source": [
        "Some of the things that I can conclude from the chat above are as follows:\r\n",
        "1. As many as 50% of visitors leave the website before they even conduct a product search.\r\n",
        "2. Only about 7% of all visitors reached the checkout page (losing about 86.7% of visitors from search pages).\r\n",
        "3. Only about 1% of all visitors who decided to buy the product (lost 92.5% of visitors from the payment page).\r\n",
        "\r\n"
      ]
    },
    {
      "cell_type": "markdown",
      "metadata": {
        "id": "NolMxhYhSt_L"
      },
      "source": [
        "### **What factors are causing the low conversion rate and big bounce percentage?**\r\n",
        "\r\n",
        "To dig into the reasons, we will try to do segmentation analysis to segment the data and see which section performs the worst concerning conversion rate."
      ]
    },
    {
      "cell_type": "markdown",
      "metadata": {
        "id": "7nsnZgpGlBb6"
      },
      "source": [
        "### **Segmentation Analysis**\r\n",
        "\r\n",
        "Based on what we have in our data set, I will do the following:\r\n",
        "*   Segmentation based on gender\r\n",
        "*   Segmentation based on device\r\n",
        "\r\n"
      ]
    },
    {
      "cell_type": "code",
      "metadata": {
        "colab": {
          "base_uri": "https://localhost:8080/",
          "height": 394
        },
        "id": "XY9BjDD_R6dS",
        "outputId": "42be5dc4-89ac-4086-8a59-cc3c6865748c"
      },
      "source": [
        "plt.figure(figsize=(3,6))\r\n",
        "sns.set(style='white')\r\n",
        "ax = sns.countplot(x='device', hue='sex',data=df)\r\n",
        "ax.spines['top'].set_color('none')\r\n",
        "ax.spines['right'].set_color('none')\r\n",
        "ax.grid(False)"
      ],
      "execution_count": 15,
      "outputs": [
        {
          "output_type": "display_data",
          "data": {
            "image/png": "[encoded data removed]",
            "text/plain": [
              "<Figure size 216x432 with 1 Axes>"
            ]
          },
          "metadata": {
            "tags": [],
            "needs_background": "light"
          }
        }
      ]
    },
    {
      "cell_type": "markdown",
      "metadata": {
        "id": "312MbcDXm4Ls"
      },
      "source": [
        "From the graph, it can be seen that the differences between men and women are almost the same for each device. However, it is clear that twice as many visitors as mobile use a desktop."
      ]
    },
    {
      "cell_type": "code",
      "metadata": {
        "colab": {
          "base_uri": "https://localhost:8080/",
          "height": 210
        },
        "id": "rnYdW_76txaV",
        "outputId": "c9be06c0-ddb8-46d6-f553-2ca24aa82b6c"
      },
      "source": [
        "df_count = df.groupby(['sex'])[\"home_page\", \"search_page\", \"payment_page\", \"payment_confirmation_page\"].sum()\r\n",
        "df_count"
      ],
      "execution_count": 16,
      "outputs": [
        {
          "output_type": "stream",
          "text": [
            "/usr/local/lib/python3.6/dist-packages/ipykernel_launcher.py:1: FutureWarning:\n",
            "\n",
            "Indexing with multiple keys (implicitly converted to a tuple of keys) will be deprecated, use a list instead.\n",
            "\n"
          ],
          "name": "stderr"
        },
        {
          "output_type": "execute_result",
          "data": {
            "text/html": [
              "<div>\n",
              "<style scoped>\n",
              "    .dataframe tbody tr th:only-of-type {\n",
              "        vertical-align: middle;\n",
              "    }\n",
              "\n",
              "    .dataframe tbody tr th {\n",
              "        vertical-align: top;\n",
              "    }\n",
              "\n",
              "    .dataframe thead th {\n",
              "        text-align: right;\n",
              "    }\n",
              "</style>\n",
              "<table border=\"1\" class=\"dataframe\">\n",
              "  <thead>\n",
              "    <tr style=\"text-align: right;\">\n",
              "      <th></th>\n",
              "      <th>home_page</th>\n",
              "      <th>search_page</th>\n",
              "      <th>payment_page</th>\n",
              "      <th>payment_confirmation_page</th>\n",
              "    </tr>\n",
              "    <tr>\n",
              "      <th>sex</th>\n",
              "      <th></th>\n",
              "      <th></th>\n",
              "      <th></th>\n",
              "      <th></th>\n",
              "    </tr>\n",
              "  </thead>\n",
              "  <tbody>\n",
              "    <tr>\n",
              "      <th>Female</th>\n",
              "      <td>45075</td>\n",
              "      <td>22676.0</td>\n",
              "      <td>3100.0</td>\n",
              "      <td>241.0</td>\n",
              "    </tr>\n",
              "    <tr>\n",
              "      <th>Male</th>\n",
              "      <td>45325</td>\n",
              "      <td>22524.0</td>\n",
              "      <td>2930.0</td>\n",
              "      <td>211.0</td>\n",
              "    </tr>\n",
              "  </tbody>\n",
              "</table>\n",
              "</div>"
            ],
            "text/plain": [
              "        home_page  search_page  payment_page  payment_confirmation_page\n",
              "sex                                                                    \n",
              "Female      45075      22676.0        3100.0                      241.0\n",
              "Male        45325      22524.0        2930.0                      211.0"
            ]
          },
          "metadata": {
            "tags": []
          },
          "execution_count": 16
        }
      ]
    },
    {
      "cell_type": "code",
      "metadata": {
        "colab": {
          "base_uri": "https://localhost:8080/",
          "height": 542
        },
        "id": "r5aUVVeUfJHU",
        "outputId": "451d5f68-e090-4026-ce2c-f63ff2c25938"
      },
      "source": [
        "fig = go.Figure()\r\n",
        "\r\n",
        "fig.add_trace(go.Funnel(\r\n",
        "    name = 'Female',\r\n",
        "    y = [\"home_page\", \"search_page\", \"payment_page\", \"payment_confirmation_page\"],\r\n",
        "    x = df_count.loc['Female'],\r\n",
        "    textposition = \"inside\",\r\n",
        "    textinfo = \"value+percent initial\"))\r\n",
        "\r\n",
        "fig.add_trace(go.Funnel(\r\n",
        "    name = 'Male',\r\n",
        "    orientation = \"h\",\r\n",
        "    y = [\"home_page\", \"search_page\", \"payment_page\", \"payment_confirmation_page\"],\r\n",
        "    x = df_count.loc['Male'],\r\n",
        "    textposition = \"outside\",\r\n",
        "    textinfo = \"value+percent initial\"))\r\n",
        "\r\n",
        "fig.show()\r\n"
      ],
      "execution_count": 17,
      "outputs": [
        {
          "output_type": "display_data",
          "data": {
            "text/html": [
              "<html>\n",
              "<head><meta charset=\"utf-8\" /></head>\n",
              "<body>\n",
              "    <div>\n",
              "            <script src=\"https://cdnjs.cloudflare.com/ajax/libs/mathjax/2.7.5/MathJax.js?config=TeX-AMS-MML_SVG\"></script><script type=\"text/javascript\">if (window.MathJax) {MathJax.Hub.Config({SVG: {font: \"STIX-Web\"}});}</script>\n",
              "                <script type=\"text/javascript\">window.PlotlyConfig = {MathJaxConfig: 'local'};</script>\n",
              "        <script src=\"https://cdn.plot.ly/plotly-latest.min.js\"></script>    \n",
              "            <div id=\"23f1c3d9-180f-4f7b-86ec-1b9186ba5796\" class=\"plotly-graph-div\" style=\"height:525px; width:100%;\"></div>\n",
              "            <script type=\"text/javascript\">\n",
              "                \n",
              "                    window.PLOTLYENV=window.PLOTLYENV || {};\n",
              "                    \n",
              "                if (document.getElementById(\"23f1c3d9-180f-4f7b-86ec-1b9186ba5796\")) {\n",
              "                    Plotly.newPlot(\n",
              "                        '23f1c3d9-180f-4f7b-86ec-1b9186ba5796',\n",
              "                        [{\"name\": \"Female\", \"textinfo\": \"value+percent initial\", \"textposition\": \"inside\", \"type\": \"funnel\", \"x\": [45075.0, 22676.0, 3100.0, 241.0], \"y\": [\"home_page\", \"search_page\", \"payment_page\", \"payment_confirmation_page\"]}, {\"name\": \"Male\", \"orientation\": \"h\", \"textinfo\": \"value+percent initial\", \"textposition\": \"outside\", \"type\": \"funnel\", \"x\": [45325.0, 22524.0, 2930.0, 211.0], \"y\": [\"home_page\", \"search_page\", \"payment_page\", \"payment_confirmation_page\"]}],\n",
              "                        {\"template\": {\"data\": {\"bar\": [{\"error_x\": {\"color\": \"#2a3f5f\"}, \"error_y\": {\"color\": \"#2a3f5f\"}, \"marker\": {\"line\": {\"color\": \"#E5ECF6\", \"width\": 0.5}}, \"type\": \"bar\"}], \"barpolar\": [{\"marker\": {\"line\": {\"color\": \"#E5ECF6\", \"width\": 0.5}}, \"type\": \"barpolar\"}], \"carpet\": [{\"aaxis\": {\"endlinecolor\": \"#2a3f5f\", \"gridcolor\": \"white\", \"linecolor\": \"white\", \"minorgridcolor\": \"white\", \"startlinecolor\": \"#2a3f5f\"}, \"baxis\": {\"endlinecolor\": \"#2a3f5f\", \"gridcolor\": \"white\", \"linecolor\": \"white\", \"minorgridcolor\": \"white\", \"startlinecolor\": \"#2a3f5f\"}, \"type\": \"carpet\"}], \"choropleth\": [{\"colorbar\": {\"outlinewidth\": 0, \"ticks\": \"\"}, \"type\": \"choropleth\"}], \"contour\": [{\"colorbar\": {\"outlinewidth\": 0, \"ticks\": \"\"}, \"colorscale\": [[0.0, \"#0d0887\"], [0.1111111111111111, \"#46039f\"], [0.2222222222222222, \"#7201a8\"], [0.3333333333333333, \"#9c179e\"], [0.4444444444444444, \"#bd3786\"], [0.5555555555555556, \"#d8576b\"], [0.6666666666666666, \"#ed7953\"], [0.7777777777777778, \"#fb9f3a\"], [0.8888888888888888, \"#fdca26\"], [1.0, \"#f0f921\"]], \"type\": \"contour\"}], \"contourcarpet\": [{\"colorbar\": {\"outlinewidth\": 0, \"ticks\": \"\"}, \"type\": \"contourcarpet\"}], \"heatmap\": [{\"colorbar\": {\"outlinewidth\": 0, \"ticks\": \"\"}, \"colorscale\": [[0.0, \"#0d0887\"], [0.1111111111111111, \"#46039f\"], [0.2222222222222222, \"#7201a8\"], [0.3333333333333333, \"#9c179e\"], [0.4444444444444444, \"#bd3786\"], [0.5555555555555556, \"#d8576b\"], [0.6666666666666666, \"#ed7953\"], [0.7777777777777778, \"#fb9f3a\"], [0.8888888888888888, \"#fdca26\"], [1.0, \"#f0f921\"]], \"type\": \"heatmap\"}], \"heatmapgl\": [{\"colorbar\": {\"outlinewidth\": 0, \"ticks\": \"\"}, \"colorscale\": [[0.0, \"#0d0887\"], [0.1111111111111111, \"#46039f\"], [0.2222222222222222, \"#7201a8\"], [0.3333333333333333, \"#9c179e\"], [0.4444444444444444, \"#bd3786\"], [0.5555555555555556, \"#d8576b\"], [0.6666666666666666, \"#ed7953\"], [0.7777777777777778, \"#fb9f3a\"], [0.8888888888888888, \"#fdca26\"], [1.0, \"#f0f921\"]], \"type\": \"heatmapgl\"}], \"histogram\": [{\"marker\": {\"colorbar\": {\"outlinewidth\": 0, \"ticks\": \"\"}}, \"type\": \"histogram\"}], \"histogram2d\": [{\"colorbar\": {\"outlinewidth\": 0, \"ticks\": \"\"}, \"colorscale\": [[0.0, \"#0d0887\"], [0.1111111111111111, \"#46039f\"], [0.2222222222222222, \"#7201a8\"], [0.3333333333333333, \"#9c179e\"], [0.4444444444444444, \"#bd3786\"], [0.5555555555555556, \"#d8576b\"], [0.6666666666666666, \"#ed7953\"], [0.7777777777777778, \"#fb9f3a\"], [0.8888888888888888, \"#fdca26\"], [1.0, \"#f0f921\"]], \"type\": \"histogram2d\"}], \"histogram2dcontour\": [{\"colorbar\": {\"outlinewidth\": 0, \"ticks\": \"\"}, \"colorscale\": [[0.0, \"#0d0887\"], [0.1111111111111111, \"#46039f\"], [0.2222222222222222, \"#7201a8\"], [0.3333333333333333, \"#9c179e\"], [0.4444444444444444, \"#bd3786\"], [0.5555555555555556, \"#d8576b\"], [0.6666666666666666, \"#ed7953\"], [0.7777777777777778, \"#fb9f3a\"], [0.8888888888888888, \"#fdca26\"], [1.0, \"#f0f921\"]], \"type\": \"histogram2dcontour\"}], \"mesh3d\": [{\"colorbar\": {\"outlinewidth\": 0, \"ticks\": \"\"}, \"type\": \"mesh3d\"}], \"parcoords\": [{\"line\": {\"colorbar\": {\"outlinewidth\": 0, \"ticks\": \"\"}}, \"type\": \"parcoords\"}], \"pie\": [{\"automargin\": true, \"type\": \"pie\"}], \"scatter\": [{\"marker\": {\"colorbar\": {\"outlinewidth\": 0, \"ticks\": \"\"}}, \"type\": \"scatter\"}], \"scatter3d\": [{\"line\": {\"colorbar\": {\"outlinewidth\": 0, \"ticks\": \"\"}}, \"marker\": {\"colorbar\": {\"outlinewidth\": 0, \"ticks\": \"\"}}, \"type\": \"scatter3d\"}], \"scattercarpet\": [{\"marker\": {\"colorbar\": {\"outlinewidth\": 0, \"ticks\": \"\"}}, \"type\": \"scattercarpet\"}], \"scattergeo\": [{\"marker\": {\"colorbar\": {\"outlinewidth\": 0, \"ticks\": \"\"}}, \"type\": \"scattergeo\"}], \"scattergl\": [{\"marker\": {\"colorbar\": {\"outlinewidth\": 0, \"ticks\": \"\"}}, \"type\": \"scattergl\"}], \"scattermapbox\": [{\"marker\": {\"colorbar\": {\"outlinewidth\": 0, \"ticks\": \"\"}}, \"type\": \"scattermapbox\"}], \"scatterpolar\": [{\"marker\": {\"colorbar\": {\"outlinewidth\": 0, \"ticks\": \"\"}}, \"type\": \"scatterpolar\"}], \"scatterpolargl\": [{\"marker\": {\"colorbar\": {\"outlinewidth\": 0, \"ticks\": \"\"}}, \"type\": \"scatterpolargl\"}], \"scatterternary\": [{\"marker\": {\"colorbar\": {\"outlinewidth\": 0, \"ticks\": \"\"}}, \"type\": \"scatterternary\"}], \"surface\": [{\"colorbar\": {\"outlinewidth\": 0, \"ticks\": \"\"}, \"colorscale\": [[0.0, \"#0d0887\"], [0.1111111111111111, \"#46039f\"], [0.2222222222222222, \"#7201a8\"], [0.3333333333333333, \"#9c179e\"], [0.4444444444444444, \"#bd3786\"], [0.5555555555555556, \"#d8576b\"], [0.6666666666666666, \"#ed7953\"], [0.7777777777777778, \"#fb9f3a\"], [0.8888888888888888, \"#fdca26\"], [1.0, \"#f0f921\"]], \"type\": \"surface\"}], \"table\": [{\"cells\": {\"fill\": {\"color\": \"#EBF0F8\"}, \"line\": {\"color\": \"white\"}}, \"header\": {\"fill\": {\"color\": \"#C8D4E3\"}, \"line\": {\"color\": \"white\"}}, \"type\": \"table\"}]}, \"layout\": {\"annotationdefaults\": {\"arrowcolor\": \"#2a3f5f\", \"arrowhead\": 0, \"arrowwidth\": 1}, \"coloraxis\": {\"colorbar\": {\"outlinewidth\": 0, \"ticks\": \"\"}}, \"colorscale\": {\"diverging\": [[0, \"#8e0152\"], [0.1, \"#c51b7d\"], [0.2, \"#de77ae\"], [0.3, \"#f1b6da\"], [0.4, \"#fde0ef\"], [0.5, \"#f7f7f7\"], [0.6, \"#e6f5d0\"], [0.7, \"#b8e186\"], [0.8, \"#7fbc41\"], [0.9, \"#4d9221\"], [1, \"#276419\"]], \"sequential\": [[0.0, \"#0d0887\"], [0.1111111111111111, \"#46039f\"], [0.2222222222222222, \"#7201a8\"], [0.3333333333333333, \"#9c179e\"], [0.4444444444444444, \"#bd3786\"], [0.5555555555555556, \"#d8576b\"], [0.6666666666666666, \"#ed7953\"], [0.7777777777777778, \"#fb9f3a\"], [0.8888888888888888, \"#fdca26\"], [1.0, \"#f0f921\"]], \"sequentialminus\": [[0.0, \"#0d0887\"], [0.1111111111111111, \"#46039f\"], [0.2222222222222222, \"#7201a8\"], [0.3333333333333333, \"#9c179e\"], [0.4444444444444444, \"#bd3786\"], [0.5555555555555556, \"#d8576b\"], [0.6666666666666666, \"#ed7953\"], [0.7777777777777778, \"#fb9f3a\"], [0.8888888888888888, \"#fdca26\"], [1.0, \"#f0f921\"]]}, \"colorway\": [\"#636efa\", \"#EF553B\", \"#00cc96\", \"#ab63fa\", \"#FFA15A\", \"#19d3f3\", \"#FF6692\", \"#B6E880\", \"#FF97FF\", \"#FECB52\"], \"font\": {\"color\": \"#2a3f5f\"}, \"geo\": {\"bgcolor\": \"white\", \"lakecolor\": \"white\", \"landcolor\": \"#E5ECF6\", \"showlakes\": true, \"showland\": true, \"subunitcolor\": \"white\"}, \"hoverlabel\": {\"align\": \"left\"}, \"hovermode\": \"closest\", \"mapbox\": {\"style\": \"light\"}, \"paper_bgcolor\": \"white\", \"plot_bgcolor\": \"#E5ECF6\", \"polar\": {\"angularaxis\": {\"gridcolor\": \"white\", \"linecolor\": \"white\", \"ticks\": \"\"}, \"bgcolor\": \"#E5ECF6\", \"radialaxis\": {\"gridcolor\": \"white\", \"linecolor\": \"white\", \"ticks\": \"\"}}, \"scene\": {\"xaxis\": {\"backgroundcolor\": \"#E5ECF6\", \"gridcolor\": \"white\", \"gridwidth\": 2, \"linecolor\": \"white\", \"showbackground\": true, \"ticks\": \"\", \"zerolinecolor\": \"white\"}, \"yaxis\": {\"backgroundcolor\": \"#E5ECF6\", \"gridcolor\": \"white\", \"gridwidth\": 2, \"linecolor\": \"white\", \"showbackground\": true, \"ticks\": \"\", \"zerolinecolor\": \"white\"}, \"zaxis\": {\"backgroundcolor\": \"#E5ECF6\", \"gridcolor\": \"white\", \"gridwidth\": 2, \"linecolor\": \"white\", \"showbackground\": true, \"ticks\": \"\", \"zerolinecolor\": \"white\"}}, \"shapedefaults\": {\"line\": {\"color\": \"#2a3f5f\"}}, \"ternary\": {\"aaxis\": {\"gridcolor\": \"white\", \"linecolor\": \"white\", \"ticks\": \"\"}, \"baxis\": {\"gridcolor\": \"white\", \"linecolor\": \"white\", \"ticks\": \"\"}, \"bgcolor\": \"#E5ECF6\", \"caxis\": {\"gridcolor\": \"white\", \"linecolor\": \"white\", \"ticks\": \"\"}}, \"title\": {\"x\": 0.05}, \"xaxis\": {\"automargin\": true, \"gridcolor\": \"white\", \"linecolor\": \"white\", \"ticks\": \"\", \"title\": {\"standoff\": 15}, \"zerolinecolor\": \"white\", \"zerolinewidth\": 2}, \"yaxis\": {\"automargin\": true, \"gridcolor\": \"white\", \"linecolor\": \"white\", \"ticks\": \"\", \"title\": {\"standoff\": 15}, \"zerolinecolor\": \"white\", \"zerolinewidth\": 2}}}},\n",
              "                        {\"responsive\": true}\n",
              "                    ).then(function(){\n",
              "                            \n",
              "var gd = document.getElementById('23f1c3d9-180f-4f7b-86ec-1b9186ba5796');\n",
              "var x = new MutationObserver(function (mutations, observer) {{\n",
              "        var display = window.getComputedStyle(gd).display;\n",
              "        if (!display || display === 'none') {{\n",
              "            console.log([gd, 'removed!']);\n",
              "            Plotly.purge(gd);\n",
              "            observer.disconnect();\n",
              "        }}\n",
              "}});\n",
              "\n",
              "// Listen for the removal of the full notebook cells\n",
              "var notebookContainer = gd.closest('#notebook-container');\n",
              "if (notebookContainer) {{\n",
              "    x.observe(notebookContainer, {childList: true});\n",
              "}}\n",
              "\n",
              "// Listen for the clearing of the current output cell\n",
              "var outputEl = gd.closest('.output');\n",
              "if (outputEl) {{\n",
              "    x.observe(outputEl, {childList: true});\n",
              "}}\n",
              "\n",
              "                        })\n",
              "                };\n",
              "                \n",
              "            </script>\n",
              "        </div>\n",
              "</body>\n",
              "</html>"
            ]
          },
          "metadata": {
            "tags": []
          }
        }
      ]
    },
    {
      "cell_type": "markdown",
      "metadata": {
        "id": "zpSV340F0rYT"
      },
      "source": [
        "The segmentation analysis based on gender did not show any differences between the two. So, we need to do another analysis to find out the cause of the bounce percentage."
      ]
    },
    {
      "cell_type": "code",
      "metadata": {
        "colab": {
          "base_uri": "https://localhost:8080/",
          "height": 210
        },
        "id": "MZ_WCfgzt5Mq",
        "outputId": "c575c162-8d06-417f-aecb-2fadd24bf391"
      },
      "source": [
        "df_count_2 = df.groupby(['device'])[\"home_page\", \"search_page\", \"payment_page\", \"payment_confirmation_page\"].sum()\r\n",
        "df_count_2"
      ],
      "execution_count": 18,
      "outputs": [
        {
          "output_type": "stream",
          "text": [
            "/usr/local/lib/python3.6/dist-packages/ipykernel_launcher.py:1: FutureWarning:\n",
            "\n",
            "Indexing with multiple keys (implicitly converted to a tuple of keys) will be deprecated, use a list instead.\n",
            "\n"
          ],
          "name": "stderr"
        },
        {
          "output_type": "execute_result",
          "data": {
            "text/html": [
              "<div>\n",
              "<style scoped>\n",
              "    .dataframe tbody tr th:only-of-type {\n",
              "        vertical-align: middle;\n",
              "    }\n",
              "\n",
              "    .dataframe tbody tr th {\n",
              "        vertical-align: top;\n",
              "    }\n",
              "\n",
              "    .dataframe thead th {\n",
              "        text-align: right;\n",
              "    }\n",
              "</style>\n",
              "<table border=\"1\" class=\"dataframe\">\n",
              "  <thead>\n",
              "    <tr style=\"text-align: right;\">\n",
              "      <th></th>\n",
              "      <th>home_page</th>\n",
              "      <th>search_page</th>\n",
              "      <th>payment_page</th>\n",
              "      <th>payment_confirmation_page</th>\n",
              "    </tr>\n",
              "    <tr>\n",
              "      <th>device</th>\n",
              "      <th></th>\n",
              "      <th></th>\n",
              "      <th></th>\n",
              "      <th></th>\n",
              "    </tr>\n",
              "  </thead>\n",
              "  <tbody>\n",
              "    <tr>\n",
              "      <th>Desktop</th>\n",
              "      <td>60200</td>\n",
              "      <td>30100.0</td>\n",
              "      <td>3010.0</td>\n",
              "      <td>150.0</td>\n",
              "    </tr>\n",
              "    <tr>\n",
              "      <th>Mobile</th>\n",
              "      <td>30200</td>\n",
              "      <td>15100.0</td>\n",
              "      <td>3020.0</td>\n",
              "      <td>302.0</td>\n",
              "    </tr>\n",
              "  </tbody>\n",
              "</table>\n",
              "</div>"
            ],
            "text/plain": [
              "         home_page  search_page  payment_page  payment_confirmation_page\n",
              "device                                                                  \n",
              "Desktop      60200      30100.0        3010.0                      150.0\n",
              "Mobile       30200      15100.0        3020.0                      302.0"
            ]
          },
          "metadata": {
            "tags": []
          },
          "execution_count": 18
        }
      ]
    },
    {
      "cell_type": "code",
      "metadata": {
        "colab": {
          "base_uri": "https://localhost:8080/",
          "height": 542
        },
        "id": "2vOOvt6m7YQN",
        "outputId": "8c56cce1-fef3-400c-f6b9-ac1ab7a1cb1d"
      },
      "source": [
        "fig = go.Figure()\r\n",
        "\r\n",
        "fig.add_trace(go.Funnel(\r\n",
        "    name = 'Desktop',\r\n",
        "    y = [\"home_page\", \"search_page\", \"payment_page\", \"payment_confirmation_page\"],\r\n",
        "    x = df_count_2.loc['Desktop'],\r\n",
        "    textposition = \"inside\",\r\n",
        "    textinfo = \"value+percent initial\"))\r\n",
        "\r\n",
        "fig.add_trace(go.Funnel(\r\n",
        "    name = 'Mobile',\r\n",
        "    orientation = \"h\",\r\n",
        "    y = [\"home_page\", \"search_page\", \"payment_page\", \"payment_confirmation_page\"],\r\n",
        "    x = df_count_2.loc['Mobile'],\r\n",
        "    textposition = \"outside\",\r\n",
        "    textinfo = \"value+percent initial\"))\r\n",
        "\r\n",
        "fig.show()"
      ],
      "execution_count": 19,
      "outputs": [
        {
          "output_type": "display_data",
          "data": {
            "text/html": [
              "<html>\n",
              "<head><meta charset=\"utf-8\" /></head>\n",
              "<body>\n",
              "    <div>\n",
              "            <script src=\"https://cdnjs.cloudflare.com/ajax/libs/mathjax/2.7.5/MathJax.js?config=TeX-AMS-MML_SVG\"></script><script type=\"text/javascript\">if (window.MathJax) {MathJax.Hub.Config({SVG: {font: \"STIX-Web\"}});}</script>\n",
              "                <script type=\"text/javascript\">window.PlotlyConfig = {MathJaxConfig: 'local'};</script>\n",
              "        <script src=\"https://cdn.plot.ly/plotly-latest.min.js\"></script>    \n",
              "            <div id=\"d370b07e-881b-43e5-8078-799ed6909fb8\" class=\"plotly-graph-div\" style=\"height:525px; width:100%;\"></div>\n",
              "            <script type=\"text/javascript\">\n",
              "                \n",
              "                    window.PLOTLYENV=window.PLOTLYENV || {};\n",
              "                    \n",
              "                if (document.getElementById(\"d370b07e-881b-43e5-8078-799ed6909fb8\")) {\n",
              "                    Plotly.newPlot(\n",
              "                        'd370b07e-881b-43e5-8078-799ed6909fb8',\n",
              "                        [{\"name\": \"Desktop\", \"textinfo\": \"value+percent initial\", \"textposition\": \"inside\", \"type\": \"funnel\", \"x\": [60200.0, 30100.0, 3010.0, 150.0], \"y\": [\"home_page\", \"search_page\", \"payment_page\", \"payment_confirmation_page\"]}, {\"name\": \"Mobile\", \"orientation\": \"h\", \"textinfo\": \"value+percent initial\", \"textposition\": \"outside\", \"type\": \"funnel\", \"x\": [30200.0, 15100.0, 3020.0, 302.0], \"y\": [\"home_page\", \"search_page\", \"payment_page\", \"payment_confirmation_page\"]}],\n",
              "                        {\"template\": {\"data\": {\"bar\": [{\"error_x\": {\"color\": \"#2a3f5f\"}, \"error_y\": {\"color\": \"#2a3f5f\"}, \"marker\": {\"line\": {\"color\": \"#E5ECF6\", \"width\": 0.5}}, \"type\": \"bar\"}], \"barpolar\": [{\"marker\": {\"line\": {\"color\": \"#E5ECF6\", \"width\": 0.5}}, \"type\": \"barpolar\"}], \"carpet\": [{\"aaxis\": {\"endlinecolor\": \"#2a3f5f\", \"gridcolor\": \"white\", \"linecolor\": \"white\", \"minorgridcolor\": \"white\", \"startlinecolor\": \"#2a3f5f\"}, \"baxis\": {\"endlinecolor\": \"#2a3f5f\", \"gridcolor\": \"white\", \"linecolor\": \"white\", \"minorgridcolor\": \"white\", \"startlinecolor\": \"#2a3f5f\"}, \"type\": \"carpet\"}], \"choropleth\": [{\"colorbar\": {\"outlinewidth\": 0, \"ticks\": \"\"}, \"type\": \"choropleth\"}], \"contour\": [{\"colorbar\": {\"outlinewidth\": 0, \"ticks\": \"\"}, \"colorscale\": [[0.0, \"#0d0887\"], [0.1111111111111111, \"#46039f\"], [0.2222222222222222, \"#7201a8\"], [0.3333333333333333, \"#9c179e\"], [0.4444444444444444, \"#bd3786\"], [0.5555555555555556, \"#d8576b\"], [0.6666666666666666, \"#ed7953\"], [0.7777777777777778, \"#fb9f3a\"], [0.8888888888888888, \"#fdca26\"], [1.0, \"#f0f921\"]], \"type\": \"contour\"}], \"contourcarpet\": [{\"colorbar\": {\"outlinewidth\": 0, \"ticks\": \"\"}, \"type\": \"contourcarpet\"}], \"heatmap\": [{\"colorbar\": {\"outlinewidth\": 0, \"ticks\": \"\"}, \"colorscale\": [[0.0, \"#0d0887\"], [0.1111111111111111, \"#46039f\"], [0.2222222222222222, \"#7201a8\"], [0.3333333333333333, \"#9c179e\"], [0.4444444444444444, \"#bd3786\"], [0.5555555555555556, \"#d8576b\"], [0.6666666666666666, \"#ed7953\"], [0.7777777777777778, \"#fb9f3a\"], [0.8888888888888888, \"#fdca26\"], [1.0, \"#f0f921\"]], \"type\": \"heatmap\"}], \"heatmapgl\": [{\"colorbar\": {\"outlinewidth\": 0, \"ticks\": \"\"}, \"colorscale\": [[0.0, \"#0d0887\"], [0.1111111111111111, \"#46039f\"], [0.2222222222222222, \"#7201a8\"], [0.3333333333333333, \"#9c179e\"], [0.4444444444444444, \"#bd3786\"], [0.5555555555555556, \"#d8576b\"], [0.6666666666666666, \"#ed7953\"], [0.7777777777777778, \"#fb9f3a\"], [0.8888888888888888, \"#fdca26\"], [1.0, \"#f0f921\"]], \"type\": \"heatmapgl\"}], \"histogram\": [{\"marker\": {\"colorbar\": {\"outlinewidth\": 0, \"ticks\": \"\"}}, \"type\": \"histogram\"}], \"histogram2d\": [{\"colorbar\": {\"outlinewidth\": 0, \"ticks\": \"\"}, \"colorscale\": [[0.0, \"#0d0887\"], [0.1111111111111111, \"#46039f\"], [0.2222222222222222, \"#7201a8\"], [0.3333333333333333, \"#9c179e\"], [0.4444444444444444, \"#bd3786\"], [0.5555555555555556, \"#d8576b\"], [0.6666666666666666, \"#ed7953\"], [0.7777777777777778, \"#fb9f3a\"], [0.8888888888888888, \"#fdca26\"], [1.0, \"#f0f921\"]], \"type\": \"histogram2d\"}], \"histogram2dcontour\": [{\"colorbar\": {\"outlinewidth\": 0, \"ticks\": \"\"}, \"colorscale\": [[0.0, \"#0d0887\"], [0.1111111111111111, \"#46039f\"], [0.2222222222222222, \"#7201a8\"], [0.3333333333333333, \"#9c179e\"], [0.4444444444444444, \"#bd3786\"], [0.5555555555555556, \"#d8576b\"], [0.6666666666666666, \"#ed7953\"], [0.7777777777777778, \"#fb9f3a\"], [0.8888888888888888, \"#fdca26\"], [1.0, \"#f0f921\"]], \"type\": \"histogram2dcontour\"}], \"mesh3d\": [{\"colorbar\": {\"outlinewidth\": 0, \"ticks\": \"\"}, \"type\": \"mesh3d\"}], \"parcoords\": [{\"line\": {\"colorbar\": {\"outlinewidth\": 0, \"ticks\": \"\"}}, \"type\": \"parcoords\"}], \"pie\": [{\"automargin\": true, \"type\": \"pie\"}], \"scatter\": [{\"marker\": {\"colorbar\": {\"outlinewidth\": 0, \"ticks\": \"\"}}, \"type\": \"scatter\"}], \"scatter3d\": [{\"line\": {\"colorbar\": {\"outlinewidth\": 0, \"ticks\": \"\"}}, \"marker\": {\"colorbar\": {\"outlinewidth\": 0, \"ticks\": \"\"}}, \"type\": \"scatter3d\"}], \"scattercarpet\": [{\"marker\": {\"colorbar\": {\"outlinewidth\": 0, \"ticks\": \"\"}}, \"type\": \"scattercarpet\"}], \"scattergeo\": [{\"marker\": {\"colorbar\": {\"outlinewidth\": 0, \"ticks\": \"\"}}, \"type\": \"scattergeo\"}], \"scattergl\": [{\"marker\": {\"colorbar\": {\"outlinewidth\": 0, \"ticks\": \"\"}}, \"type\": \"scattergl\"}], \"scattermapbox\": [{\"marker\": {\"colorbar\": {\"outlinewidth\": 0, \"ticks\": \"\"}}, \"type\": \"scattermapbox\"}], \"scatterpolar\": [{\"marker\": {\"colorbar\": {\"outlinewidth\": 0, \"ticks\": \"\"}}, \"type\": \"scatterpolar\"}], \"scatterpolargl\": [{\"marker\": {\"colorbar\": {\"outlinewidth\": 0, \"ticks\": \"\"}}, \"type\": \"scatterpolargl\"}], \"scatterternary\": [{\"marker\": {\"colorbar\": {\"outlinewidth\": 0, \"ticks\": \"\"}}, \"type\": \"scatterternary\"}], \"surface\": [{\"colorbar\": {\"outlinewidth\": 0, \"ticks\": \"\"}, \"colorscale\": [[0.0, \"#0d0887\"], [0.1111111111111111, \"#46039f\"], [0.2222222222222222, \"#7201a8\"], [0.3333333333333333, \"#9c179e\"], [0.4444444444444444, \"#bd3786\"], [0.5555555555555556, \"#d8576b\"], [0.6666666666666666, \"#ed7953\"], [0.7777777777777778, \"#fb9f3a\"], [0.8888888888888888, \"#fdca26\"], [1.0, \"#f0f921\"]], \"type\": \"surface\"}], \"table\": [{\"cells\": {\"fill\": {\"color\": \"#EBF0F8\"}, \"line\": {\"color\": \"white\"}}, \"header\": {\"fill\": {\"color\": \"#C8D4E3\"}, \"line\": {\"color\": \"white\"}}, \"type\": \"table\"}]}, \"layout\": {\"annotationdefaults\": {\"arrowcolor\": \"#2a3f5f\", \"arrowhead\": 0, \"arrowwidth\": 1}, \"coloraxis\": {\"colorbar\": {\"outlinewidth\": 0, \"ticks\": \"\"}}, \"colorscale\": {\"diverging\": [[0, \"#8e0152\"], [0.1, \"#c51b7d\"], [0.2, \"#de77ae\"], [0.3, \"#f1b6da\"], [0.4, \"#fde0ef\"], [0.5, \"#f7f7f7\"], [0.6, \"#e6f5d0\"], [0.7, \"#b8e186\"], [0.8, \"#7fbc41\"], [0.9, \"#4d9221\"], [1, \"#276419\"]], \"sequential\": [[0.0, \"#0d0887\"], [0.1111111111111111, \"#46039f\"], [0.2222222222222222, \"#7201a8\"], [0.3333333333333333, \"#9c179e\"], [0.4444444444444444, \"#bd3786\"], [0.5555555555555556, \"#d8576b\"], [0.6666666666666666, \"#ed7953\"], [0.7777777777777778, \"#fb9f3a\"], [0.8888888888888888, \"#fdca26\"], [1.0, \"#f0f921\"]], \"sequentialminus\": [[0.0, \"#0d0887\"], [0.1111111111111111, \"#46039f\"], [0.2222222222222222, \"#7201a8\"], [0.3333333333333333, \"#9c179e\"], [0.4444444444444444, \"#bd3786\"], [0.5555555555555556, \"#d8576b\"], [0.6666666666666666, \"#ed7953\"], [0.7777777777777778, \"#fb9f3a\"], [0.8888888888888888, \"#fdca26\"], [1.0, \"#f0f921\"]]}, \"colorway\": [\"#636efa\", \"#EF553B\", \"#00cc96\", \"#ab63fa\", \"#FFA15A\", \"#19d3f3\", \"#FF6692\", \"#B6E880\", \"#FF97FF\", \"#FECB52\"], \"font\": {\"color\": \"#2a3f5f\"}, \"geo\": {\"bgcolor\": \"white\", \"lakecolor\": \"white\", \"landcolor\": \"#E5ECF6\", \"showlakes\": true, \"showland\": true, \"subunitcolor\": \"white\"}, \"hoverlabel\": {\"align\": \"left\"}, \"hovermode\": \"closest\", \"mapbox\": {\"style\": \"light\"}, \"paper_bgcolor\": \"white\", \"plot_bgcolor\": \"#E5ECF6\", \"polar\": {\"angularaxis\": {\"gridcolor\": \"white\", \"linecolor\": \"white\", \"ticks\": \"\"}, \"bgcolor\": \"#E5ECF6\", \"radialaxis\": {\"gridcolor\": \"white\", \"linecolor\": \"white\", \"ticks\": \"\"}}, \"scene\": {\"xaxis\": {\"backgroundcolor\": \"#E5ECF6\", \"gridcolor\": \"white\", \"gridwidth\": 2, \"linecolor\": \"white\", \"showbackground\": true, \"ticks\": \"\", \"zerolinecolor\": \"white\"}, \"yaxis\": {\"backgroundcolor\": \"#E5ECF6\", \"gridcolor\": \"white\", \"gridwidth\": 2, \"linecolor\": \"white\", \"showbackground\": true, \"ticks\": \"\", \"zerolinecolor\": \"white\"}, \"zaxis\": {\"backgroundcolor\": \"#E5ECF6\", \"gridcolor\": \"white\", \"gridwidth\": 2, \"linecolor\": \"white\", \"showbackground\": true, \"ticks\": \"\", \"zerolinecolor\": \"white\"}}, \"shapedefaults\": {\"line\": {\"color\": \"#2a3f5f\"}}, \"ternary\": {\"aaxis\": {\"gridcolor\": \"white\", \"linecolor\": \"white\", \"ticks\": \"\"}, \"baxis\": {\"gridcolor\": \"white\", \"linecolor\": \"white\", \"ticks\": \"\"}, \"bgcolor\": \"#E5ECF6\", \"caxis\": {\"gridcolor\": \"white\", \"linecolor\": \"white\", \"ticks\": \"\"}}, \"title\": {\"x\": 0.05}, \"xaxis\": {\"automargin\": true, \"gridcolor\": \"white\", \"linecolor\": \"white\", \"ticks\": \"\", \"title\": {\"standoff\": 15}, \"zerolinecolor\": \"white\", \"zerolinewidth\": 2}, \"yaxis\": {\"automargin\": true, \"gridcolor\": \"white\", \"linecolor\": \"white\", \"ticks\": \"\", \"title\": {\"standoff\": 15}, \"zerolinecolor\": \"white\", \"zerolinewidth\": 2}}}},\n",
              "                        {\"responsive\": true}\n",
              "                    ).then(function(){\n",
              "                            \n",
              "var gd = document.getElementById('d370b07e-881b-43e5-8078-799ed6909fb8');\n",
              "var x = new MutationObserver(function (mutations, observer) {{\n",
              "        var display = window.getComputedStyle(gd).display;\n",
              "        if (!display || display === 'none') {{\n",
              "            console.log([gd, 'removed!']);\n",
              "            Plotly.purge(gd);\n",
              "            observer.disconnect();\n",
              "        }}\n",
              "}});\n",
              "\n",
              "// Listen for the removal of the full notebook cells\n",
              "var notebookContainer = gd.closest('#notebook-container');\n",
              "if (notebookContainer) {{\n",
              "    x.observe(notebookContainer, {childList: true});\n",
              "}}\n",
              "\n",
              "// Listen for the clearing of the current output cell\n",
              "var outputEl = gd.closest('.output');\n",
              "if (outputEl) {{\n",
              "    x.observe(outputEl, {childList: true});\n",
              "}}\n",
              "\n",
              "                        })\n",
              "                };\n",
              "                \n",
              "            </script>\n",
              "        </div>\n",
              "</body>\n",
              "</html>"
            ]
          },
          "metadata": {
            "tags": []
          }
        }
      ]
    },
    {
      "cell_type": "markdown",
      "metadata": {
        "id": "hqDug7SB-zRk"
      },
      "source": [
        "If you look at the chart, between desktop users and mobile users there is no difference on the search page, both of them lost 50% of visitors before they even had time to search for products. As for the payment page, we lost twice as much for desktop users as for mobile users. In fact, nearly 0% of visitors complete a purchase for desktop users.\r\n",
        "\r\n",
        "Until now, we have gained insights about the performance of the desktop version of the website, which generates a greater bounce percentage (low conversion rate) than the mobile version. But, we need to dig the data deeper to know the specific reason. So, we will look at the website visitors over time.\r\n",
        "\r\n"
      ]
    },
    {
      "cell_type": "markdown",
      "metadata": {
        "id": "FQd3WMI0Sdzt"
      },
      "source": [
        "### **How does the number of visitors of the website changed over time?**\r\n",
        "\r\n",
        "Next, we will do trend analysis to find out how the number of visitors changes over time."
      ]
    },
    {
      "cell_type": "markdown",
      "metadata": {
        "id": "fHvLw5TCW7z6"
      },
      "source": [
        "### **Trend Analysis**\r\n",
        "\r\n",
        "Based on what we have in our data set, I will do the following:\r\n",
        "\r\n",
        "*   Visitors of the website over time\r\n",
        "*   Conversion rate of every website page over time \r\n",
        "*   Conversion rate by gender over time\r\n",
        "*   Conversion rate by device over time\r\n",
        "\r\n"
      ]
    },
    {
      "cell_type": "code",
      "metadata": {
        "colab": {
          "base_uri": "https://localhost:8080/",
          "height": 611
        },
        "id": "nU2iz_pC7oRX",
        "outputId": "2040e272-2ffd-4c17-fe28-b62b6e92313a"
      },
      "source": [
        "import plotly.express as px\r\n",
        "\r\n",
        "df_group = df.groupby(['date'], as_index= False)[\"home_page\", \"search_page\", \"payment_page\", \"payment_confirmation_page\"].sum()\r\n",
        "df_group.rename(columns={'home_page':'Number_of_visitors'}, inplace=True)\r\n",
        "fig = px.line(df_group, x='date', y=\"Number_of_visitors\")\r\n",
        "fig.show()"
      ],
      "execution_count": 20,
      "outputs": [
        {
          "output_type": "stream",
          "text": [
            "/usr/local/lib/python3.6/dist-packages/ipykernel_launcher.py:3: FutureWarning:\n",
            "\n",
            "Indexing with multiple keys (implicitly converted to a tuple of keys) will be deprecated, use a list instead.\n",
            "\n"
          ],
          "name": "stderr"
        },
        {
          "output_type": "display_data",
          "data": {
            "text/html": [
              "<html>\n",
              "<head><meta charset=\"utf-8\" /></head>\n",
              "<body>\n",
              "    <div>\n",
              "            <script src=\"https://cdnjs.cloudflare.com/ajax/libs/mathjax/2.7.5/MathJax.js?config=TeX-AMS-MML_SVG\"></script><script type=\"text/javascript\">if (window.MathJax) {MathJax.Hub.Config({SVG: {font: \"STIX-Web\"}});}</script>\n",
              "                <script type=\"text/javascript\">window.PlotlyConfig = {MathJaxConfig: 'local'};</script>\n",
              "        <script src=\"https://cdn.plot.ly/plotly-latest.min.js\"></script>    \n",
              "            <div id=\"6241a6b4-6591-4ab4-adab-79d130661d2f\" class=\"plotly-graph-div\" style=\"height:525px; width:100%;\"></div>\n",
              "            <script type=\"text/javascript\">\n",
              "                \n",
              "                    window.PLOTLYENV=window.PLOTLYENV || {};\n",
              "                    \n",
              "                if (document.getElementById(\"6241a6b4-6591-4ab4-adab-79d130661d2f\")) {\n",
              "                    Plotly.newPlot(\n",
              "                        '6241a6b4-6591-4ab4-adab-79d130661d2f',\n",
              "                        [{\"hoverlabel\": {\"namelength\": 0}, \"hovertemplate\": \"date=%{x}<br>Number_of_visitors=%{y}\", \"legendgroup\": \"\", \"line\": {\"color\": \"#636efa\", \"dash\": \"solid\"}, \"mode\": \"lines\", \"name\": \"\", \"showlegend\": false, \"type\": \"scatter\", \"x\": [\"2015-01-01\", \"2015-01-02\", \"2015-01-03\", \"2015-01-04\", \"2015-01-05\", \"2015-01-06\", \"2015-01-07\", \"2015-01-08\", \"2015-01-09\", \"2015-01-10\", \"2015-01-11\", \"2015-01-12\", \"2015-01-13\", \"2015-01-14\", \"2015-01-15\", \"2015-01-16\", \"2015-01-17\", \"2015-01-18\", \"2015-01-19\", \"2015-01-20\", \"2015-01-21\", \"2015-01-22\", \"2015-01-23\", \"2015-01-24\", \"2015-01-25\", \"2015-01-26\", \"2015-01-27\", \"2015-01-28\", \"2015-01-29\", \"2015-01-30\", \"2015-01-31\", \"2015-02-01\", \"2015-02-02\", \"2015-02-03\", \"2015-02-04\", \"2015-02-05\", \"2015-02-06\", \"2015-02-07\", \"2015-02-08\", \"2015-02-09\", \"2015-02-10\", \"2015-02-11\", \"2015-02-12\", \"2015-02-13\", \"2015-02-14\", \"2015-02-15\", \"2015-02-16\", \"2015-02-17\", \"2015-02-18\", \"2015-02-19\", \"2015-02-20\", \"2015-02-21\", \"2015-02-22\", \"2015-02-23\", \"2015-02-24\", \"2015-02-25\", \"2015-02-26\", \"2015-02-27\", \"2015-02-28\", \"2015-03-01\", \"2015-03-02\", \"2015-03-03\", \"2015-03-04\", \"2015-03-05\", \"2015-03-06\", \"2015-03-07\", \"2015-03-08\", \"2015-03-09\", \"2015-03-10\", \"2015-03-11\", \"2015-03-12\", \"2015-03-13\", \"2015-03-14\", \"2015-03-15\", \"2015-03-16\", \"2015-03-17\", \"2015-03-18\", \"2015-03-19\", \"2015-03-20\", \"2015-03-21\", \"2015-03-22\", \"2015-03-23\", \"2015-03-24\", \"2015-03-25\", \"2015-03-26\", \"2015-03-27\", \"2015-03-28\", \"2015-03-29\", \"2015-03-30\", \"2015-03-31\", \"2015-04-01\", \"2015-04-02\", \"2015-04-03\", \"2015-04-04\", \"2015-04-05\", \"2015-04-06\", \"2015-04-07\", \"2015-04-08\", \"2015-04-09\", \"2015-04-10\", \"2015-04-11\", \"2015-04-12\", \"2015-04-13\", \"2015-04-14\", \"2015-04-15\", \"2015-04-16\", \"2015-04-17\", \"2015-04-18\", \"2015-04-19\", \"2015-04-20\", \"2015-04-21\", \"2015-04-22\", \"2015-04-23\", \"2015-04-24\", \"2015-04-25\", \"2015-04-26\", \"2015-04-27\", \"2015-04-28\", \"2015-04-29\", \"2015-04-30\"], \"xaxis\": \"x\", \"y\": [712, 721, 760, 713, 754, 742, 694, 714, 713, 730, 740, 741, 693, 758, 735, 723, 719, 668, 788, 715, 760, 737, 720, 719, 782, 686, 761, 725, 759, 697, 721, 828, 845, 802, 785, 819, 799, 846, 877, 803, 782, 782, 802, 786, 775, 835, 771, 804, 794, 767, 822, 829, 825, 811, 759, 830, 812, 792, 818, 722, 747, 731, 700, 711, 734, 727, 746, 743, 751, 733, 705, 741, 706, 720, 729, 752, 702, 684, 752, 698, 739, 769, 724, 755, 732, 693, 728, 726, 777, 723, 769, 735, 782, 775, 722, 760, 769, 806, 737, 757, 745, 704, 732, 699, 775, 729, 756, 739, 783, 720, 754, 750, 753, 762, 766, 792, 779, 736, 713, 801], \"yaxis\": \"y\"}],\n",
              "                        {\"legend\": {\"tracegroupgap\": 0}, \"margin\": {\"t\": 60}, \"template\": {\"data\": {\"bar\": [{\"error_x\": {\"color\": \"#2a3f5f\"}, \"error_y\": {\"color\": \"#2a3f5f\"}, \"marker\": {\"line\": {\"color\": \"#E5ECF6\", \"width\": 0.5}}, \"type\": \"bar\"}], \"barpolar\": [{\"marker\": {\"line\": {\"color\": \"#E5ECF6\", \"width\": 0.5}}, \"type\": \"barpolar\"}], \"carpet\": [{\"aaxis\": {\"endlinecolor\": \"#2a3f5f\", \"gridcolor\": \"white\", \"linecolor\": \"white\", \"minorgridcolor\": \"white\", \"startlinecolor\": \"#2a3f5f\"}, \"baxis\": {\"endlinecolor\": \"#2a3f5f\", \"gridcolor\": \"white\", \"linecolor\": \"white\", \"minorgridcolor\": \"white\", \"startlinecolor\": \"#2a3f5f\"}, \"type\": \"carpet\"}], \"choropleth\": [{\"colorbar\": {\"outlinewidth\": 0, \"ticks\": \"\"}, \"type\": \"choropleth\"}], \"contour\": [{\"colorbar\": {\"outlinewidth\": 0, \"ticks\": \"\"}, \"colorscale\": [[0.0, \"#0d0887\"], [0.1111111111111111, \"#46039f\"], [0.2222222222222222, \"#7201a8\"], [0.3333333333333333, \"#9c179e\"], [0.4444444444444444, \"#bd3786\"], [0.5555555555555556, \"#d8576b\"], [0.6666666666666666, \"#ed7953\"], [0.7777777777777778, \"#fb9f3a\"], [0.8888888888888888, \"#fdca26\"], [1.0, \"#f0f921\"]], \"type\": \"contour\"}], \"contourcarpet\": [{\"colorbar\": {\"outlinewidth\": 0, \"ticks\": \"\"}, \"type\": \"contourcarpet\"}], \"heatmap\": [{\"colorbar\": {\"outlinewidth\": 0, \"ticks\": \"\"}, \"colorscale\": [[0.0, \"#0d0887\"], [0.1111111111111111, \"#46039f\"], [0.2222222222222222, \"#7201a8\"], [0.3333333333333333, \"#9c179e\"], [0.4444444444444444, \"#bd3786\"], [0.5555555555555556, \"#d8576b\"], [0.6666666666666666, \"#ed7953\"], [0.7777777777777778, \"#fb9f3a\"], [0.8888888888888888, \"#fdca26\"], [1.0, \"#f0f921\"]], \"type\": \"heatmap\"}], \"heatmapgl\": [{\"colorbar\": {\"outlinewidth\": 0, \"ticks\": \"\"}, \"colorscale\": [[0.0, \"#0d0887\"], [0.1111111111111111, \"#46039f\"], [0.2222222222222222, \"#7201a8\"], [0.3333333333333333, \"#9c179e\"], [0.4444444444444444, \"#bd3786\"], [0.5555555555555556, \"#d8576b\"], [0.6666666666666666, \"#ed7953\"], [0.7777777777777778, \"#fb9f3a\"], [0.8888888888888888, \"#fdca26\"], [1.0, \"#f0f921\"]], \"type\": \"heatmapgl\"}], \"histogram\": [{\"marker\": {\"colorbar\": {\"outlinewidth\": 0, \"ticks\": \"\"}}, \"type\": \"histogram\"}], \"histogram2d\": [{\"colorbar\": {\"outlinewidth\": 0, \"ticks\": \"\"}, \"colorscale\": [[0.0, \"#0d0887\"], [0.1111111111111111, \"#46039f\"], [0.2222222222222222, \"#7201a8\"], [0.3333333333333333, \"#9c179e\"], [0.4444444444444444, \"#bd3786\"], [0.5555555555555556, \"#d8576b\"], [0.6666666666666666, \"#ed7953\"], [0.7777777777777778, \"#fb9f3a\"], [0.8888888888888888, \"#fdca26\"], [1.0, \"#f0f921\"]], \"type\": \"histogram2d\"}], \"histogram2dcontour\": [{\"colorbar\": {\"outlinewidth\": 0, \"ticks\": \"\"}, \"colorscale\": [[0.0, \"#0d0887\"], [0.1111111111111111, \"#46039f\"], [0.2222222222222222, \"#7201a8\"], [0.3333333333333333, \"#9c179e\"], [0.4444444444444444, \"#bd3786\"], [0.5555555555555556, \"#d8576b\"], [0.6666666666666666, \"#ed7953\"], [0.7777777777777778, \"#fb9f3a\"], [0.8888888888888888, \"#fdca26\"], [1.0, \"#f0f921\"]], \"type\": \"histogram2dcontour\"}], \"mesh3d\": [{\"colorbar\": {\"outlinewidth\": 0, \"ticks\": \"\"}, \"type\": \"mesh3d\"}], \"parcoords\": [{\"line\": {\"colorbar\": {\"outlinewidth\": 0, \"ticks\": \"\"}}, \"type\": \"parcoords\"}], \"pie\": [{\"automargin\": true, \"type\": \"pie\"}], \"scatter\": [{\"marker\": {\"colorbar\": {\"outlinewidth\": 0, \"ticks\": \"\"}}, \"type\": \"scatter\"}], \"scatter3d\": [{\"line\": {\"colorbar\": {\"outlinewidth\": 0, \"ticks\": \"\"}}, \"marker\": {\"colorbar\": {\"outlinewidth\": 0, \"ticks\": \"\"}}, \"type\": \"scatter3d\"}], \"scattercarpet\": [{\"marker\": {\"colorbar\": {\"outlinewidth\": 0, \"ticks\": \"\"}}, \"type\": \"scattercarpet\"}], \"scattergeo\": [{\"marker\": {\"colorbar\": {\"outlinewidth\": 0, \"ticks\": \"\"}}, \"type\": \"scattergeo\"}], \"scattergl\": [{\"marker\": {\"colorbar\": {\"outlinewidth\": 0, \"ticks\": \"\"}}, \"type\": \"scattergl\"}], \"scattermapbox\": [{\"marker\": {\"colorbar\": {\"outlinewidth\": 0, \"ticks\": \"\"}}, \"type\": \"scattermapbox\"}], \"scatterpolar\": [{\"marker\": {\"colorbar\": {\"outlinewidth\": 0, \"ticks\": \"\"}}, \"type\": \"scatterpolar\"}], \"scatterpolargl\": [{\"marker\": {\"colorbar\": {\"outlinewidth\": 0, \"ticks\": \"\"}}, \"type\": \"scatterpolargl\"}], \"scatterternary\": [{\"marker\": {\"colorbar\": {\"outlinewidth\": 0, \"ticks\": \"\"}}, \"type\": \"scatterternary\"}], \"surface\": [{\"colorbar\": {\"outlinewidth\": 0, \"ticks\": \"\"}, \"colorscale\": [[0.0, \"#0d0887\"], [0.1111111111111111, \"#46039f\"], [0.2222222222222222, \"#7201a8\"], [0.3333333333333333, \"#9c179e\"], [0.4444444444444444, \"#bd3786\"], [0.5555555555555556, \"#d8576b\"], [0.6666666666666666, \"#ed7953\"], [0.7777777777777778, \"#fb9f3a\"], [0.8888888888888888, \"#fdca26\"], [1.0, \"#f0f921\"]], \"type\": \"surface\"}], \"table\": [{\"cells\": {\"fill\": {\"color\": \"#EBF0F8\"}, \"line\": {\"color\": \"white\"}}, \"header\": {\"fill\": {\"color\": \"#C8D4E3\"}, \"line\": {\"color\": \"white\"}}, \"type\": \"table\"}]}, \"layout\": {\"annotationdefaults\": {\"arrowcolor\": \"#2a3f5f\", \"arrowhead\": 0, \"arrowwidth\": 1}, \"coloraxis\": {\"colorbar\": {\"outlinewidth\": 0, \"ticks\": \"\"}}, \"colorscale\": {\"diverging\": [[0, \"#8e0152\"], [0.1, \"#c51b7d\"], [0.2, \"#de77ae\"], [0.3, \"#f1b6da\"], [0.4, \"#fde0ef\"], [0.5, \"#f7f7f7\"], [0.6, \"#e6f5d0\"], [0.7, \"#b8e186\"], [0.8, \"#7fbc41\"], [0.9, \"#4d9221\"], [1, \"#276419\"]], \"sequential\": [[0.0, \"#0d0887\"], [0.1111111111111111, \"#46039f\"], [0.2222222222222222, \"#7201a8\"], [0.3333333333333333, \"#9c179e\"], [0.4444444444444444, \"#bd3786\"], [0.5555555555555556, \"#d8576b\"], [0.6666666666666666, \"#ed7953\"], [0.7777777777777778, \"#fb9f3a\"], [0.8888888888888888, \"#fdca26\"], [1.0, \"#f0f921\"]], \"sequentialminus\": [[0.0, \"#0d0887\"], [0.1111111111111111, \"#46039f\"], [0.2222222222222222, \"#7201a8\"], [0.3333333333333333, \"#9c179e\"], [0.4444444444444444, \"#bd3786\"], [0.5555555555555556, \"#d8576b\"], [0.6666666666666666, \"#ed7953\"], [0.7777777777777778, \"#fb9f3a\"], [0.8888888888888888, \"#fdca26\"], [1.0, \"#f0f921\"]]}, \"colorway\": [\"#636efa\", \"#EF553B\", \"#00cc96\", \"#ab63fa\", \"#FFA15A\", \"#19d3f3\", \"#FF6692\", \"#B6E880\", \"#FF97FF\", \"#FECB52\"], \"font\": {\"color\": \"#2a3f5f\"}, \"geo\": {\"bgcolor\": \"white\", \"lakecolor\": \"white\", \"landcolor\": \"#E5ECF6\", \"showlakes\": true, \"showland\": true, \"subunitcolor\": \"white\"}, \"hoverlabel\": {\"align\": \"left\"}, \"hovermode\": \"closest\", \"mapbox\": {\"style\": \"light\"}, \"paper_bgcolor\": \"white\", \"plot_bgcolor\": \"#E5ECF6\", \"polar\": {\"angularaxis\": {\"gridcolor\": \"white\", \"linecolor\": \"white\", \"ticks\": \"\"}, \"bgcolor\": \"#E5ECF6\", \"radialaxis\": {\"gridcolor\": \"white\", \"linecolor\": \"white\", \"ticks\": \"\"}}, \"scene\": {\"xaxis\": {\"backgroundcolor\": \"#E5ECF6\", \"gridcolor\": \"white\", \"gridwidth\": 2, \"linecolor\": \"white\", \"showbackground\": true, \"ticks\": \"\", \"zerolinecolor\": \"white\"}, \"yaxis\": {\"backgroundcolor\": \"#E5ECF6\", \"gridcolor\": \"white\", \"gridwidth\": 2, \"linecolor\": \"white\", \"showbackground\": true, \"ticks\": \"\", \"zerolinecolor\": \"white\"}, \"zaxis\": {\"backgroundcolor\": \"#E5ECF6\", \"gridcolor\": \"white\", \"gridwidth\": 2, \"linecolor\": \"white\", \"showbackground\": true, \"ticks\": \"\", \"zerolinecolor\": \"white\"}}, \"shapedefaults\": {\"line\": {\"color\": \"#2a3f5f\"}}, \"ternary\": {\"aaxis\": {\"gridcolor\": \"white\", \"linecolor\": \"white\", \"ticks\": \"\"}, \"baxis\": {\"gridcolor\": \"white\", \"linecolor\": \"white\", \"ticks\": \"\"}, \"bgcolor\": \"#E5ECF6\", \"caxis\": {\"gridcolor\": \"white\", \"linecolor\": \"white\", \"ticks\": \"\"}}, \"title\": {\"x\": 0.05}, \"xaxis\": {\"automargin\": true, \"gridcolor\": \"white\", \"linecolor\": \"white\", \"ticks\": \"\", \"title\": {\"standoff\": 15}, \"zerolinecolor\": \"white\", \"zerolinewidth\": 2}, \"yaxis\": {\"automargin\": true, \"gridcolor\": \"white\", \"linecolor\": \"white\", \"ticks\": \"\", \"title\": {\"standoff\": 15}, \"zerolinecolor\": \"white\", \"zerolinewidth\": 2}}}, \"xaxis\": {\"anchor\": \"y\", \"domain\": [0.0, 1.0], \"title\": {\"text\": \"date\"}}, \"yaxis\": {\"anchor\": \"x\", \"domain\": [0.0, 1.0], \"title\": {\"text\": \"Number_of_visitors\"}}},\n",
              "                        {\"responsive\": true}\n",
              "                    ).then(function(){\n",
              "                            \n",
              "var gd = document.getElementById('6241a6b4-6591-4ab4-adab-79d130661d2f');\n",
              "var x = new MutationObserver(function (mutations, observer) {{\n",
              "        var display = window.getComputedStyle(gd).display;\n",
              "        if (!display || display === 'none') {{\n",
              "            console.log([gd, 'removed!']);\n",
              "            Plotly.purge(gd);\n",
              "            observer.disconnect();\n",
              "        }}\n",
              "}});\n",
              "\n",
              "// Listen for the removal of the full notebook cells\n",
              "var notebookContainer = gd.closest('#notebook-container');\n",
              "if (notebookContainer) {{\n",
              "    x.observe(notebookContainer, {childList: true});\n",
              "}}\n",
              "\n",
              "// Listen for the clearing of the current output cell\n",
              "var outputEl = gd.closest('.output');\n",
              "if (outputEl) {{\n",
              "    x.observe(outputEl, {childList: true});\n",
              "}}\n",
              "\n",
              "                        })\n",
              "                };\n",
              "                \n",
              "            </script>\n",
              "        </div>\n",
              "</body>\n",
              "</html>"
            ]
          },
          "metadata": {
            "tags": []
          }
        }
      ]
    },
    {
      "cell_type": "markdown",
      "metadata": {
        "id": "v6zYhud-ox4N"
      },
      "source": [
        "From the Time series plot above we can see that, there is a rise of visitors on **Feb 1** and a obvious drop on **Mar 1**. "
      ]
    },
    {
      "cell_type": "code",
      "metadata": {
        "colab": {
          "base_uri": "https://localhost:8080/",
          "height": 542
        },
        "id": "CuXTvcCnfWpy",
        "outputId": "55c0d0a0-c5c5-426f-ac0c-d52af8e47f56"
      },
      "source": [
        "import plotly.express as px\r\n",
        "\r\n",
        "def percentage(variable):\r\n",
        "  return variable*100/df_group['home_page']\r\n",
        "\r\n",
        "df_group.rename(columns={'Number_of_visitors':'home_page'}, inplace=True)\r\n",
        "#calculate conversion rate for every page\r\n",
        "df_group[[\"search_page %\", 'payment_page %', 'confirmation_payment_page %']] = df_group[[\"search_page\", \"payment_page\", \"payment_confirmation_page\"]].apply(percentage) \r\n",
        "df_conversion_rate = df_group.drop(columns=[\"home_page\", \"search_page\", \"payment_page\", \"payment_confirmation_page\"])\r\n",
        "#reshape the dataframe using melt function to able applied in the chart\r\n",
        "df_melt= df_conversion_rate.melt(id_vars=[\"date\"])\r\n",
        "\r\n",
        "#draw interactive time series chart\r\n",
        "fig = px.line(df_melt, x='date', y='value',\r\n",
        "              color=\"variable\",\r\n",
        "              line_group=\"variable\", hover_name=\"variable\")\r\n",
        "fig.update_xaxes(\r\n",
        "    dtick=\"M1\",\r\n",
        "    tickformat=\"%b %d\\n%Y\")\r\n",
        "fig.show()"
      ],
      "execution_count": 21,
      "outputs": [
        {
          "output_type": "display_data",
          "data": {
            "text/html": [
              "<html>\n",
              "<head><meta charset=\"utf-8\" /></head>\n",
              "<body>\n",
              "    <div>\n",
              "            <script src=\"https://cdnjs.cloudflare.com/ajax/libs/mathjax/2.7.5/MathJax.js?config=TeX-AMS-MML_SVG\"></script><script type=\"text/javascript\">if (window.MathJax) {MathJax.Hub.Config({SVG: {font: \"STIX-Web\"}});}</script>\n",
              "                <script type=\"text/javascript\">window.PlotlyConfig = {MathJaxConfig: 'local'};</script>\n",
              "        <script src=\"https://cdn.plot.ly/plotly-latest.min.js\"></script>    \n",
              "            <div id=\"58c5275b-a347-4ff3-8763-22a73423ced5\" class=\"plotly-graph-div\" style=\"height:525px; width:100%;\"></div>\n",
              "            <script type=\"text/javascript\">\n",
              "                \n",
              "                    window.PLOTLYENV=window.PLOTLYENV || {};\n",
              "                    \n",
              "                if (document.getElementById(\"58c5275b-a347-4ff3-8763-22a73423ced5\")) {\n",
              "                    Plotly.newPlot(\n",
              "                        '58c5275b-a347-4ff3-8763-22a73423ced5',\n",
              "                        [{\"hoverlabel\": {\"namelength\": 0}, \"hovertemplate\": \"<b>%{hovertext}</b><br><br>variable=search_page %<br>date=%{x}<br>value=%{y}\", \"hovertext\": [\"search_page %\", \"search_page %\", \"search_page %\", \"search_page %\", \"search_page %\", \"search_page %\", \"search_page %\", \"search_page %\", \"search_page %\", \"search_page %\", \"search_page %\", \"search_page %\", \"search_page %\", \"search_page %\", \"search_page %\", \"search_page %\", \"search_page %\", \"search_page %\", \"search_page %\", \"search_page %\", \"search_page %\", \"search_page %\", \"search_page %\", \"search_page %\", \"search_page %\", \"search_page %\", \"search_page %\", \"search_page %\", \"search_page %\", \"search_page %\", \"search_page %\", \"search_page %\", \"search_page %\", \"search_page %\", \"search_page %\", \"search_page %\", \"search_page %\", \"search_page %\", \"search_page %\", \"search_page %\", \"search_page %\", \"search_page %\", \"search_page %\", \"search_page %\", \"search_page %\", \"search_page %\", \"search_page %\", \"search_page %\", \"search_page %\", \"search_page %\", \"search_page %\", \"search_page %\", \"search_page %\", \"search_page %\", \"search_page %\", \"search_page %\", \"search_page %\", \"search_page %\", \"search_page %\", \"search_page %\", \"search_page %\", \"search_page %\", \"search_page %\", \"search_page %\", \"search_page %\", \"search_page %\", \"search_page %\", \"search_page %\", \"search_page %\", \"search_page %\", \"search_page %\", \"search_page %\", \"search_page %\", \"search_page %\", \"search_page %\", \"search_page %\", \"search_page %\", \"search_page %\", \"search_page %\", \"search_page %\", \"search_page %\", \"search_page %\", \"search_page %\", \"search_page %\", \"search_page %\", \"search_page %\", \"search_page %\", \"search_page %\", \"search_page %\", \"search_page %\", \"search_page %\", \"search_page %\", \"search_page %\", \"search_page %\", \"search_page %\", \"search_page %\", \"search_page %\", \"search_page %\", \"search_page %\", \"search_page %\", \"search_page %\", \"search_page %\", \"search_page %\", \"search_page %\", \"search_page %\", \"search_page %\", \"search_page %\", \"search_page %\", \"search_page %\", \"search_page %\", \"search_page %\", \"search_page %\", \"search_page %\", \"search_page %\", \"search_page %\", \"search_page %\", \"search_page %\", \"search_page %\", \"search_page %\", \"search_page %\"], \"legendgroup\": \"variable=search_page %\", \"line\": {\"color\": \"#636efa\", \"dash\": \"solid\"}, \"mode\": \"lines\", \"name\": \"variable=search_page %\", \"showlegend\": true, \"type\": \"scatter\", \"x\": [\"2015-01-01\", \"2015-01-02\", \"2015-01-03\", \"2015-01-04\", \"2015-01-05\", \"2015-01-06\", \"2015-01-07\", \"2015-01-08\", \"2015-01-09\", \"2015-01-10\", \"2015-01-11\", \"2015-01-12\", \"2015-01-13\", \"2015-01-14\", \"2015-01-15\", \"2015-01-16\", \"2015-01-17\", \"2015-01-18\", \"2015-01-19\", \"2015-01-20\", \"2015-01-21\", \"2015-01-22\", \"2015-01-23\", \"2015-01-24\", \"2015-01-25\", \"2015-01-26\", \"2015-01-27\", \"2015-01-28\", \"2015-01-29\", \"2015-01-30\", \"2015-01-31\", \"2015-02-01\", \"2015-02-02\", \"2015-02-03\", \"2015-02-04\", \"2015-02-05\", \"2015-02-06\", \"2015-02-07\", \"2015-02-08\", \"2015-02-09\", \"2015-02-10\", \"2015-02-11\", \"2015-02-12\", \"2015-02-13\", \"2015-02-14\", \"2015-02-15\", \"2015-02-16\", \"2015-02-17\", \"2015-02-18\", \"2015-02-19\", \"2015-02-20\", \"2015-02-21\", \"2015-02-22\", \"2015-02-23\", \"2015-02-24\", \"2015-02-25\", \"2015-02-26\", \"2015-02-27\", \"2015-02-28\", \"2015-03-01\", \"2015-03-02\", \"2015-03-03\", \"2015-03-04\", \"2015-03-05\", \"2015-03-06\", \"2015-03-07\", \"2015-03-08\", \"2015-03-09\", \"2015-03-10\", \"2015-03-11\", \"2015-03-12\", \"2015-03-13\", \"2015-03-14\", \"2015-03-15\", \"2015-03-16\", \"2015-03-17\", \"2015-03-18\", \"2015-03-19\", \"2015-03-20\", \"2015-03-21\", \"2015-03-22\", \"2015-03-23\", \"2015-03-24\", \"2015-03-25\", \"2015-03-26\", \"2015-03-27\", \"2015-03-28\", \"2015-03-29\", \"2015-03-30\", \"2015-03-31\", \"2015-04-01\", \"2015-04-02\", \"2015-04-03\", \"2015-04-04\", \"2015-04-05\", \"2015-04-06\", \"2015-04-07\", \"2015-04-08\", \"2015-04-09\", \"2015-04-10\", \"2015-04-11\", \"2015-04-12\", \"2015-04-13\", \"2015-04-14\", \"2015-04-15\", \"2015-04-16\", \"2015-04-17\", \"2015-04-18\", \"2015-04-19\", \"2015-04-20\", \"2015-04-21\", \"2015-04-22\", \"2015-04-23\", \"2015-04-24\", \"2015-04-25\", \"2015-04-26\", \"2015-04-27\", \"2015-04-28\", \"2015-04-29\", \"2015-04-30\"], \"xaxis\": \"x\", \"y\": [61.235955056179776, 61.99722607489598, 55.526315789473685, 62.69284712482469, 61.273209549071616, 59.97304582210243, 58.21325648414986, 57.28291316526611, 56.94249649368864, 61.50684931506849, 60.270270270270274, 60.45883940620783, 60.75036075036075, 59.894459102902374, 59.183673469387756, 59.19778699861688, 61.474269819193324, 63.17365269461078, 58.756345177664976, 58.88111888111888, 58.55263157894737, 58.34464043419268, 59.583333333333336, 59.38803894297636, 60.485933503836314, 58.60058309037901, 59.526938239159, 61.793103448275865, 62.055335968379445, 59.82783357245337, 62.690707350901526, 62.68115942028985, 60.47337278106509, 56.98254364089775, 61.910828025477706, 60.195360195360195, 61.57697121401752, 59.810874704491724, 61.00342075256557, 60.52303860523038, 62.02046035805627, 58.8235294117647, 60.47381546134663, 60.55979643765903, 58.83870967741935, 60.59880239520958, 59.143968871595334, 61.069651741293534, 60.32745591939547, 60.36505867014342, 60.583941605839414, 61.881785283474066, 61.09090909090909, 60.17262638717632, 60.869565217391305, 61.204819277108435, 60.09852216748769, 59.09090909090909, 63.080684596577015, 39.19667590027701, 38.28647925033467, 40.08207934336525, 37.857142857142854, 37.69338959212377, 37.46594005449591, 40.990371389270976, 38.605898123324394, 42.664872139973085, 37.68308921438083, 38.74488403819918, 41.843971631205676, 37.11201079622132, 40.79320113314448, 39.861111111111114, 40.87791495198903, 40.82446808510638, 37.60683760683761, 39.76608187134503, 39.8936170212766, 40.11461318051576, 41.67794316644114, 38.8816644993498, 38.812154696132595, 41.45695364238411, 38.66120218579235, 38.23953823953824, 37.637362637362635, 36.225895316804404, 40.02574002574003, 38.17427385892116, 37.06111833550065, 36.46258503401361, 39.00255754475703, 40.903225806451616, 40.85872576177285, 41.71052631578947, 39.14174252275683, 39.33002481389578, 39.48439620081411, 43.72523117569353, 39.59731543624161, 37.5, 42.759562841530055, 40.772532188841204, 42.064516129032256, 39.91769547325103, 41.13756613756614, 38.700947225981054, 40.229885057471265, 43.75, 38.06366047745358, 43.46666666666667, 41.168658698539176, 37.13910761154855, 42.297650130548305, 38.76262626262626, 39.92297817715019, 41.30434782608695, 38.008415147265076, 41.07365792759051], \"yaxis\": \"y\"}, {\"hoverlabel\": {\"namelength\": 0}, \"hovertemplate\": \"<b>%{hovertext}</b><br><br>variable=payment_page %<br>date=%{x}<br>value=%{y}\", \"hovertext\": [\"payment_page %\", \"payment_page %\", \"payment_page %\", \"payment_page %\", \"payment_page %\", \"payment_page %\", \"payment_page %\", \"payment_page %\", \"payment_page %\", \"payment_page %\", \"payment_page %\", \"payment_page %\", \"payment_page %\", \"payment_page %\", \"payment_page %\", \"payment_page %\", \"payment_page %\", \"payment_page %\", \"payment_page %\", \"payment_page %\", \"payment_page %\", \"payment_page %\", \"payment_page %\", \"payment_page %\", \"payment_page %\", \"payment_page %\", \"payment_page %\", \"payment_page %\", \"payment_page %\", \"payment_page %\", \"payment_page %\", \"payment_page %\", \"payment_page %\", \"payment_page %\", \"payment_page %\", \"payment_page %\", \"payment_page %\", \"payment_page %\", \"payment_page %\", \"payment_page %\", \"payment_page %\", \"payment_page %\", \"payment_page %\", \"payment_page %\", \"payment_page %\", \"payment_page %\", \"payment_page %\", \"payment_page %\", \"payment_page %\", \"payment_page %\", \"payment_page %\", \"payment_page %\", \"payment_page %\", \"payment_page %\", \"payment_page %\", \"payment_page %\", \"payment_page %\", \"payment_page %\", \"payment_page %\", \"payment_page %\", \"payment_page %\", \"payment_page %\", \"payment_page %\", \"payment_page %\", \"payment_page %\", \"payment_page %\", \"payment_page %\", \"payment_page %\", \"payment_page %\", \"payment_page %\", \"payment_page %\", \"payment_page %\", \"payment_page %\", \"payment_page %\", \"payment_page %\", \"payment_page %\", \"payment_page %\", \"payment_page %\", \"payment_page %\", \"payment_page %\", \"payment_page %\", \"payment_page %\", \"payment_page %\", \"payment_page %\", \"payment_page %\", \"payment_page %\", \"payment_page %\", \"payment_page %\", \"payment_page %\", \"payment_page %\", \"payment_page %\", \"payment_page %\", \"payment_page %\", \"payment_page %\", \"payment_page %\", \"payment_page %\", \"payment_page %\", \"payment_page %\", \"payment_page %\", \"payment_page %\", \"payment_page %\", \"payment_page %\", \"payment_page %\", \"payment_page %\", \"payment_page %\", \"payment_page %\", \"payment_page %\", \"payment_page %\", \"payment_page %\", \"payment_page %\", \"payment_page %\", \"payment_page %\", \"payment_page %\", \"payment_page %\", \"payment_page %\", \"payment_page %\", \"payment_page %\", \"payment_page %\", \"payment_page %\", \"payment_page %\"], \"legendgroup\": \"variable=payment_page %\", \"line\": {\"color\": \"#EF553B\", \"dash\": \"solid\"}, \"mode\": \"lines\", \"name\": \"variable=payment_page %\", \"showlegend\": true, \"type\": \"scatter\", \"x\": [\"2015-01-01\", \"2015-01-02\", \"2015-01-03\", \"2015-01-04\", \"2015-01-05\", \"2015-01-06\", \"2015-01-07\", \"2015-01-08\", \"2015-01-09\", \"2015-01-10\", \"2015-01-11\", \"2015-01-12\", \"2015-01-13\", \"2015-01-14\", \"2015-01-15\", \"2015-01-16\", \"2015-01-17\", \"2015-01-18\", \"2015-01-19\", \"2015-01-20\", \"2015-01-21\", \"2015-01-22\", \"2015-01-23\", \"2015-01-24\", \"2015-01-25\", \"2015-01-26\", \"2015-01-27\", \"2015-01-28\", \"2015-01-29\", \"2015-01-30\", \"2015-01-31\", \"2015-02-01\", \"2015-02-02\", \"2015-02-03\", \"2015-02-04\", \"2015-02-05\", \"2015-02-06\", \"2015-02-07\", \"2015-02-08\", \"2015-02-09\", \"2015-02-10\", \"2015-02-11\", \"2015-02-12\", \"2015-02-13\", \"2015-02-14\", \"2015-02-15\", \"2015-02-16\", \"2015-02-17\", \"2015-02-18\", \"2015-02-19\", \"2015-02-20\", \"2015-02-21\", \"2015-02-22\", \"2015-02-23\", \"2015-02-24\", \"2015-02-25\", \"2015-02-26\", \"2015-02-27\", \"2015-02-28\", \"2015-03-01\", \"2015-03-02\", \"2015-03-03\", \"2015-03-04\", \"2015-03-05\", \"2015-03-06\", \"2015-03-07\", \"2015-03-08\", \"2015-03-09\", \"2015-03-10\", \"2015-03-11\", \"2015-03-12\", \"2015-03-13\", \"2015-03-14\", \"2015-03-15\", \"2015-03-16\", \"2015-03-17\", \"2015-03-18\", \"2015-03-19\", \"2015-03-20\", \"2015-03-21\", \"2015-03-22\", \"2015-03-23\", \"2015-03-24\", \"2015-03-25\", \"2015-03-26\", \"2015-03-27\", \"2015-03-28\", \"2015-03-29\", \"2015-03-30\", \"2015-03-31\", \"2015-04-01\", \"2015-04-02\", \"2015-04-03\", \"2015-04-04\", \"2015-04-05\", \"2015-04-06\", \"2015-04-07\", \"2015-04-08\", \"2015-04-09\", \"2015-04-10\", \"2015-04-11\", \"2015-04-12\", \"2015-04-13\", \"2015-04-14\", \"2015-04-15\", \"2015-04-16\", \"2015-04-17\", \"2015-04-18\", \"2015-04-19\", \"2015-04-20\", \"2015-04-21\", \"2015-04-22\", \"2015-04-23\", \"2015-04-24\", \"2015-04-25\", \"2015-04-26\", \"2015-04-27\", \"2015-04-28\", \"2015-04-29\", \"2015-04-30\"], \"xaxis\": \"x\", \"y\": [10.674157303370787, 11.650485436893204, 8.421052631578947, 10.659186535764375, 11.671087533156498, 9.029649595687331, 7.92507204610951, 8.96358543417367, 10.659186535764375, 10.547945205479452, 10.675675675675675, 10.121457489878543, 10.966810966810966, 10.29023746701847, 10.068027210884354, 11.203319502074688, 10.709318497913769, 9.281437125748504, 13.3248730964467, 10.909090909090908, 11.447368421052632, 10.719131614654003, 10.972222222222221, 10.292072322670375, 12.020460358056265, 11.078717201166182, 10.11826544021025, 11.862068965517242, 10.408432147562582, 9.182209469153515, 11.511789181692095, 11.231884057971014, 10.414201183431953, 11.596009975062344, 10.063694267515924, 11.11111111111111, 9.136420525657071, 9.21985815602837, 11.402508551881414, 11.706102117061022, 10.485933503836318, 9.846547314578006, 10.84788029925187, 10.305343511450381, 10.064516129032258, 11.137724550898204, 11.154345006485084, 11.940298507462687, 11.586901763224182, 12.516297262059974, 11.070559610705596, 9.650180940892641, 9.212121212121213, 9.864364981504316, 12.779973649538867, 9.518072289156626, 10.467980295566502, 11.237373737373737, 9.535452322738386, 2.6315789473684212, 2.2757697456492636, 2.188782489740082, 3.857142857142857, 2.6722925457102673, 2.997275204359673, 4.126547455295736, 3.0831099195710454, 2.6917900403768504, 2.263648468708389, 4.774897680763984, 2.5531914893617023, 3.7786774628879893, 2.8328611898016995, 3.888888888888889, 2.3319615912208507, 3.0585106382978724, 2.5641025641025643, 2.4853801169590644, 2.925531914893617, 2.005730659025788, 2.165087956698241, 2.210663198959688, 2.2099447513812156, 3.0463576158940397, 3.1420765027322406, 2.1645021645021645, 1.7857142857142858, 2.203856749311295, 1.9305019305019304, 3.7344398340248963, 3.5110533159947983, 1.7687074829931972, 2.557544757033248, 3.4838709677419355, 2.770083102493075, 2.236842105263158, 3.120936280884265, 2.729528535980149, 2.985074626865672, 1.8494055482166447, 2.2818791946308723, 3.125, 3.6885245901639343, 2.7181688125894135, 3.096774193548387, 2.4691358024691357, 2.7777777777777777, 1.4884979702300405, 1.6602809706257982, 2.9166666666666665, 2.6525198938992043, 2.533333333333333, 2.257636122177955, 1.4435695538057742, 3.133159268929504, 3.1565656565656566, 3.337612323491656, 3.3967391304347827, 1.402524544179523, 2.6217228464419478], \"yaxis\": \"y\"}, {\"hoverlabel\": {\"namelength\": 0}, \"hovertemplate\": \"<b>%{hovertext}</b><br><br>variable=confirmation_payment_page %<br>date=%{x}<br>value=%{y}\", \"hovertext\": [\"confirmation_payment_page %\", \"confirmation_payment_page %\", \"confirmation_payment_page %\", \"confirmation_payment_page %\", \"confirmation_payment_page %\", \"confirmation_payment_page %\", \"confirmation_payment_page %\", \"confirmation_payment_page %\", \"confirmation_payment_page %\", \"confirmation_payment_page %\", \"confirmation_payment_page %\", \"confirmation_payment_page %\", \"confirmation_payment_page %\", \"confirmation_payment_page %\", \"confirmation_payment_page %\", \"confirmation_payment_page %\", \"confirmation_payment_page %\", \"confirmation_payment_page %\", \"confirmation_payment_page %\", \"confirmation_payment_page %\", \"confirmation_payment_page %\", \"confirmation_payment_page %\", \"confirmation_payment_page %\", \"confirmation_payment_page %\", \"confirmation_payment_page %\", \"confirmation_payment_page %\", \"confirmation_payment_page %\", \"confirmation_payment_page %\", \"confirmation_payment_page %\", \"confirmation_payment_page %\", \"confirmation_payment_page %\", \"confirmation_payment_page %\", \"confirmation_payment_page %\", \"confirmation_payment_page %\", \"confirmation_payment_page %\", \"confirmation_payment_page %\", \"confirmation_payment_page %\", \"confirmation_payment_page %\", \"confirmation_payment_page %\", \"confirmation_payment_page %\", \"confirmation_payment_page %\", \"confirmation_payment_page %\", \"confirmation_payment_page %\", \"confirmation_payment_page %\", \"confirmation_payment_page %\", \"confirmation_payment_page %\", \"confirmation_payment_page %\", \"confirmation_payment_page %\", \"confirmation_payment_page %\", \"confirmation_payment_page %\", \"confirmation_payment_page %\", \"confirmation_payment_page %\", \"confirmation_payment_page %\", \"confirmation_payment_page %\", \"confirmation_payment_page %\", \"confirmation_payment_page %\", \"confirmation_payment_page %\", \"confirmation_payment_page %\", \"confirmation_payment_page %\", \"confirmation_payment_page %\", \"confirmation_payment_page %\", \"confirmation_payment_page %\", \"confirmation_payment_page %\", \"confirmation_payment_page %\", \"confirmation_payment_page %\", \"confirmation_payment_page %\", \"confirmation_payment_page %\", \"confirmation_payment_page %\", \"confirmation_payment_page %\", \"confirmation_payment_page %\", \"confirmation_payment_page %\", \"confirmation_payment_page %\", \"confirmation_payment_page %\", \"confirmation_payment_page %\", \"confirmation_payment_page %\", \"confirmation_payment_page %\", \"confirmation_payment_page %\", \"confirmation_payment_page %\", \"confirmation_payment_page %\", \"confirmation_payment_page %\", \"confirmation_payment_page %\", \"confirmation_payment_page %\", \"confirmation_payment_page %\", \"confirmation_payment_page %\", \"confirmation_payment_page %\", \"confirmation_payment_page %\", \"confirmation_payment_page %\", \"confirmation_payment_page %\", \"confirmation_payment_page %\", \"confirmation_payment_page %\", \"confirmation_payment_page %\", \"confirmation_payment_page %\", \"confirmation_payment_page %\", \"confirmation_payment_page %\", \"confirmation_payment_page %\", \"confirmation_payment_page %\", \"confirmation_payment_page %\", \"confirmation_payment_page %\", \"confirmation_payment_page %\", \"confirmation_payment_page %\", \"confirmation_payment_page %\", \"confirmation_payment_page %\", \"confirmation_payment_page %\", \"confirmation_payment_page %\", \"confirmation_payment_page %\", \"confirmation_payment_page %\", \"confirmation_payment_page %\", \"confirmation_payment_page %\", \"confirmation_payment_page %\", \"confirmation_payment_page %\", \"confirmation_payment_page %\", \"confirmation_payment_page %\", \"confirmation_payment_page %\", \"confirmation_payment_page %\", \"confirmation_payment_page %\", \"confirmation_payment_page %\", \"confirmation_payment_page %\", \"confirmation_payment_page %\", \"confirmation_payment_page %\", \"confirmation_payment_page %\"], \"legendgroup\": \"variable=confirmation_payment_page %\", \"line\": {\"color\": \"#00cc96\", \"dash\": \"solid\"}, \"mode\": \"lines\", \"name\": \"variable=confirmation_payment_page %\", \"showlegend\": true, \"type\": \"scatter\", \"x\": [\"2015-01-01\", \"2015-01-02\", \"2015-01-03\", \"2015-01-04\", \"2015-01-05\", \"2015-01-06\", \"2015-01-07\", \"2015-01-08\", \"2015-01-09\", \"2015-01-10\", \"2015-01-11\", \"2015-01-12\", \"2015-01-13\", \"2015-01-14\", \"2015-01-15\", \"2015-01-16\", \"2015-01-17\", \"2015-01-18\", \"2015-01-19\", \"2015-01-20\", \"2015-01-21\", \"2015-01-22\", \"2015-01-23\", \"2015-01-24\", \"2015-01-25\", \"2015-01-26\", \"2015-01-27\", \"2015-01-28\", \"2015-01-29\", \"2015-01-30\", \"2015-01-31\", \"2015-02-01\", \"2015-02-02\", \"2015-02-03\", \"2015-02-04\", \"2015-02-05\", \"2015-02-06\", \"2015-02-07\", \"2015-02-08\", \"2015-02-09\", \"2015-02-10\", \"2015-02-11\", \"2015-02-12\", \"2015-02-13\", \"2015-02-14\", \"2015-02-15\", \"2015-02-16\", \"2015-02-17\", \"2015-02-18\", \"2015-02-19\", \"2015-02-20\", \"2015-02-21\", \"2015-02-22\", \"2015-02-23\", \"2015-02-24\", \"2015-02-25\", \"2015-02-26\", \"2015-02-27\", \"2015-02-28\", \"2015-03-01\", \"2015-03-02\", \"2015-03-03\", \"2015-03-04\", \"2015-03-05\", \"2015-03-06\", \"2015-03-07\", \"2015-03-08\", \"2015-03-09\", \"2015-03-10\", \"2015-03-11\", \"2015-03-12\", \"2015-03-13\", \"2015-03-14\", \"2015-03-15\", \"2015-03-16\", \"2015-03-17\", \"2015-03-18\", \"2015-03-19\", \"2015-03-20\", \"2015-03-21\", \"2015-03-22\", \"2015-03-23\", \"2015-03-24\", \"2015-03-25\", \"2015-03-26\", \"2015-03-27\", \"2015-03-28\", \"2015-03-29\", \"2015-03-30\", \"2015-03-31\", \"2015-04-01\", \"2015-04-02\", \"2015-04-03\", \"2015-04-04\", \"2015-04-05\", \"2015-04-06\", \"2015-04-07\", \"2015-04-08\", \"2015-04-09\", \"2015-04-10\", \"2015-04-11\", \"2015-04-12\", \"2015-04-13\", \"2015-04-14\", \"2015-04-15\", \"2015-04-16\", \"2015-04-17\", \"2015-04-18\", \"2015-04-19\", \"2015-04-20\", \"2015-04-21\", \"2015-04-22\", \"2015-04-23\", \"2015-04-24\", \"2015-04-25\", \"2015-04-26\", \"2015-04-27\", \"2015-04-28\", \"2015-04-29\", \"2015-04-30\"], \"xaxis\": \"x\", \"y\": [0.8426966292134831, 0.6934812760055479, 0.9210526315789473, 0.9817671809256662, 1.4588859416445623, 1.2129380053908356, 0.5763688760806917, 0.7002801120448179, 0.5610098176718092, 0.958904109589041, 0.9459459459459459, 0.8097165991902834, 0.1443001443001443, 0.7915567282321899, 0.9523809523809523, 0.6915629322268326, 0.6954102920723226, 0.7485029940119761, 1.2690355329949239, 0.9790209790209791, 0.9210526315789473, 0.6784260515603799, 1.25, 0.4172461752433936, 1.0230179028132993, 0.8746355685131195, 0.5256241787122208, 1.103448275862069, 0.6587615283267457, 0.5738880918220947, 0.8321775312066574, 0.8454106280193237, 0.8284023668639053, 0.9975062344139651, 0.5095541401273885, 0.7326007326007326, 0.7509386733416771, 1.0638297872340425, 0.6841505131128849, 1.2453300124533002, 0.639386189258312, 0.639386189258312, 0.49875311720698257, 0.1272264631043257, 1.2903225806451613, 0.47904191616766467, 0.9079118028534371, 1.243781094527363, 0.3778337531486146, 0.9126466753585397, 0.36496350364963503, 0.8443908323281062, 0.7272727272727273, 0.7398273736128237, 1.4492753623188406, 0.6024096385542169, 0.7389162561576355, 0.3787878787878788, 0.8557457212713936, 0.0, 0.2677376171352075, 0.4103967168262654, 0.5714285714285714, 0.0, 0.2724795640326976, 0.2751031636863824, 0.13404825737265416, 0.13458950201884254, 0.0, 0.1364256480218281, 0.425531914893617, 0.1349527665317139, 0.141643059490085, 0.4166666666666667, 0.27434842249657065, 0.0, 0.14245014245014245, 0.43859649122807015, 0.39893617021276595, 0.0, 0.0, 0.13003901170351106, 0.27624309392265195, 0.0, 0.1366120218579235, 0.2886002886002886, 0.13736263736263737, 0.13774104683195593, 0.1287001287001287, 0.2766251728907331, 0.26007802340702213, 0.1360544217687075, 0.3836317135549872, 0.3870967741935484, 0.4155124653739612, 0.39473684210526316, 0.26007802340702213, 0.12406947890818859, 0.6784260515603799, 0.0, 0.1342281879194631, 0.2840909090909091, 0.1366120218579235, 0.1430615164520744, 0.12903225806451613, 0.0, 0.13227513227513227, 0.0, 0.1277139208173691, 0.2777777777777778, 0.3978779840848806, 0.26666666666666666, 0.13280212483399734, 0.26246719160104987, 0.13054830287206268, 0.12626262626262627, 0.12836970474967907, 0.1358695652173913, 0.0, 0.12484394506866417], \"yaxis\": \"y\"}],\n",
              "                        {\"legend\": {\"tracegroupgap\": 0}, \"margin\": {\"t\": 60}, \"template\": {\"data\": {\"bar\": [{\"error_x\": {\"color\": \"#2a3f5f\"}, \"error_y\": {\"color\": \"#2a3f5f\"}, \"marker\": {\"line\": {\"color\": \"#E5ECF6\", \"width\": 0.5}}, \"type\": \"bar\"}], \"barpolar\": [{\"marker\": {\"line\": {\"color\": \"#E5ECF6\", \"width\": 0.5}}, \"type\": \"barpolar\"}], \"carpet\": [{\"aaxis\": {\"endlinecolor\": \"#2a3f5f\", \"gridcolor\": \"white\", \"linecolor\": \"white\", \"minorgridcolor\": \"white\", \"startlinecolor\": \"#2a3f5f\"}, \"baxis\": {\"endlinecolor\": \"#2a3f5f\", \"gridcolor\": \"white\", \"linecolor\": \"white\", \"minorgridcolor\": \"white\", \"startlinecolor\": \"#2a3f5f\"}, \"type\": \"carpet\"}], \"choropleth\": [{\"colorbar\": {\"outlinewidth\": 0, \"ticks\": \"\"}, \"type\": \"choropleth\"}], \"contour\": [{\"colorbar\": {\"outlinewidth\": 0, \"ticks\": \"\"}, \"colorscale\": [[0.0, \"#0d0887\"], [0.1111111111111111, \"#46039f\"], [0.2222222222222222, \"#7201a8\"], [0.3333333333333333, \"#9c179e\"], [0.4444444444444444, \"#bd3786\"], [0.5555555555555556, \"#d8576b\"], [0.6666666666666666, \"#ed7953\"], [0.7777777777777778, \"#fb9f3a\"], [0.8888888888888888, \"#fdca26\"], [1.0, \"#f0f921\"]], \"type\": \"contour\"}], \"contourcarpet\": [{\"colorbar\": {\"outlinewidth\": 0, \"ticks\": \"\"}, \"type\": \"contourcarpet\"}], \"heatmap\": [{\"colorbar\": {\"outlinewidth\": 0, \"ticks\": \"\"}, \"colorscale\": [[0.0, \"#0d0887\"], [0.1111111111111111, \"#46039f\"], [0.2222222222222222, \"#7201a8\"], [0.3333333333333333, \"#9c179e\"], [0.4444444444444444, \"#bd3786\"], [0.5555555555555556, \"#d8576b\"], [0.6666666666666666, \"#ed7953\"], [0.7777777777777778, \"#fb9f3a\"], [0.8888888888888888, \"#fdca26\"], [1.0, \"#f0f921\"]], \"type\": \"heatmap\"}], \"heatmapgl\": [{\"colorbar\": {\"outlinewidth\": 0, \"ticks\": \"\"}, \"colorscale\": [[0.0, \"#0d0887\"], [0.1111111111111111, \"#46039f\"], [0.2222222222222222, \"#7201a8\"], [0.3333333333333333, \"#9c179e\"], [0.4444444444444444, \"#bd3786\"], [0.5555555555555556, \"#d8576b\"], [0.6666666666666666, \"#ed7953\"], [0.7777777777777778, \"#fb9f3a\"], [0.8888888888888888, \"#fdca26\"], [1.0, \"#f0f921\"]], \"type\": \"heatmapgl\"}], \"histogram\": [{\"marker\": {\"colorbar\": {\"outlinewidth\": 0, \"ticks\": \"\"}}, \"type\": \"histogram\"}], \"histogram2d\": [{\"colorbar\": {\"outlinewidth\": 0, \"ticks\": \"\"}, \"colorscale\": [[0.0, \"#0d0887\"], [0.1111111111111111, \"#46039f\"], [0.2222222222222222, \"#7201a8\"], [0.3333333333333333, \"#9c179e\"], [0.4444444444444444, \"#bd3786\"], [0.5555555555555556, \"#d8576b\"], [0.6666666666666666, \"#ed7953\"], [0.7777777777777778, \"#fb9f3a\"], [0.8888888888888888, \"#fdca26\"], [1.0, \"#f0f921\"]], \"type\": \"histogram2d\"}], \"histogram2dcontour\": [{\"colorbar\": {\"outlinewidth\": 0, \"ticks\": \"\"}, \"colorscale\": [[0.0, \"#0d0887\"], [0.1111111111111111, \"#46039f\"], [0.2222222222222222, \"#7201a8\"], [0.3333333333333333, \"#9c179e\"], [0.4444444444444444, \"#bd3786\"], [0.5555555555555556, \"#d8576b\"], [0.6666666666666666, \"#ed7953\"], [0.7777777777777778, \"#fb9f3a\"], [0.8888888888888888, \"#fdca26\"], [1.0, \"#f0f921\"]], \"type\": \"histogram2dcontour\"}], \"mesh3d\": [{\"colorbar\": {\"outlinewidth\": 0, \"ticks\": \"\"}, \"type\": \"mesh3d\"}], \"parcoords\": [{\"line\": {\"colorbar\": {\"outlinewidth\": 0, \"ticks\": \"\"}}, \"type\": \"parcoords\"}], \"pie\": [{\"automargin\": true, \"type\": \"pie\"}], \"scatter\": [{\"marker\": {\"colorbar\": {\"outlinewidth\": 0, \"ticks\": \"\"}}, \"type\": \"scatter\"}], \"scatter3d\": [{\"line\": {\"colorbar\": {\"outlinewidth\": 0, \"ticks\": \"\"}}, \"marker\": {\"colorbar\": {\"outlinewidth\": 0, \"ticks\": \"\"}}, \"type\": \"scatter3d\"}], \"scattercarpet\": [{\"marker\": {\"colorbar\": {\"outlinewidth\": 0, \"ticks\": \"\"}}, \"type\": \"scattercarpet\"}], \"scattergeo\": [{\"marker\": {\"colorbar\": {\"outlinewidth\": 0, \"ticks\": \"\"}}, \"type\": \"scattergeo\"}], \"scattergl\": [{\"marker\": {\"colorbar\": {\"outlinewidth\": 0, \"ticks\": \"\"}}, \"type\": \"scattergl\"}], \"scattermapbox\": [{\"marker\": {\"colorbar\": {\"outlinewidth\": 0, \"ticks\": \"\"}}, \"type\": \"scattermapbox\"}], \"scatterpolar\": [{\"marker\": {\"colorbar\": {\"outlinewidth\": 0, \"ticks\": \"\"}}, \"type\": \"scatterpolar\"}], \"scatterpolargl\": [{\"marker\": {\"colorbar\": {\"outlinewidth\": 0, \"ticks\": \"\"}}, \"type\": \"scatterpolargl\"}], \"scatterternary\": [{\"marker\": {\"colorbar\": {\"outlinewidth\": 0, \"ticks\": \"\"}}, \"type\": \"scatterternary\"}], \"surface\": [{\"colorbar\": {\"outlinewidth\": 0, \"ticks\": \"\"}, \"colorscale\": [[0.0, \"#0d0887\"], [0.1111111111111111, \"#46039f\"], [0.2222222222222222, \"#7201a8\"], [0.3333333333333333, \"#9c179e\"], [0.4444444444444444, \"#bd3786\"], [0.5555555555555556, \"#d8576b\"], [0.6666666666666666, \"#ed7953\"], [0.7777777777777778, \"#fb9f3a\"], [0.8888888888888888, \"#fdca26\"], [1.0, \"#f0f921\"]], \"type\": \"surface\"}], \"table\": [{\"cells\": {\"fill\": {\"color\": \"#EBF0F8\"}, \"line\": {\"color\": \"white\"}}, \"header\": {\"fill\": {\"color\": \"#C8D4E3\"}, \"line\": {\"color\": \"white\"}}, \"type\": \"table\"}]}, \"layout\": {\"annotationdefaults\": {\"arrowcolor\": \"#2a3f5f\", \"arrowhead\": 0, \"arrowwidth\": 1}, \"coloraxis\": {\"colorbar\": {\"outlinewidth\": 0, \"ticks\": \"\"}}, \"colorscale\": {\"diverging\": [[0, \"#8e0152\"], [0.1, \"#c51b7d\"], [0.2, \"#de77ae\"], [0.3, \"#f1b6da\"], [0.4, \"#fde0ef\"], [0.5, \"#f7f7f7\"], [0.6, \"#e6f5d0\"], [0.7, \"#b8e186\"], [0.8, \"#7fbc41\"], [0.9, \"#4d9221\"], [1, \"#276419\"]], \"sequential\": [[0.0, \"#0d0887\"], [0.1111111111111111, \"#46039f\"], [0.2222222222222222, \"#7201a8\"], [0.3333333333333333, \"#9c179e\"], [0.4444444444444444, \"#bd3786\"], [0.5555555555555556, \"#d8576b\"], [0.6666666666666666, \"#ed7953\"], [0.7777777777777778, \"#fb9f3a\"], [0.8888888888888888, \"#fdca26\"], [1.0, \"#f0f921\"]], \"sequentialminus\": [[0.0, \"#0d0887\"], [0.1111111111111111, \"#46039f\"], [0.2222222222222222, \"#7201a8\"], [0.3333333333333333, \"#9c179e\"], [0.4444444444444444, \"#bd3786\"], [0.5555555555555556, \"#d8576b\"], [0.6666666666666666, \"#ed7953\"], [0.7777777777777778, \"#fb9f3a\"], [0.8888888888888888, \"#fdca26\"], [1.0, \"#f0f921\"]]}, \"colorway\": [\"#636efa\", \"#EF553B\", \"#00cc96\", \"#ab63fa\", \"#FFA15A\", \"#19d3f3\", \"#FF6692\", \"#B6E880\", \"#FF97FF\", \"#FECB52\"], \"font\": {\"color\": \"#2a3f5f\"}, \"geo\": {\"bgcolor\": \"white\", \"lakecolor\": \"white\", \"landcolor\": \"#E5ECF6\", \"showlakes\": true, \"showland\": true, \"subunitcolor\": \"white\"}, \"hoverlabel\": {\"align\": \"left\"}, \"hovermode\": \"closest\", \"mapbox\": {\"style\": \"light\"}, \"paper_bgcolor\": \"white\", \"plot_bgcolor\": \"#E5ECF6\", \"polar\": {\"angularaxis\": {\"gridcolor\": \"white\", \"linecolor\": \"white\", \"ticks\": \"\"}, \"bgcolor\": \"#E5ECF6\", \"radialaxis\": {\"gridcolor\": \"white\", \"linecolor\": \"white\", \"ticks\": \"\"}}, \"scene\": {\"xaxis\": {\"backgroundcolor\": \"#E5ECF6\", \"gridcolor\": \"white\", \"gridwidth\": 2, \"linecolor\": \"white\", \"showbackground\": true, \"ticks\": \"\", \"zerolinecolor\": \"white\"}, \"yaxis\": {\"backgroundcolor\": \"#E5ECF6\", \"gridcolor\": \"white\", \"gridwidth\": 2, \"linecolor\": \"white\", \"showbackground\": true, \"ticks\": \"\", \"zerolinecolor\": \"white\"}, \"zaxis\": {\"backgroundcolor\": \"#E5ECF6\", \"gridcolor\": \"white\", \"gridwidth\": 2, \"linecolor\": \"white\", \"showbackground\": true, \"ticks\": \"\", \"zerolinecolor\": \"white\"}}, \"shapedefaults\": {\"line\": {\"color\": \"#2a3f5f\"}}, \"ternary\": {\"aaxis\": {\"gridcolor\": \"white\", \"linecolor\": \"white\", \"ticks\": \"\"}, \"baxis\": {\"gridcolor\": \"white\", \"linecolor\": \"white\", \"ticks\": \"\"}, \"bgcolor\": \"#E5ECF6\", \"caxis\": {\"gridcolor\": \"white\", \"linecolor\": \"white\", \"ticks\": \"\"}}, \"title\": {\"x\": 0.05}, \"xaxis\": {\"automargin\": true, \"gridcolor\": \"white\", \"linecolor\": \"white\", \"ticks\": \"\", \"title\": {\"standoff\": 15}, \"zerolinecolor\": \"white\", \"zerolinewidth\": 2}, \"yaxis\": {\"automargin\": true, \"gridcolor\": \"white\", \"linecolor\": \"white\", \"ticks\": \"\", \"title\": {\"standoff\": 15}, \"zerolinecolor\": \"white\", \"zerolinewidth\": 2}}}, \"xaxis\": {\"anchor\": \"y\", \"domain\": [0.0, 1.0], \"dtick\": \"M1\", \"tickformat\": \"%b %d\\n%Y\", \"title\": {\"text\": \"date\"}}, \"yaxis\": {\"anchor\": \"x\", \"domain\": [0.0, 1.0], \"title\": {\"text\": \"value\"}}},\n",
              "                        {\"responsive\": true}\n",
              "                    ).then(function(){\n",
              "                            \n",
              "var gd = document.getElementById('58c5275b-a347-4ff3-8763-22a73423ced5');\n",
              "var x = new MutationObserver(function (mutations, observer) {{\n",
              "        var display = window.getComputedStyle(gd).display;\n",
              "        if (!display || display === 'none') {{\n",
              "            console.log([gd, 'removed!']);\n",
              "            Plotly.purge(gd);\n",
              "            observer.disconnect();\n",
              "        }}\n",
              "}});\n",
              "\n",
              "// Listen for the removal of the full notebook cells\n",
              "var notebookContainer = gd.closest('#notebook-container');\n",
              "if (notebookContainer) {{\n",
              "    x.observe(notebookContainer, {childList: true});\n",
              "}}\n",
              "\n",
              "// Listen for the clearing of the current output cell\n",
              "var outputEl = gd.closest('.output');\n",
              "if (outputEl) {{\n",
              "    x.observe(outputEl, {childList: true});\n",
              "}}\n",
              "\n",
              "                        })\n",
              "                };\n",
              "                \n",
              "            </script>\n",
              "        </div>\n",
              "</body>\n",
              "</html>"
            ]
          },
          "metadata": {
            "tags": []
          }
        }
      ]
    },
    {
      "cell_type": "markdown",
      "metadata": {
        "id": "jWD7JG2SB9qO"
      },
      "source": [
        "In the graph above, there is a significant reduction in the conversion rate on March 1 for both the search page and the payment page. Meanwhile, Feb 1 does not show an increase in conversion rate even though the previous graph shows an increase in visitors on that date. The payment confirmation page tends not to experience significant changes but has also decreased since March 1."
      ]
    },
    {
      "cell_type": "code",
      "metadata": {
        "colab": {
          "base_uri": "https://localhost:8080/",
          "height": 378
        },
        "id": "mcC0yhFzdR1s",
        "outputId": "e2d3a9a6-a6fb-491d-eeb0-336a21ab306b"
      },
      "source": [
        "#calculate the visitors by time for every page\r\n",
        "gender = df.groupby(['date', 'sex']).agg({'search_page': 'sum', 'payment_page': 'sum', 'payment_confirmation_page': 'sum'})\r\n",
        "#manipulate the dataframe to be able to calculate the conversion rate\r\n",
        "gender.columns = ['search_page', 'payment_page', 'payment_confirmation_page']\r\n",
        "gender = pd.DataFrame(gender.reset_index())\r\n",
        "gender = gender.melt(id_vars=[\"date\", \"sex\"]) \r\n",
        "gender['variable'] = gender['sex'] +'_'+ gender['variable']\r\n",
        "gender.drop(columns='sex', inplace=True)\r\n",
        "gender= gender.pivot( index='date', columns=\"variable\", values=\"value\")\r\n",
        "\r\n",
        "#calculate the visitors by time for every gender\r\n",
        "gender2 = pd.get_dummies(df[['date', 'sex']], columns=['sex'], drop_first=False)\r\n",
        "gender2 = gender2.groupby('date', as_index= False)['sex_Female', 'sex_Male'].sum()\r\n",
        "\r\n",
        "#merge two tables\r\n",
        "gender3 = gender.merge(gender2,\r\n",
        "              how='left',\r\n",
        "              left_index=True,\r\n",
        "              right_on='date')\r\n",
        "\r\n",
        "gender3.head()"
      ],
      "execution_count": 22,
      "outputs": [
        {
          "output_type": "stream",
          "text": [
            "/usr/local/lib/python3.6/dist-packages/ipykernel_launcher.py:13: FutureWarning:\n",
            "\n",
            "Indexing with multiple keys (implicitly converted to a tuple of keys) will be deprecated, use a list instead.\n",
            "\n"
          ],
          "name": "stderr"
        },
        {
          "output_type": "execute_result",
          "data": {
            "text/html": [
              "<div>\n",
              "<style scoped>\n",
              "    .dataframe tbody tr th:only-of-type {\n",
              "        vertical-align: middle;\n",
              "    }\n",
              "\n",
              "    .dataframe tbody tr th {\n",
              "        vertical-align: top;\n",
              "    }\n",
              "\n",
              "    .dataframe thead th {\n",
              "        text-align: right;\n",
              "    }\n",
              "</style>\n",
              "<table border=\"1\" class=\"dataframe\">\n",
              "  <thead>\n",
              "    <tr style=\"text-align: right;\">\n",
              "      <th></th>\n",
              "      <th>Female_payment_confirmation_page</th>\n",
              "      <th>Female_payment_page</th>\n",
              "      <th>Female_search_page</th>\n",
              "      <th>Male_payment_confirmation_page</th>\n",
              "      <th>Male_payment_page</th>\n",
              "      <th>Male_search_page</th>\n",
              "      <th>date</th>\n",
              "      <th>sex_Female</th>\n",
              "      <th>sex_Male</th>\n",
              "    </tr>\n",
              "  </thead>\n",
              "  <tbody>\n",
              "    <tr>\n",
              "      <th>0</th>\n",
              "      <td>3.0</td>\n",
              "      <td>45.0</td>\n",
              "      <td>220.0</td>\n",
              "      <td>3.0</td>\n",
              "      <td>31.0</td>\n",
              "      <td>216.0</td>\n",
              "      <td>2015-01-01</td>\n",
              "      <td>351.0</td>\n",
              "      <td>361.0</td>\n",
              "    </tr>\n",
              "    <tr>\n",
              "      <th>1</th>\n",
              "      <td>2.0</td>\n",
              "      <td>41.0</td>\n",
              "      <td>229.0</td>\n",
              "      <td>3.0</td>\n",
              "      <td>43.0</td>\n",
              "      <td>218.0</td>\n",
              "      <td>2015-01-02</td>\n",
              "      <td>355.0</td>\n",
              "      <td>366.0</td>\n",
              "    </tr>\n",
              "    <tr>\n",
              "      <th>2</th>\n",
              "      <td>3.0</td>\n",
              "      <td>26.0</td>\n",
              "      <td>200.0</td>\n",
              "      <td>4.0</td>\n",
              "      <td>38.0</td>\n",
              "      <td>222.0</td>\n",
              "      <td>2015-01-03</td>\n",
              "      <td>375.0</td>\n",
              "      <td>385.0</td>\n",
              "    </tr>\n",
              "    <tr>\n",
              "      <th>3</th>\n",
              "      <td>2.0</td>\n",
              "      <td>40.0</td>\n",
              "      <td>227.0</td>\n",
              "      <td>5.0</td>\n",
              "      <td>36.0</td>\n",
              "      <td>220.0</td>\n",
              "      <td>2015-01-04</td>\n",
              "      <td>361.0</td>\n",
              "      <td>352.0</td>\n",
              "    </tr>\n",
              "    <tr>\n",
              "      <th>4</th>\n",
              "      <td>6.0</td>\n",
              "      <td>44.0</td>\n",
              "      <td>222.0</td>\n",
              "      <td>5.0</td>\n",
              "      <td>44.0</td>\n",
              "      <td>240.0</td>\n",
              "      <td>2015-01-05</td>\n",
              "      <td>360.0</td>\n",
              "      <td>394.0</td>\n",
              "    </tr>\n",
              "  </tbody>\n",
              "</table>\n",
              "</div>"
            ],
            "text/plain": [
              "   Female_payment_confirmation_page  Female_payment_page  ...  sex_Female  sex_Male\n",
              "0                               3.0                 45.0  ...       351.0     361.0\n",
              "1                               2.0                 41.0  ...       355.0     366.0\n",
              "2                               3.0                 26.0  ...       375.0     385.0\n",
              "3                               2.0                 40.0  ...       361.0     352.0\n",
              "4                               6.0                 44.0  ...       360.0     394.0\n",
              "\n",
              "[5 rows x 9 columns]"
            ]
          },
          "metadata": {
            "tags": []
          },
          "execution_count": 22
        }
      ]
    },
    {
      "cell_type": "code",
      "metadata": {
        "colab": {
          "base_uri": "https://localhost:8080/",
          "height": 542
        },
        "id": "LbjClb80K52f",
        "outputId": "93d74f66-afa2-4dd3-e776-6fe66443c867"
      },
      "source": [
        "#define the function for calculate conversion rate\r\n",
        "def cvr_rate_m (variable):\r\n",
        "  return variable*100/gender3['sex_Male']\r\n",
        "\r\n",
        "def cvr_rate_f (variable):\r\n",
        "  return variable*100/gender3['sex_Female']\r\n",
        "\r\n",
        "#calculate conversion rate by page and by gender\r\n",
        "gender3[[\"Female_search_page %\", 'Female_payment_page %', 'Female_payment_confirmation_page %']] = gender3[[\"Female_search_page\", 'Female_payment_page', 'Female_payment_confirmation_page']].apply(cvr_rate_f) \r\n",
        "gender3[[\"Male_search_page %\", 'Male_payment_page %', 'Male_payment_confirmation_page %']] = gender3[[\"Male_search_page\", 'Male_payment_page', 'Male_payment_confirmation_page']].apply(cvr_rate_m) \r\n",
        "#drop a few columns that useless\r\n",
        "gender3 = gender3.drop(columns=[\"Female_search_page\", 'Female_payment_page', 'Female_payment_confirmation_page', \"Male_search_page\", 'Male_payment_page', 'Male_payment_confirmation_page', 'sex_Male', 'sex_Female'])\r\n",
        "#reshape the dataframe using melt function to be able apllied to the graph\r\n",
        "gender_melt= gender3.melt(id_vars=[\"date\"])  \r\n",
        "\r\n",
        "#plot the data \r\n",
        "fig = px.line(gender_melt, x='date', y='value',\r\n",
        "              color=\"variable\",\r\n",
        "              line_group=\"variable\", hover_name=\"variable\")\r\n",
        "fig.update_xaxes(\r\n",
        "    dtick=\"M1\",\r\n",
        "    tickformat=\"%b %d\\n%Y\")\r\n",
        "fig.show()\r\n"
      ],
      "execution_count": 23,
      "outputs": [
        {
          "output_type": "display_data",
          "data": {
            "text/html": [
              "<html>\n",
              "<head><meta charset=\"utf-8\" /></head>\n",
              "<body>\n",
              "    <div>\n",
              "            <script src=\"https://cdnjs.cloudflare.com/ajax/libs/mathjax/2.7.5/MathJax.js?config=TeX-AMS-MML_SVG\"></script><script type=\"text/javascript\">if (window.MathJax) {MathJax.Hub.Config({SVG: {font: \"STIX-Web\"}});}</script>\n",
              "                <script type=\"text/javascript\">window.PlotlyConfig = {MathJaxConfig: 'local'};</script>\n",
              "        <script src=\"https://cdn.plot.ly/plotly-latest.min.js\"></script>    \n",
              "            <div id=\"4d4d7cd9-47e5-4ef2-930d-d37d4116c17a\" class=\"plotly-graph-div\" style=\"height:525px; width:100%;\"></div>\n",
              "            <script type=\"text/javascript\">\n",
              "                \n",
              "                    window.PLOTLYENV=window.PLOTLYENV || {};\n",
              "                    \n",
              "                if (document.getElementById(\"4d4d7cd9-47e5-4ef2-930d-d37d4116c17a\")) {\n",
              "                    Plotly.newPlot(\n",
              "                        '4d4d7cd9-47e5-4ef2-930d-d37d4116c17a',\n",
              "                        [{\"hoverlabel\": {\"namelength\": 0}, \"hovertemplate\": \"<b>%{hovertext}</b><br><br>variable=Female_search_page %<br>date=%{x}<br>value=%{y}\", \"hovertext\": [\"Female_search_page %\", \"Female_search_page %\", \"Female_search_page %\", \"Female_search_page %\", \"Female_search_page %\", \"Female_search_page %\", \"Female_search_page %\", \"Female_search_page %\", \"Female_search_page %\", \"Female_search_page %\", \"Female_search_page %\", \"Female_search_page %\", \"Female_search_page %\", \"Female_search_page %\", \"Female_search_page %\", \"Female_search_page %\", \"Female_search_page %\", \"Female_search_page %\", \"Female_search_page %\", \"Female_search_page %\", \"Female_search_page %\", \"Female_search_page %\", \"Female_search_page %\", \"Female_search_page %\", \"Female_search_page %\", \"Female_search_page %\", \"Female_search_page %\", \"Female_search_page %\", \"Female_search_page %\", \"Female_search_page %\", \"Female_search_page %\", \"Female_search_page %\", \"Female_search_page %\", \"Female_search_page %\", \"Female_search_page %\", \"Female_search_page %\", \"Female_search_page %\", \"Female_search_page %\", \"Female_search_page %\", \"Female_search_page %\", \"Female_search_page %\", \"Female_search_page %\", \"Female_search_page %\", \"Female_search_page %\", \"Female_search_page %\", \"Female_search_page %\", \"Female_search_page %\", \"Female_search_page %\", \"Female_search_page %\", \"Female_search_page %\", \"Female_search_page %\", \"Female_search_page %\", \"Female_search_page %\", \"Female_search_page %\", \"Female_search_page %\", \"Female_search_page %\", \"Female_search_page %\", \"Female_search_page %\", \"Female_search_page %\", \"Female_search_page %\", \"Female_search_page %\", \"Female_search_page %\", \"Female_search_page %\", \"Female_search_page %\", \"Female_search_page %\", \"Female_search_page %\", \"Female_search_page %\", \"Female_search_page %\", \"Female_search_page %\", \"Female_search_page %\", \"Female_search_page %\", \"Female_search_page %\", \"Female_search_page %\", \"Female_search_page %\", \"Female_search_page %\", \"Female_search_page %\", \"Female_search_page %\", \"Female_search_page %\", \"Female_search_page %\", \"Female_search_page %\", \"Female_search_page %\", \"Female_search_page %\", \"Female_search_page %\", \"Female_search_page %\", \"Female_search_page %\", \"Female_search_page %\", \"Female_search_page %\", \"Female_search_page %\", \"Female_search_page %\", \"Female_search_page %\", \"Female_search_page %\", \"Female_search_page %\", \"Female_search_page %\", \"Female_search_page %\", \"Female_search_page %\", \"Female_search_page %\", \"Female_search_page %\", \"Female_search_page %\", \"Female_search_page %\", \"Female_search_page %\", \"Female_search_page %\", \"Female_search_page %\", \"Female_search_page %\", \"Female_search_page %\", \"Female_search_page %\", \"Female_search_page %\", \"Female_search_page %\", \"Female_search_page %\", \"Female_search_page %\", \"Female_search_page %\", \"Female_search_page %\", \"Female_search_page %\", \"Female_search_page %\", \"Female_search_page %\", \"Female_search_page %\", \"Female_search_page %\", \"Female_search_page %\", \"Female_search_page %\", \"Female_search_page %\", \"Female_search_page %\"], \"legendgroup\": \"variable=Female_search_page %\", \"line\": {\"color\": \"#636efa\", \"dash\": \"solid\"}, \"mode\": \"lines\", \"name\": \"variable=Female_search_page %\", \"showlegend\": true, \"type\": \"scatter\", \"x\": [\"2015-01-01\", \"2015-01-02\", \"2015-01-03\", \"2015-01-04\", \"2015-01-05\", \"2015-01-06\", \"2015-01-07\", \"2015-01-08\", \"2015-01-09\", \"2015-01-10\", \"2015-01-11\", \"2015-01-12\", \"2015-01-13\", \"2015-01-14\", \"2015-01-15\", \"2015-01-16\", \"2015-01-17\", \"2015-01-18\", \"2015-01-19\", \"2015-01-20\", \"2015-01-21\", \"2015-01-22\", \"2015-01-23\", \"2015-01-24\", \"2015-01-25\", \"2015-01-26\", \"2015-01-27\", \"2015-01-28\", \"2015-01-29\", \"2015-01-30\", \"2015-01-31\", \"2015-02-01\", \"2015-02-02\", \"2015-02-03\", \"2015-02-04\", \"2015-02-05\", \"2015-02-06\", \"2015-02-07\", \"2015-02-08\", \"2015-02-09\", \"2015-02-10\", \"2015-02-11\", \"2015-02-12\", \"2015-02-13\", \"2015-02-14\", \"2015-02-15\", \"2015-02-16\", \"2015-02-17\", \"2015-02-18\", \"2015-02-19\", \"2015-02-20\", \"2015-02-21\", \"2015-02-22\", \"2015-02-23\", \"2015-02-24\", \"2015-02-25\", \"2015-02-26\", \"2015-02-27\", \"2015-02-28\", \"2015-03-01\", \"2015-03-02\", \"2015-03-03\", \"2015-03-04\", \"2015-03-05\", \"2015-03-06\", \"2015-03-07\", \"2015-03-08\", \"2015-03-09\", \"2015-03-10\", \"2015-03-11\", \"2015-03-12\", \"2015-03-13\", \"2015-03-14\", \"2015-03-15\", \"2015-03-16\", \"2015-03-17\", \"2015-03-18\", \"2015-03-19\", \"2015-03-20\", \"2015-03-21\", \"2015-03-22\", \"2015-03-23\", \"2015-03-24\", \"2015-03-25\", \"2015-03-26\", \"2015-03-27\", \"2015-03-28\", \"2015-03-29\", \"2015-03-30\", \"2015-03-31\", \"2015-04-01\", \"2015-04-02\", \"2015-04-03\", \"2015-04-04\", \"2015-04-05\", \"2015-04-06\", \"2015-04-07\", \"2015-04-08\", \"2015-04-09\", \"2015-04-10\", \"2015-04-11\", \"2015-04-12\", \"2015-04-13\", \"2015-04-14\", \"2015-04-15\", \"2015-04-16\", \"2015-04-17\", \"2015-04-18\", \"2015-04-19\", \"2015-04-20\", \"2015-04-21\", \"2015-04-22\", \"2015-04-23\", \"2015-04-24\", \"2015-04-25\", \"2015-04-26\", \"2015-04-27\", \"2015-04-28\", \"2015-04-29\", \"2015-04-30\"], \"xaxis\": \"x\", \"y\": [62.67806267806268, 64.50704225352112, 53.333333333333336, 62.880886426592795, 61.666666666666664, 62.59946949602122, 58.4070796460177, 56.78670360110803, 57.99457994579946, 63.143631436314365, 61.578947368421055, 60.25974025974026, 61.72106824925816, 60.47120418848168, 58.880778588807786, 62.745098039215684, 61.47540983606557, 63.109756097560975, 57.868020304568525, 59.78260869565217, 57.291666666666664, 59.40860215053763, 61.27167630057804, 58.22102425876011, 60.14669926650367, 63.855421686746986, 61.940298507462686, 63.101604278074866, 63.06068601583114, 57.983193277310924, 60.60606060606061, 61.267605633802816, 61.82669789227166, 57.180851063829785, 61.388888888888886, 59.899749373433586, 61.265822784810126, 62.76346604215457, 59.82142857142857, 60.89108910891089, 62.8992628992629, 56.598984771573605, 60.301507537688444, 64.78494623655914, 60.526315789473685, 59.47867298578199, 59.13978494623656, 60.79404466501241, 63.75, 59.5, 58.45410628019324, 61.68478260869565, 63.25, 64.03940886699507, 62.99212598425197, 61.53846153846154, 57.6530612244898, 57.9746835443038, 63.366336633663366, 41.94444444444444, 35.58441558441559, 40.7202216066482, 38.611111111111114, 39.03133903133903, 38.59154929577465, 40.78947368421053, 33.333333333333336, 44.868035190615835, 38.38120104438642, 38.84057971014493, 41.6, 37.90087463556851, 43.88297872340426, 37.93103448275862, 38.87323943661972, 42.38227146814405, 38.095238095238095, 42.774566473988436, 41.26984126984127, 40.63400576368876, 41.48351648351648, 37.85900783289817, 40.10840108401084, 42.3728813559322, 38.05555555555556, 39.166666666666664, 38.08139534883721, 36.68639053254438, 40.30612244897959, 37.56613756613756, 36.61971830985915, 34.73389355742297, 39.54659949622166, 39.89071038251366, 40.7202216066482, 40.74074074074074, 39.949748743718594, 38.95486935866983, 38.96457765667575, 43.28767123287671, 40.84507042253521, 37.634408602150536, 44.53781512605042, 41.62011173184357, 39.24731182795699, 43.52617079889807, 40.20618556701031, 38.544474393531, 42.49363867684478, 45.15151515151515, 37.4025974025974, 43.96782841823056, 41.07648725212464, 37.696335078534034, 40.31413612565445, 41.77215189873418, 36.59147869674185, 41.80327868852459, 35.0, 39.18575063613232], \"yaxis\": \"y\"}, {\"hoverlabel\": {\"namelength\": 0}, \"hovertemplate\": \"<b>%{hovertext}</b><br><br>variable=Female_payment_page %<br>date=%{x}<br>value=%{y}\", \"hovertext\": [\"Female_payment_page %\", \"Female_payment_page %\", \"Female_payment_page %\", \"Female_payment_page %\", \"Female_payment_page %\", \"Female_payment_page %\", \"Female_payment_page %\", \"Female_payment_page %\", \"Female_payment_page %\", \"Female_payment_page %\", \"Female_payment_page %\", \"Female_payment_page %\", \"Female_payment_page %\", \"Female_payment_page %\", \"Female_payment_page %\", \"Female_payment_page %\", \"Female_payment_page %\", \"Female_payment_page %\", \"Female_payment_page %\", \"Female_payment_page %\", \"Female_payment_page %\", \"Female_payment_page %\", \"Female_payment_page %\", \"Female_payment_page %\", \"Female_payment_page %\", \"Female_payment_page %\", \"Female_payment_page %\", \"Female_payment_page %\", \"Female_payment_page %\", \"Female_payment_page %\", \"Female_payment_page %\", \"Female_payment_page %\", \"Female_payment_page %\", \"Female_payment_page %\", \"Female_payment_page %\", \"Female_payment_page %\", \"Female_payment_page %\", \"Female_payment_page %\", \"Female_payment_page %\", \"Female_payment_page %\", \"Female_payment_page %\", \"Female_payment_page %\", \"Female_payment_page %\", \"Female_payment_page %\", \"Female_payment_page %\", \"Female_payment_page %\", \"Female_payment_page %\", \"Female_payment_page %\", \"Female_payment_page %\", \"Female_payment_page %\", \"Female_payment_page %\", \"Female_payment_page %\", \"Female_payment_page %\", \"Female_payment_page %\", \"Female_payment_page %\", \"Female_payment_page %\", \"Female_payment_page %\", \"Female_payment_page %\", \"Female_payment_page %\", \"Female_payment_page %\", \"Female_payment_page %\", \"Female_payment_page %\", \"Female_payment_page %\", \"Female_payment_page %\", \"Female_payment_page %\", \"Female_payment_page %\", \"Female_payment_page %\", \"Female_payment_page %\", \"Female_payment_page %\", \"Female_payment_page %\", \"Female_payment_page %\", \"Female_payment_page %\", \"Female_payment_page %\", \"Female_payment_page %\", \"Female_payment_page %\", \"Female_payment_page %\", \"Female_payment_page %\", \"Female_payment_page %\", \"Female_payment_page %\", \"Female_payment_page %\", \"Female_payment_page %\", \"Female_payment_page %\", \"Female_payment_page %\", \"Female_payment_page %\", \"Female_payment_page %\", \"Female_payment_page %\", \"Female_payment_page %\", \"Female_payment_page %\", \"Female_payment_page %\", \"Female_payment_page %\", \"Female_payment_page %\", \"Female_payment_page %\", \"Female_payment_page %\", \"Female_payment_page %\", \"Female_payment_page %\", \"Female_payment_page %\", \"Female_payment_page %\", \"Female_payment_page %\", \"Female_payment_page %\", \"Female_payment_page %\", \"Female_payment_page %\", \"Female_payment_page %\", \"Female_payment_page %\", \"Female_payment_page %\", \"Female_payment_page %\", \"Female_payment_page %\", \"Female_payment_page %\", \"Female_payment_page %\", \"Female_payment_page %\", \"Female_payment_page %\", \"Female_payment_page %\", \"Female_payment_page %\", \"Female_payment_page %\", \"Female_payment_page %\", \"Female_payment_page %\", \"Female_payment_page %\", \"Female_payment_page %\", \"Female_payment_page %\", \"Female_payment_page %\", \"Female_payment_page %\"], \"legendgroup\": \"variable=Female_payment_page %\", \"line\": {\"color\": \"#EF553B\", \"dash\": \"solid\"}, \"mode\": \"lines\", \"name\": \"variable=Female_payment_page %\", \"showlegend\": true, \"type\": \"scatter\", \"x\": [\"2015-01-01\", \"2015-01-02\", \"2015-01-03\", \"2015-01-04\", \"2015-01-05\", \"2015-01-06\", \"2015-01-07\", \"2015-01-08\", \"2015-01-09\", \"2015-01-10\", \"2015-01-11\", \"2015-01-12\", \"2015-01-13\", \"2015-01-14\", \"2015-01-15\", \"2015-01-16\", \"2015-01-17\", \"2015-01-18\", \"2015-01-19\", \"2015-01-20\", \"2015-01-21\", \"2015-01-22\", \"2015-01-23\", \"2015-01-24\", \"2015-01-25\", \"2015-01-26\", \"2015-01-27\", \"2015-01-28\", \"2015-01-29\", \"2015-01-30\", \"2015-01-31\", \"2015-02-01\", \"2015-02-02\", \"2015-02-03\", \"2015-02-04\", \"2015-02-05\", \"2015-02-06\", \"2015-02-07\", \"2015-02-08\", \"2015-02-09\", \"2015-02-10\", \"2015-02-11\", \"2015-02-12\", \"2015-02-13\", \"2015-02-14\", \"2015-02-15\", \"2015-02-16\", \"2015-02-17\", \"2015-02-18\", \"2015-02-19\", \"2015-02-20\", \"2015-02-21\", \"2015-02-22\", \"2015-02-23\", \"2015-02-24\", \"2015-02-25\", \"2015-02-26\", \"2015-02-27\", \"2015-02-28\", \"2015-03-01\", \"2015-03-02\", \"2015-03-03\", \"2015-03-04\", \"2015-03-05\", \"2015-03-06\", \"2015-03-07\", \"2015-03-08\", \"2015-03-09\", \"2015-03-10\", \"2015-03-11\", \"2015-03-12\", \"2015-03-13\", \"2015-03-14\", \"2015-03-15\", \"2015-03-16\", \"2015-03-17\", \"2015-03-18\", \"2015-03-19\", \"2015-03-20\", \"2015-03-21\", \"2015-03-22\", \"2015-03-23\", \"2015-03-24\", \"2015-03-25\", \"2015-03-26\", \"2015-03-27\", \"2015-03-28\", \"2015-03-29\", \"2015-03-30\", \"2015-03-31\", \"2015-04-01\", \"2015-04-02\", \"2015-04-03\", \"2015-04-04\", \"2015-04-05\", \"2015-04-06\", \"2015-04-07\", \"2015-04-08\", \"2015-04-09\", \"2015-04-10\", \"2015-04-11\", \"2015-04-12\", \"2015-04-13\", \"2015-04-14\", \"2015-04-15\", \"2015-04-16\", \"2015-04-17\", \"2015-04-18\", \"2015-04-19\", \"2015-04-20\", \"2015-04-21\", \"2015-04-22\", \"2015-04-23\", \"2015-04-24\", \"2015-04-25\", \"2015-04-26\", \"2015-04-27\", \"2015-04-28\", \"2015-04-29\", \"2015-04-30\"], \"xaxis\": \"x\", \"y\": [12.820512820512821, 11.549295774647888, 6.933333333333334, 11.0803324099723, 12.222222222222221, 9.283819628647215, 9.734513274336283, 6.648199445983379, 10.840108401084011, 11.382113821138212, 10.263157894736842, 11.168831168831169, 10.089020771513352, 9.68586387434555, 10.218978102189782, 10.644257703081232, 11.748633879781421, 9.146341463414634, 13.451776649746193, 12.5, 10.9375, 9.67741935483871, 11.560693641618498, 10.512129380053908, 12.224938875305623, 14.457831325301205, 11.940298507462687, 12.29946524064171, 12.137203166226913, 7.8431372549019605, 12.396694214876034, 10.328638497652582, 11.7096018735363, 13.03191489361702, 9.722222222222221, 12.030075187969924, 8.860759493670885, 9.836065573770492, 12.053571428571429, 10.643564356435643, 11.547911547911548, 11.16751269035533, 10.804020100502512, 11.827956989247312, 10.526315789473685, 11.848341232227488, 10.75268817204301, 13.647642679900745, 12.0, 11.25, 9.66183574879227, 9.782608695652174, 9.5, 10.344827586206897, 14.698162729658792, 8.391608391608392, 11.73469387755102, 10.126582278481013, 11.138613861386139, 2.7777777777777777, 2.0779220779220777, 2.4930747922437675, 3.611111111111111, 3.133903133903134, 1.971830985915493, 5.0, 2.6881720430107525, 3.5190615835777126, 2.6109660574412534, 5.797101449275362, 2.6666666666666665, 4.373177842565598, 2.393617021276596, 4.244031830238727, 1.971830985915493, 3.601108033240997, 2.5210084033613445, 2.8901734104046244, 3.439153439153439, 2.0172910662824206, 2.197802197802198, 2.088772845953003, 3.252032520325203, 2.824858757062147, 3.888888888888889, 2.5, 1.1627906976744187, 3.2544378698224854, 2.5510204081632653, 3.439153439153439, 3.0985915492957745, 1.1204481792717087, 3.27455919395466, 2.73224043715847, 2.770083102493075, 1.3227513227513228, 3.7688442211055277, 2.8503562945368173, 3.2697547683923704, 1.917808219178082, 2.816901408450704, 2.4193548387096775, 3.641456582633053, 3.0726256983240225, 2.4193548387096775, 3.0303030303030303, 2.577319587628866, 1.6172506738544474, 2.035623409669211, 3.3333333333333335, 1.5584415584415585, 2.4128686327077746, 1.6997167138810199, 1.0471204188481675, 2.6178010471204187, 3.5443037974683542, 2.255639097744361, 3.8251366120218577, 1.1111111111111112, 3.053435114503817], \"yaxis\": \"y\"}, {\"hoverlabel\": {\"namelength\": 0}, \"hovertemplate\": \"<b>%{hovertext}</b><br><br>variable=Female_payment_confirmation_page %<br>date=%{x}<br>value=%{y}\", \"hovertext\": [\"Female_payment_confirmation_page %\", \"Female_payment_confirmation_page %\", \"Female_payment_confirmation_page %\", \"Female_payment_confirmation_page %\", \"Female_payment_confirmation_page %\", \"Female_payment_confirmation_page %\", \"Female_payment_confirmation_page %\", \"Female_payment_confirmation_page %\", \"Female_payment_confirmation_page %\", \"Female_payment_confirmation_page %\", \"Female_payment_confirmation_page %\", \"Female_payment_confirmation_page %\", \"Female_payment_confirmation_page %\", \"Female_payment_confirmation_page %\", \"Female_payment_confirmation_page %\", \"Female_payment_confirmation_page %\", \"Female_payment_confirmation_page %\", \"Female_payment_confirmation_page %\", \"Female_payment_confirmation_page %\", \"Female_payment_confirmation_page %\", \"Female_payment_confirmation_page %\", \"Female_payment_confirmation_page %\", \"Female_payment_confirmation_page %\", \"Female_payment_confirmation_page %\", \"Female_payment_confirmation_page %\", \"Female_payment_confirmation_page %\", \"Female_payment_confirmation_page %\", \"Female_payment_confirmation_page %\", \"Female_payment_confirmation_page %\", \"Female_payment_confirmation_page %\", \"Female_payment_confirmation_page %\", \"Female_payment_confirmation_page %\", \"Female_payment_confirmation_page %\", \"Female_payment_confirmation_page %\", \"Female_payment_confirmation_page %\", \"Female_payment_confirmation_page %\", \"Female_payment_confirmation_page %\", \"Female_payment_confirmation_page %\", \"Female_payment_confirmation_page %\", \"Female_payment_confirmation_page %\", \"Female_payment_confirmation_page %\", \"Female_payment_confirmation_page %\", \"Female_payment_confirmation_page %\", \"Female_payment_confirmation_page %\", \"Female_payment_confirmation_page %\", \"Female_payment_confirmation_page %\", \"Female_payment_confirmation_page %\", \"Female_payment_confirmation_page %\", \"Female_payment_confirmation_page %\", \"Female_payment_confirmation_page %\", \"Female_payment_confirmation_page %\", \"Female_payment_confirmation_page %\", \"Female_payment_confirmation_page %\", \"Female_payment_confirmation_page %\", \"Female_payment_confirmation_page %\", \"Female_payment_confirmation_page %\", \"Female_payment_confirmation_page %\", \"Female_payment_confirmation_page %\", \"Female_payment_confirmation_page %\", \"Female_payment_confirmation_page %\", \"Female_payment_confirmation_page %\", \"Female_payment_confirmation_page %\", \"Female_payment_confirmation_page %\", \"Female_payment_confirmation_page %\", \"Female_payment_confirmation_page %\", \"Female_payment_confirmation_page %\", \"Female_payment_confirmation_page %\", \"Female_payment_confirmation_page %\", \"Female_payment_confirmation_page %\", \"Female_payment_confirmation_page %\", \"Female_payment_confirmation_page %\", \"Female_payment_confirmation_page %\", \"Female_payment_confirmation_page %\", \"Female_payment_confirmation_page %\", \"Female_payment_confirmation_page %\", \"Female_payment_confirmation_page %\", \"Female_payment_confirmation_page %\", \"Female_payment_confirmation_page %\", \"Female_payment_confirmation_page %\", \"Female_payment_confirmation_page %\", \"Female_payment_confirmation_page %\", \"Female_payment_confirmation_page %\", \"Female_payment_confirmation_page %\", \"Female_payment_confirmation_page %\", \"Female_payment_confirmation_page %\", \"Female_payment_confirmation_page %\", \"Female_payment_confirmation_page %\", \"Female_payment_confirmation_page %\", \"Female_payment_confirmation_page %\", \"Female_payment_confirmation_page %\", \"Female_payment_confirmation_page %\", \"Female_payment_confirmation_page %\", \"Female_payment_confirmation_page %\", \"Female_payment_confirmation_page %\", \"Female_payment_confirmation_page %\", \"Female_payment_confirmation_page %\", \"Female_payment_confirmation_page %\", \"Female_payment_confirmation_page %\", \"Female_payment_confirmation_page %\", \"Female_payment_confirmation_page %\", \"Female_payment_confirmation_page %\", \"Female_payment_confirmation_page %\", \"Female_payment_confirmation_page %\", \"Female_payment_confirmation_page %\", \"Female_payment_confirmation_page %\", \"Female_payment_confirmation_page %\", \"Female_payment_confirmation_page %\", \"Female_payment_confirmation_page %\", \"Female_payment_confirmation_page %\", \"Female_payment_confirmation_page %\", \"Female_payment_confirmation_page %\", \"Female_payment_confirmation_page %\", \"Female_payment_confirmation_page %\", \"Female_payment_confirmation_page %\", \"Female_payment_confirmation_page %\", \"Female_payment_confirmation_page %\", \"Female_payment_confirmation_page %\", \"Female_payment_confirmation_page %\", \"Female_payment_confirmation_page %\", \"Female_payment_confirmation_page %\"], \"legendgroup\": \"variable=Female_payment_confirmation_page %\", \"line\": {\"color\": \"#00cc96\", \"dash\": \"solid\"}, \"mode\": \"lines\", \"name\": \"variable=Female_payment_confirmation_page %\", \"showlegend\": true, \"type\": \"scatter\", \"x\": [\"2015-01-01\", \"2015-01-02\", \"2015-01-03\", \"2015-01-04\", \"2015-01-05\", \"2015-01-06\", \"2015-01-07\", \"2015-01-08\", \"2015-01-09\", \"2015-01-10\", \"2015-01-11\", \"2015-01-12\", \"2015-01-13\", \"2015-01-14\", \"2015-01-15\", \"2015-01-16\", \"2015-01-17\", \"2015-01-18\", \"2015-01-19\", \"2015-01-20\", \"2015-01-21\", \"2015-01-22\", \"2015-01-23\", \"2015-01-24\", \"2015-01-25\", \"2015-01-26\", \"2015-01-27\", \"2015-01-28\", \"2015-01-29\", \"2015-01-30\", \"2015-01-31\", \"2015-02-01\", \"2015-02-02\", \"2015-02-03\", \"2015-02-04\", \"2015-02-05\", \"2015-02-06\", \"2015-02-07\", \"2015-02-08\", \"2015-02-09\", \"2015-02-10\", \"2015-02-11\", \"2015-02-12\", \"2015-02-13\", \"2015-02-14\", \"2015-02-15\", \"2015-02-16\", \"2015-02-17\", \"2015-02-18\", \"2015-02-19\", \"2015-02-20\", \"2015-02-21\", \"2015-02-22\", \"2015-02-23\", \"2015-02-24\", \"2015-02-25\", \"2015-02-26\", \"2015-02-27\", \"2015-02-28\", \"2015-03-01\", \"2015-03-02\", \"2015-03-03\", \"2015-03-04\", \"2015-03-05\", \"2015-03-06\", \"2015-03-07\", \"2015-03-08\", \"2015-03-09\", \"2015-03-10\", \"2015-03-11\", \"2015-03-12\", \"2015-03-13\", \"2015-03-14\", \"2015-03-15\", \"2015-03-16\", \"2015-03-17\", \"2015-03-18\", \"2015-03-19\", \"2015-03-20\", \"2015-03-21\", \"2015-03-22\", \"2015-03-23\", \"2015-03-24\", \"2015-03-25\", \"2015-03-26\", \"2015-03-27\", \"2015-03-28\", \"2015-03-29\", \"2015-03-30\", \"2015-03-31\", \"2015-04-01\", \"2015-04-02\", \"2015-04-03\", \"2015-04-04\", \"2015-04-05\", \"2015-04-06\", \"2015-04-07\", \"2015-04-08\", \"2015-04-09\", \"2015-04-10\", \"2015-04-11\", \"2015-04-12\", \"2015-04-13\", \"2015-04-14\", \"2015-04-15\", \"2015-04-16\", \"2015-04-17\", \"2015-04-18\", \"2015-04-19\", \"2015-04-20\", \"2015-04-21\", \"2015-04-22\", \"2015-04-23\", \"2015-04-24\", \"2015-04-25\", \"2015-04-26\", \"2015-04-27\", \"2015-04-28\", \"2015-04-29\", \"2015-04-30\"], \"xaxis\": \"x\", \"y\": [0.8547008547008547, 0.5633802816901409, 0.8, 0.554016620498615, 1.6666666666666667, 1.5915119363395225, 0.5899705014749262, 0.8310249307479224, 1.084010840108401, 0.8130081300813008, 1.5789473684210527, 1.0389610389610389, 0.0, 1.5706806282722514, 0.9732360097323601, 0.8403361344537815, 1.366120218579235, 0.6097560975609756, 1.015228426395939, 1.0869565217391304, 0.5208333333333334, 0.5376344086021505, 1.4450867052023122, 0.8086253369272237, 1.2224938875305624, 1.2048192771084338, 0.746268656716418, 1.6042780748663101, 0.5277044854881267, 0.8403361344537815, 0.5509641873278237, 1.408450704225352, 1.17096018735363, 1.3297872340425532, 0.2777777777777778, 0.7518796992481203, 0.759493670886076, 1.405152224824356, 0.44642857142857145, 1.2376237623762376, 0.7371007371007371, 0.7614213197969543, 0.25125628140703515, 0.0, 1.0526315789473684, 0.0, 1.6129032258064515, 0.9925558312655087, 0.5, 0.5, 0.0, 0.5434782608695652, 0.75, 0.7389162561576355, 1.837270341207349, 0.4662004662004662, 0.7653061224489796, 0.25316455696202533, 0.9900990099009901, 0.0, 0.2597402597402597, 0.554016620498615, 0.5555555555555556, 0.0, 0.0, 0.5263157894736842, 0.26881720430107525, 0.2932551319648094, 0.0, 0.2898550724637681, 0.5333333333333333, 0.2915451895043732, 0.0, 0.7957559681697612, 0.0, 0.0, 0.0, 0.5780346820809249, 0.7936507936507936, 0.0, 0.0, 0.0, 0.27100271002710025, 0.0, 0.2777777777777778, 0.0, 0.0, 0.2958579881656805, 0.25510204081632654, 0.26455026455026454, 0.0, 0.0, 0.2518891687657431, 0.546448087431694, 0.554016620498615, 0.26455026455026454, 0.5025125628140703, 0.2375296912114014, 0.8174386920980926, 0.0, 0.0, 0.0, 0.2801120448179272, 0.0, 0.26881720430107525, 0.0, 0.0, 0.0, 0.2544529262086514, 0.0, 0.2597402597402597, 0.2680965147453083, 0.0, 0.0, 0.0, 0.25316455696202533, 0.2506265664160401, 0.273224043715847, 0.0, 0.0], \"yaxis\": \"y\"}, {\"hoverlabel\": {\"namelength\": 0}, \"hovertemplate\": \"<b>%{hovertext}</b><br><br>variable=Male_search_page %<br>date=%{x}<br>value=%{y}\", \"hovertext\": [\"Male_search_page %\", \"Male_search_page %\", \"Male_search_page %\", \"Male_search_page %\", \"Male_search_page %\", \"Male_search_page %\", \"Male_search_page %\", \"Male_search_page %\", \"Male_search_page %\", \"Male_search_page %\", \"Male_search_page %\", \"Male_search_page %\", \"Male_search_page %\", \"Male_search_page %\", \"Male_search_page %\", \"Male_search_page %\", \"Male_search_page %\", \"Male_search_page %\", \"Male_search_page %\", \"Male_search_page %\", \"Male_search_page %\", \"Male_search_page %\", \"Male_search_page %\", \"Male_search_page %\", \"Male_search_page %\", \"Male_search_page %\", \"Male_search_page %\", \"Male_search_page %\", \"Male_search_page %\", \"Male_search_page %\", \"Male_search_page %\", \"Male_search_page %\", \"Male_search_page %\", \"Male_search_page %\", \"Male_search_page %\", \"Male_search_page %\", \"Male_search_page %\", \"Male_search_page %\", \"Male_search_page %\", \"Male_search_page %\", \"Male_search_page %\", \"Male_search_page %\", \"Male_search_page %\", \"Male_search_page %\", \"Male_search_page %\", \"Male_search_page %\", \"Male_search_page %\", \"Male_search_page %\", \"Male_search_page %\", \"Male_search_page %\", \"Male_search_page %\", \"Male_search_page %\", \"Male_search_page %\", \"Male_search_page %\", \"Male_search_page %\", \"Male_search_page %\", \"Male_search_page %\", \"Male_search_page %\", \"Male_search_page %\", \"Male_search_page %\", \"Male_search_page %\", \"Male_search_page %\", \"Male_search_page %\", \"Male_search_page %\", \"Male_search_page %\", \"Male_search_page %\", \"Male_search_page %\", \"Male_search_page %\", \"Male_search_page %\", \"Male_search_page %\", \"Male_search_page %\", \"Male_search_page %\", \"Male_search_page %\", \"Male_search_page %\", \"Male_search_page %\", \"Male_search_page %\", \"Male_search_page %\", \"Male_search_page %\", \"Male_search_page %\", \"Male_search_page %\", \"Male_search_page %\", \"Male_search_page %\", \"Male_search_page %\", \"Male_search_page %\", \"Male_search_page %\", \"Male_search_page %\", \"Male_search_page %\", \"Male_search_page %\", \"Male_search_page %\", \"Male_search_page %\", \"Male_search_page %\", \"Male_search_page %\", \"Male_search_page %\", \"Male_search_page %\", \"Male_search_page %\", \"Male_search_page %\", \"Male_search_page %\", \"Male_search_page %\", \"Male_search_page %\", \"Male_search_page %\", \"Male_search_page %\", \"Male_search_page %\", \"Male_search_page %\", \"Male_search_page %\", \"Male_search_page %\", \"Male_search_page %\", \"Male_search_page %\", \"Male_search_page %\", \"Male_search_page %\", \"Male_search_page %\", \"Male_search_page %\", \"Male_search_page %\", \"Male_search_page %\", \"Male_search_page %\", \"Male_search_page %\", \"Male_search_page %\", \"Male_search_page %\", \"Male_search_page %\", \"Male_search_page %\", \"Male_search_page %\"], \"legendgroup\": \"variable=Male_search_page %\", \"line\": {\"color\": \"#ab63fa\", \"dash\": \"solid\"}, \"mode\": \"lines\", \"name\": \"variable=Male_search_page %\", \"showlegend\": true, \"type\": \"scatter\", \"x\": [\"2015-01-01\", \"2015-01-02\", \"2015-01-03\", \"2015-01-04\", \"2015-01-05\", \"2015-01-06\", \"2015-01-07\", \"2015-01-08\", \"2015-01-09\", \"2015-01-10\", \"2015-01-11\", \"2015-01-12\", \"2015-01-13\", \"2015-01-14\", \"2015-01-15\", \"2015-01-16\", \"2015-01-17\", \"2015-01-18\", \"2015-01-19\", \"2015-01-20\", \"2015-01-21\", \"2015-01-22\", \"2015-01-23\", \"2015-01-24\", \"2015-01-25\", \"2015-01-26\", \"2015-01-27\", \"2015-01-28\", \"2015-01-29\", \"2015-01-30\", \"2015-01-31\", \"2015-02-01\", \"2015-02-02\", \"2015-02-03\", \"2015-02-04\", \"2015-02-05\", \"2015-02-06\", \"2015-02-07\", \"2015-02-08\", \"2015-02-09\", \"2015-02-10\", \"2015-02-11\", \"2015-02-12\", \"2015-02-13\", \"2015-02-14\", \"2015-02-15\", \"2015-02-16\", \"2015-02-17\", \"2015-02-18\", \"2015-02-19\", \"2015-02-20\", \"2015-02-21\", \"2015-02-22\", \"2015-02-23\", \"2015-02-24\", \"2015-02-25\", \"2015-02-26\", \"2015-02-27\", \"2015-02-28\", \"2015-03-01\", \"2015-03-02\", \"2015-03-03\", \"2015-03-04\", \"2015-03-05\", \"2015-03-06\", \"2015-03-07\", \"2015-03-08\", \"2015-03-09\", \"2015-03-10\", \"2015-03-11\", \"2015-03-12\", \"2015-03-13\", \"2015-03-14\", \"2015-03-15\", \"2015-03-16\", \"2015-03-17\", \"2015-03-18\", \"2015-03-19\", \"2015-03-20\", \"2015-03-21\", \"2015-03-22\", \"2015-03-23\", \"2015-03-24\", \"2015-03-25\", \"2015-03-26\", \"2015-03-27\", \"2015-03-28\", \"2015-03-29\", \"2015-03-30\", \"2015-03-31\", \"2015-04-01\", \"2015-04-02\", \"2015-04-03\", \"2015-04-04\", \"2015-04-05\", \"2015-04-06\", \"2015-04-07\", \"2015-04-08\", \"2015-04-09\", \"2015-04-10\", \"2015-04-11\", \"2015-04-12\", \"2015-04-13\", \"2015-04-14\", \"2015-04-15\", \"2015-04-16\", \"2015-04-17\", \"2015-04-18\", \"2015-04-19\", \"2015-04-20\", \"2015-04-21\", \"2015-04-22\", \"2015-04-23\", \"2015-04-24\", \"2015-04-25\", \"2015-04-26\", \"2015-04-27\", \"2015-04-28\", \"2015-04-29\", \"2015-04-30\"], \"xaxis\": \"x\", \"y\": [59.83379501385041, 59.56284153005465, 57.66233766233766, 62.5, 60.91370558375635, 57.26027397260274, 58.028169014084504, 57.79036827195468, 55.81395348837209, 59.83379501385041, 58.888888888888886, 60.674157303370784, 59.831460674157306, 59.308510638297875, 59.5679012345679, 55.73770491803279, 61.47308781869688, 63.23529411764706, 59.64467005076142, 57.92507204610951, 59.840425531914896, 57.26027397260274, 58.02139037433155, 60.632183908045974, 60.85790884718499, 53.67231638418079, 56.82451253481894, 60.3988603988604, 61.05263157894737, 61.76470588235294, 64.80446927374301, 64.17910447761194, 59.09090909090909, 56.8075117370892, 62.35294117647059, 60.476190476190474, 61.881188118811885, 56.801909307875896, 62.23776223776224, 60.150375939849624, 61.06666666666667, 61.08247422680412, 60.64356435643565, 56.76328502415459, 57.21518987341772, 61.743341404358354, 59.147869674185465, 61.34663341645885, 56.85279187817259, 61.30790190735695, 62.745098039215684, 62.039045553145336, 59.05882352941177, 56.2962962962963, 58.73015873015873, 60.84788029925187, 62.38095238095238, 60.2015113350126, 62.80193236714976, 36.46408839779006, 41.16022099447514, 39.45945945945946, 37.05882352941177, 36.388888888888886, 36.41160949868074, 41.210374639769455, 43.850267379679146, 40.79601990049751, 36.95652173913044, 38.65979381443299, 42.121212121212125, 36.4321608040201, 37.27272727272727, 41.98250728862974, 42.780748663101605, 39.38618925831202, 37.10144927536232, 36.68639053254438, 38.50267379679144, 39.6011396011396, 41.86666666666667, 39.89637305699482, 37.46478873239437, 40.64837905236908, 39.24731182795699, 37.23723723723724, 37.239583333333336, 35.824742268041234, 39.74025974025974, 38.84057971014493, 37.43961352657005, 38.095238095238095, 38.44155844155844, 41.80929095354523, 40.99722991689751, 42.67015706806283, 38.274932614555254, 39.74025974025974, 40.0, 44.13265306122449, 38.46153846153846, 37.34939759036145, 41.06666666666667, 39.882697947214076, 44.66501240694789, 36.33879781420765, 42.119565217391305, 38.858695652173914, 37.94871794871795, 42.56410256410256, 38.75338753387534, 42.97082228116711, 41.25, 36.578947368421055, 44.270833333333336, 35.768261964735515, 43.421052631578945, 40.810810810810814, 41.07648725212464, 42.8921568627451], \"yaxis\": \"y\"}, {\"hoverlabel\": {\"namelength\": 0}, \"hovertemplate\": \"<b>%{hovertext}</b><br><br>variable=Male_payment_page %<br>date=%{x}<br>value=%{y}\", \"hovertext\": [\"Male_payment_page %\", \"Male_payment_page %\", \"Male_payment_page %\", \"Male_payment_page %\", \"Male_payment_page %\", \"Male_payment_page %\", \"Male_payment_page %\", \"Male_payment_page %\", \"Male_payment_page %\", \"Male_payment_page %\", \"Male_payment_page %\", \"Male_payment_page %\", \"Male_payment_page %\", \"Male_payment_page %\", \"Male_payment_page %\", \"Male_payment_page %\", \"Male_payment_page %\", \"Male_payment_page %\", \"Male_payment_page %\", \"Male_payment_page %\", \"Male_payment_page %\", \"Male_payment_page %\", \"Male_payment_page %\", \"Male_payment_page %\", \"Male_payment_page %\", \"Male_payment_page %\", \"Male_payment_page %\", \"Male_payment_page %\", \"Male_payment_page %\", \"Male_payment_page %\", \"Male_payment_page %\", \"Male_payment_page %\", \"Male_payment_page %\", \"Male_payment_page %\", \"Male_payment_page %\", \"Male_payment_page %\", \"Male_payment_page %\", \"Male_payment_page %\", \"Male_payment_page %\", \"Male_payment_page %\", \"Male_payment_page %\", \"Male_payment_page %\", \"Male_payment_page %\", \"Male_payment_page %\", \"Male_payment_page %\", \"Male_payment_page %\", \"Male_payment_page %\", \"Male_payment_page %\", \"Male_payment_page %\", \"Male_payment_page %\", \"Male_payment_page %\", \"Male_payment_page %\", \"Male_payment_page %\", \"Male_payment_page %\", \"Male_payment_page %\", \"Male_payment_page %\", \"Male_payment_page %\", \"Male_payment_page %\", \"Male_payment_page %\", \"Male_payment_page %\", \"Male_payment_page %\", \"Male_payment_page %\", \"Male_payment_page %\", \"Male_payment_page %\", \"Male_payment_page %\", \"Male_payment_page %\", \"Male_payment_page %\", \"Male_payment_page %\", \"Male_payment_page %\", \"Male_payment_page %\", \"Male_payment_page %\", \"Male_payment_page %\", \"Male_payment_page %\", \"Male_payment_page %\", \"Male_payment_page %\", \"Male_payment_page %\", \"Male_payment_page %\", \"Male_payment_page %\", \"Male_payment_page %\", \"Male_payment_page %\", \"Male_payment_page %\", \"Male_payment_page %\", \"Male_payment_page %\", \"Male_payment_page %\", \"Male_payment_page %\", \"Male_payment_page %\", \"Male_payment_page %\", \"Male_payment_page %\", \"Male_payment_page %\", \"Male_payment_page %\", \"Male_payment_page %\", \"Male_payment_page %\", \"Male_payment_page %\", \"Male_payment_page %\", \"Male_payment_page %\", \"Male_payment_page %\", \"Male_payment_page %\", \"Male_payment_page %\", \"Male_payment_page %\", \"Male_payment_page %\", \"Male_payment_page %\", \"Male_payment_page %\", \"Male_payment_page %\", \"Male_payment_page %\", \"Male_payment_page %\", \"Male_payment_page %\", \"Male_payment_page %\", \"Male_payment_page %\", \"Male_payment_page %\", \"Male_payment_page %\", \"Male_payment_page %\", \"Male_payment_page %\", \"Male_payment_page %\", \"Male_payment_page %\", \"Male_payment_page %\", \"Male_payment_page %\", \"Male_payment_page %\", \"Male_payment_page %\", \"Male_payment_page %\", \"Male_payment_page %\"], \"legendgroup\": \"variable=Male_payment_page %\", \"line\": {\"color\": \"#FFA15A\", \"dash\": \"solid\"}, \"mode\": \"lines\", \"name\": \"variable=Male_payment_page %\", \"showlegend\": true, \"type\": \"scatter\", \"x\": [\"2015-01-01\", \"2015-01-02\", \"2015-01-03\", \"2015-01-04\", \"2015-01-05\", \"2015-01-06\", \"2015-01-07\", \"2015-01-08\", \"2015-01-09\", \"2015-01-10\", \"2015-01-11\", \"2015-01-12\", \"2015-01-13\", \"2015-01-14\", \"2015-01-15\", \"2015-01-16\", \"2015-01-17\", \"2015-01-18\", \"2015-01-19\", \"2015-01-20\", \"2015-01-21\", \"2015-01-22\", \"2015-01-23\", \"2015-01-24\", \"2015-01-25\", \"2015-01-26\", \"2015-01-27\", \"2015-01-28\", \"2015-01-29\", \"2015-01-30\", \"2015-01-31\", \"2015-02-01\", \"2015-02-02\", \"2015-02-03\", \"2015-02-04\", \"2015-02-05\", \"2015-02-06\", \"2015-02-07\", \"2015-02-08\", \"2015-02-09\", \"2015-02-10\", \"2015-02-11\", \"2015-02-12\", \"2015-02-13\", \"2015-02-14\", \"2015-02-15\", \"2015-02-16\", \"2015-02-17\", \"2015-02-18\", \"2015-02-19\", \"2015-02-20\", \"2015-02-21\", \"2015-02-22\", \"2015-02-23\", \"2015-02-24\", \"2015-02-25\", \"2015-02-26\", \"2015-02-27\", \"2015-02-28\", \"2015-03-01\", \"2015-03-02\", \"2015-03-03\", \"2015-03-04\", \"2015-03-05\", \"2015-03-06\", \"2015-03-07\", \"2015-03-08\", \"2015-03-09\", \"2015-03-10\", \"2015-03-11\", \"2015-03-12\", \"2015-03-13\", \"2015-03-14\", \"2015-03-15\", \"2015-03-16\", \"2015-03-17\", \"2015-03-18\", \"2015-03-19\", \"2015-03-20\", \"2015-03-21\", \"2015-03-22\", \"2015-03-23\", \"2015-03-24\", \"2015-03-25\", \"2015-03-26\", \"2015-03-27\", \"2015-03-28\", \"2015-03-29\", \"2015-03-30\", \"2015-03-31\", \"2015-04-01\", \"2015-04-02\", \"2015-04-03\", \"2015-04-04\", \"2015-04-05\", \"2015-04-06\", \"2015-04-07\", \"2015-04-08\", \"2015-04-09\", \"2015-04-10\", \"2015-04-11\", \"2015-04-12\", \"2015-04-13\", \"2015-04-14\", \"2015-04-15\", \"2015-04-16\", \"2015-04-17\", \"2015-04-18\", \"2015-04-19\", \"2015-04-20\", \"2015-04-21\", \"2015-04-22\", \"2015-04-23\", \"2015-04-24\", \"2015-04-25\", \"2015-04-26\", \"2015-04-27\", \"2015-04-28\", \"2015-04-29\", \"2015-04-30\"], \"xaxis\": \"x\", \"y\": [8.587257617728532, 11.748633879781421, 9.87012987012987, 10.227272727272727, 11.16751269035533, 8.767123287671232, 6.197183098591549, 11.331444759206798, 10.465116279069768, 9.695290858725762, 11.11111111111111, 8.98876404494382, 11.797752808988765, 10.904255319148936, 9.876543209876543, 11.748633879781421, 9.63172804532578, 9.411764705882353, 13.197969543147208, 9.221902017291066, 11.96808510638298, 11.780821917808218, 10.427807486631016, 10.057471264367816, 11.796246648793566, 7.909604519774011, 8.07799442896936, 11.396011396011396, 8.68421052631579, 10.588235294117647, 10.614525139664805, 12.189054726368159, 9.090909090909092, 10.328638497652582, 10.352941176470589, 10.238095238095237, 9.405940594059405, 8.591885441527447, 10.722610722610723, 12.781954887218046, 9.333333333333334, 8.505154639175258, 10.891089108910892, 8.93719806763285, 9.620253164556962, 10.411622276029055, 11.528822055137844, 10.224438902743142, 11.16751269035533, 13.896457765667575, 12.5, 9.544468546637743, 8.941176470588236, 9.382716049382717, 10.846560846560847, 10.723192019950124, 9.285714285714286, 12.34256926952141, 7.971014492753623, 2.4861878453038675, 2.4861878453038675, 1.8918918918918919, 4.117647058823529, 2.2222222222222223, 3.9577836411609497, 3.170028818443804, 3.4759358288770055, 1.9900497512437811, 1.9021739130434783, 3.865979381443299, 2.4242424242424243, 3.2663316582914574, 3.3333333333333335, 3.498542274052478, 2.6737967914438503, 2.557544757033248, 2.608695652173913, 2.0710059171597632, 2.406417112299465, 1.9943019943019944, 2.1333333333333333, 2.33160621761658, 1.1267605633802817, 3.2418952618453867, 2.4193548387096775, 1.8018018018018018, 2.34375, 1.288659793814433, 1.2987012987012987, 4.057971014492754, 3.864734299516908, 2.380952380952381, 1.8181818181818181, 4.156479217603912, 2.770083102493075, 3.141361256544503, 2.4258760107816713, 2.5974025974025974, 2.7027027027027026, 1.7857142857142858, 1.794871794871795, 3.9156626506024095, 3.7333333333333334, 2.346041055718475, 3.7220843672456576, 1.9125683060109289, 2.989130434782609, 1.358695652173913, 1.2820512820512822, 2.5641025641025643, 3.794037940379404, 2.6525198938992043, 2.75, 1.8421052631578947, 3.6458333333333335, 2.770780856423174, 4.473684210526316, 2.972972972972973, 1.6997167138810199, 2.2058823529411766], \"yaxis\": \"y\"}, {\"hoverlabel\": {\"namelength\": 0}, \"hovertemplate\": \"<b>%{hovertext}</b><br><br>variable=Male_payment_confirmation_page %<br>date=%{x}<br>value=%{y}\", \"hovertext\": [\"Male_payment_confirmation_page %\", \"Male_payment_confirmation_page %\", \"Male_payment_confirmation_page %\", \"Male_payment_confirmation_page %\", \"Male_payment_confirmation_page %\", \"Male_payment_confirmation_page %\", \"Male_payment_confirmation_page %\", \"Male_payment_confirmation_page %\", \"Male_payment_confirmation_page %\", \"Male_payment_confirmation_page %\", \"Male_payment_confirmation_page %\", \"Male_payment_confirmation_page %\", \"Male_payment_confirmation_page %\", \"Male_payment_confirmation_page %\", \"Male_payment_confirmation_page %\", \"Male_payment_confirmation_page %\", \"Male_payment_confirmation_page %\", \"Male_payment_confirmation_page %\", \"Male_payment_confirmation_page %\", \"Male_payment_confirmation_page %\", \"Male_payment_confirmation_page %\", \"Male_payment_confirmation_page %\", \"Male_payment_confirmation_page %\", \"Male_payment_confirmation_page %\", \"Male_payment_confirmation_page %\", \"Male_payment_confirmation_page %\", \"Male_payment_confirmation_page %\", \"Male_payment_confirmation_page %\", \"Male_payment_confirmation_page %\", \"Male_payment_confirmation_page %\", \"Male_payment_confirmation_page %\", \"Male_payment_confirmation_page %\", \"Male_payment_confirmation_page %\", \"Male_payment_confirmation_page %\", \"Male_payment_confirmation_page %\", \"Male_payment_confirmation_page %\", \"Male_payment_confirmation_page %\", \"Male_payment_confirmation_page %\", \"Male_payment_confirmation_page %\", \"Male_payment_confirmation_page %\", \"Male_payment_confirmation_page %\", \"Male_payment_confirmation_page %\", \"Male_payment_confirmation_page %\", \"Male_payment_confirmation_page %\", \"Male_payment_confirmation_page %\", \"Male_payment_confirmation_page %\", \"Male_payment_confirmation_page %\", \"Male_payment_confirmation_page %\", \"Male_payment_confirmation_page %\", \"Male_payment_confirmation_page %\", \"Male_payment_confirmation_page %\", \"Male_payment_confirmation_page %\", \"Male_payment_confirmation_page %\", \"Male_payment_confirmation_page %\", \"Male_payment_confirmation_page %\", \"Male_payment_confirmation_page %\", \"Male_payment_confirmation_page %\", \"Male_payment_confirmation_page %\", \"Male_payment_confirmation_page %\", \"Male_payment_confirmation_page %\", \"Male_payment_confirmation_page %\", \"Male_payment_confirmation_page %\", \"Male_payment_confirmation_page %\", \"Male_payment_confirmation_page %\", \"Male_payment_confirmation_page %\", \"Male_payment_confirmation_page %\", \"Male_payment_confirmation_page %\", \"Male_payment_confirmation_page %\", \"Male_payment_confirmation_page %\", \"Male_payment_confirmation_page %\", \"Male_payment_confirmation_page %\", \"Male_payment_confirmation_page %\", \"Male_payment_confirmation_page %\", \"Male_payment_confirmation_page %\", \"Male_payment_confirmation_page %\", \"Male_payment_confirmation_page %\", \"Male_payment_confirmation_page %\", \"Male_payment_confirmation_page %\", \"Male_payment_confirmation_page %\", \"Male_payment_confirmation_page %\", \"Male_payment_confirmation_page %\", \"Male_payment_confirmation_page %\", \"Male_payment_confirmation_page %\", \"Male_payment_confirmation_page %\", \"Male_payment_confirmation_page %\", \"Male_payment_confirmation_page %\", \"Male_payment_confirmation_page %\", \"Male_payment_confirmation_page %\", \"Male_payment_confirmation_page %\", \"Male_payment_confirmation_page %\", \"Male_payment_confirmation_page %\", \"Male_payment_confirmation_page %\", \"Male_payment_confirmation_page %\", \"Male_payment_confirmation_page %\", \"Male_payment_confirmation_page %\", \"Male_payment_confirmation_page %\", \"Male_payment_confirmation_page %\", \"Male_payment_confirmation_page %\", \"Male_payment_confirmation_page %\", \"Male_payment_confirmation_page %\", \"Male_payment_confirmation_page %\", \"Male_payment_confirmation_page %\", \"Male_payment_confirmation_page %\", \"Male_payment_confirmation_page %\", \"Male_payment_confirmation_page %\", \"Male_payment_confirmation_page %\", \"Male_payment_confirmation_page %\", \"Male_payment_confirmation_page %\", \"Male_payment_confirmation_page %\", \"Male_payment_confirmation_page %\", \"Male_payment_confirmation_page %\", \"Male_payment_confirmation_page %\", \"Male_payment_confirmation_page %\", \"Male_payment_confirmation_page %\", \"Male_payment_confirmation_page %\", \"Male_payment_confirmation_page %\", \"Male_payment_confirmation_page %\", \"Male_payment_confirmation_page %\", \"Male_payment_confirmation_page %\", \"Male_payment_confirmation_page %\"], \"legendgroup\": \"variable=Male_payment_confirmation_page %\", \"line\": {\"color\": \"#19d3f3\", \"dash\": \"solid\"}, \"mode\": \"lines\", \"name\": \"variable=Male_payment_confirmation_page %\", \"showlegend\": true, \"type\": \"scatter\", \"x\": [\"2015-01-01\", \"2015-01-02\", \"2015-01-03\", \"2015-01-04\", \"2015-01-05\", \"2015-01-06\", \"2015-01-07\", \"2015-01-08\", \"2015-01-09\", \"2015-01-10\", \"2015-01-11\", \"2015-01-12\", \"2015-01-13\", \"2015-01-14\", \"2015-01-15\", \"2015-01-16\", \"2015-01-17\", \"2015-01-18\", \"2015-01-19\", \"2015-01-20\", \"2015-01-21\", \"2015-01-22\", \"2015-01-23\", \"2015-01-24\", \"2015-01-25\", \"2015-01-26\", \"2015-01-27\", \"2015-01-28\", \"2015-01-29\", \"2015-01-30\", \"2015-01-31\", \"2015-02-01\", \"2015-02-02\", \"2015-02-03\", \"2015-02-04\", \"2015-02-05\", \"2015-02-06\", \"2015-02-07\", \"2015-02-08\", \"2015-02-09\", \"2015-02-10\", \"2015-02-11\", \"2015-02-12\", \"2015-02-13\", \"2015-02-14\", \"2015-02-15\", \"2015-02-16\", \"2015-02-17\", \"2015-02-18\", \"2015-02-19\", \"2015-02-20\", \"2015-02-21\", \"2015-02-22\", \"2015-02-23\", \"2015-02-24\", \"2015-02-25\", \"2015-02-26\", \"2015-02-27\", \"2015-02-28\", \"2015-03-01\", \"2015-03-02\", \"2015-03-03\", \"2015-03-04\", \"2015-03-05\", \"2015-03-06\", \"2015-03-07\", \"2015-03-08\", \"2015-03-09\", \"2015-03-10\", \"2015-03-11\", \"2015-03-12\", \"2015-03-13\", \"2015-03-14\", \"2015-03-15\", \"2015-03-16\", \"2015-03-17\", \"2015-03-18\", \"2015-03-19\", \"2015-03-20\", \"2015-03-21\", \"2015-03-22\", \"2015-03-23\", \"2015-03-24\", \"2015-03-25\", \"2015-03-26\", \"2015-03-27\", \"2015-03-28\", \"2015-03-29\", \"2015-03-30\", \"2015-03-31\", \"2015-04-01\", \"2015-04-02\", \"2015-04-03\", \"2015-04-04\", \"2015-04-05\", \"2015-04-06\", \"2015-04-07\", \"2015-04-08\", \"2015-04-09\", \"2015-04-10\", \"2015-04-11\", \"2015-04-12\", \"2015-04-13\", \"2015-04-14\", \"2015-04-15\", \"2015-04-16\", \"2015-04-17\", \"2015-04-18\", \"2015-04-19\", \"2015-04-20\", \"2015-04-21\", \"2015-04-22\", \"2015-04-23\", \"2015-04-24\", \"2015-04-25\", \"2015-04-26\", \"2015-04-27\", \"2015-04-28\", \"2015-04-29\", \"2015-04-30\"], \"xaxis\": \"x\", \"y\": [0.8310249307479224, 0.819672131147541, 1.0389610389610389, 1.4204545454545454, 1.2690355329949239, 0.821917808219178, 0.5633802816901409, 0.56657223796034, 0.0, 1.10803324099723, 0.2777777777777778, 0.5617977528089888, 0.2808988764044944, 0.0, 0.9259259259259259, 0.546448087431694, 0.0, 0.8823529411764706, 1.5228426395939085, 0.8645533141210374, 1.3297872340425532, 0.821917808219178, 1.0695187165775402, 0.0, 0.8042895442359249, 0.5649717514124294, 0.2785515320334262, 0.5698005698005698, 0.7894736842105263, 0.29411764705882354, 1.1173184357541899, 0.24875621890547264, 0.4784688995215311, 0.704225352112676, 0.7058823529411765, 0.7142857142857143, 0.7425742574257426, 0.7159904534606205, 0.9324009324009324, 1.2531328320802004, 0.5333333333333333, 0.5154639175257731, 0.7425742574257426, 0.24154589371980675, 1.518987341772152, 0.9685230024213075, 0.2506265664160401, 1.4962593516209477, 0.25380710659898476, 1.3623978201634876, 0.7352941176470589, 1.0845986984815619, 0.7058823529411765, 0.7407407407407407, 1.0582010582010581, 0.7481296758104738, 0.7142857142857143, 0.5037783375314862, 0.7246376811594203, 0.0, 0.27624309392265195, 0.2702702702702703, 0.5882352941176471, 0.0, 0.5277044854881267, 0.0, 0.0, 0.0, 0.0, 0.0, 0.30303030303030304, 0.0, 0.30303030303030304, 0.0, 0.5347593582887701, 0.0, 0.2898550724637681, 0.2958579881656805, 0.0, 0.0, 0.0, 0.25906735751295334, 0.28169014084507044, 0.0, 0.0, 0.6006006006006006, 0.2604166666666667, 0.0, 0.0, 0.2898550724637681, 0.4830917874396135, 0.26455026455026454, 0.5194805194805194, 0.24449877750611246, 0.2770083102493075, 0.5235602094240838, 0.0, 0.0, 0.5405405405405406, 0.0, 0.2564102564102564, 0.6024096385542169, 0.0, 0.2932551319648094, 0.0, 0.0, 0.2717391304347826, 0.0, 0.0, 0.5128205128205128, 0.5420054200542005, 0.26525198938992045, 0.25, 0.5263157894736842, 0.2604166666666667, 0.0, 0.0, 0.0, 0.0, 0.24509803921568626], \"yaxis\": \"y\"}],\n",
              "                        {\"legend\": {\"tracegroupgap\": 0}, \"margin\": {\"t\": 60}, \"template\": {\"data\": {\"bar\": [{\"error_x\": {\"color\": \"#2a3f5f\"}, \"error_y\": {\"color\": \"#2a3f5f\"}, \"marker\": {\"line\": {\"color\": \"#E5ECF6\", \"width\": 0.5}}, \"type\": \"bar\"}], \"barpolar\": [{\"marker\": {\"line\": {\"color\": \"#E5ECF6\", \"width\": 0.5}}, \"type\": \"barpolar\"}], \"carpet\": [{\"aaxis\": {\"endlinecolor\": \"#2a3f5f\", \"gridcolor\": \"white\", \"linecolor\": \"white\", \"minorgridcolor\": \"white\", \"startlinecolor\": \"#2a3f5f\"}, \"baxis\": {\"endlinecolor\": \"#2a3f5f\", \"gridcolor\": \"white\", \"linecolor\": \"white\", \"minorgridcolor\": \"white\", \"startlinecolor\": \"#2a3f5f\"}, \"type\": \"carpet\"}], \"choropleth\": [{\"colorbar\": {\"outlinewidth\": 0, \"ticks\": \"\"}, \"type\": \"choropleth\"}], \"contour\": [{\"colorbar\": {\"outlinewidth\": 0, \"ticks\": \"\"}, \"colorscale\": [[0.0, \"#0d0887\"], [0.1111111111111111, \"#46039f\"], [0.2222222222222222, \"#7201a8\"], [0.3333333333333333, \"#9c179e\"], [0.4444444444444444, \"#bd3786\"], [0.5555555555555556, \"#d8576b\"], [0.6666666666666666, \"#ed7953\"], [0.7777777777777778, \"#fb9f3a\"], [0.8888888888888888, \"#fdca26\"], [1.0, \"#f0f921\"]], \"type\": \"contour\"}], \"contourcarpet\": [{\"colorbar\": {\"outlinewidth\": 0, \"ticks\": \"\"}, \"type\": \"contourcarpet\"}], \"heatmap\": [{\"colorbar\": {\"outlinewidth\": 0, \"ticks\": \"\"}, \"colorscale\": [[0.0, \"#0d0887\"], [0.1111111111111111, \"#46039f\"], [0.2222222222222222, \"#7201a8\"], [0.3333333333333333, \"#9c179e\"], [0.4444444444444444, \"#bd3786\"], [0.5555555555555556, \"#d8576b\"], [0.6666666666666666, \"#ed7953\"], [0.7777777777777778, \"#fb9f3a\"], [0.8888888888888888, \"#fdca26\"], [1.0, \"#f0f921\"]], \"type\": \"heatmap\"}], \"heatmapgl\": [{\"colorbar\": {\"outlinewidth\": 0, \"ticks\": \"\"}, \"colorscale\": [[0.0, \"#0d0887\"], [0.1111111111111111, \"#46039f\"], [0.2222222222222222, \"#7201a8\"], [0.3333333333333333, \"#9c179e\"], [0.4444444444444444, \"#bd3786\"], [0.5555555555555556, \"#d8576b\"], [0.6666666666666666, \"#ed7953\"], [0.7777777777777778, \"#fb9f3a\"], [0.8888888888888888, \"#fdca26\"], [1.0, \"#f0f921\"]], \"type\": \"heatmapgl\"}], \"histogram\": [{\"marker\": {\"colorbar\": {\"outlinewidth\": 0, \"ticks\": \"\"}}, \"type\": \"histogram\"}], \"histogram2d\": [{\"colorbar\": {\"outlinewidth\": 0, \"ticks\": \"\"}, \"colorscale\": [[0.0, \"#0d0887\"], [0.1111111111111111, \"#46039f\"], [0.2222222222222222, \"#7201a8\"], [0.3333333333333333, \"#9c179e\"], [0.4444444444444444, \"#bd3786\"], [0.5555555555555556, \"#d8576b\"], [0.6666666666666666, \"#ed7953\"], [0.7777777777777778, \"#fb9f3a\"], [0.8888888888888888, \"#fdca26\"], [1.0, \"#f0f921\"]], \"type\": \"histogram2d\"}], \"histogram2dcontour\": [{\"colorbar\": {\"outlinewidth\": 0, \"ticks\": \"\"}, \"colorscale\": [[0.0, \"#0d0887\"], [0.1111111111111111, \"#46039f\"], [0.2222222222222222, \"#7201a8\"], [0.3333333333333333, \"#9c179e\"], [0.4444444444444444, \"#bd3786\"], [0.5555555555555556, \"#d8576b\"], [0.6666666666666666, \"#ed7953\"], [0.7777777777777778, \"#fb9f3a\"], [0.8888888888888888, \"#fdca26\"], [1.0, \"#f0f921\"]], \"type\": \"histogram2dcontour\"}], \"mesh3d\": [{\"colorbar\": {\"outlinewidth\": 0, \"ticks\": \"\"}, \"type\": \"mesh3d\"}], \"parcoords\": [{\"line\": {\"colorbar\": {\"outlinewidth\": 0, \"ticks\": \"\"}}, \"type\": \"parcoords\"}], \"pie\": [{\"automargin\": true, \"type\": \"pie\"}], \"scatter\": [{\"marker\": {\"colorbar\": {\"outlinewidth\": 0, \"ticks\": \"\"}}, \"type\": \"scatter\"}], \"scatter3d\": [{\"line\": {\"colorbar\": {\"outlinewidth\": 0, \"ticks\": \"\"}}, \"marker\": {\"colorbar\": {\"outlinewidth\": 0, \"ticks\": \"\"}}, \"type\": \"scatter3d\"}], \"scattercarpet\": [{\"marker\": {\"colorbar\": {\"outlinewidth\": 0, \"ticks\": \"\"}}, \"type\": \"scattercarpet\"}], \"scattergeo\": [{\"marker\": {\"colorbar\": {\"outlinewidth\": 0, \"ticks\": \"\"}}, \"type\": \"scattergeo\"}], \"scattergl\": [{\"marker\": {\"colorbar\": {\"outlinewidth\": 0, \"ticks\": \"\"}}, \"type\": \"scattergl\"}], \"scattermapbox\": [{\"marker\": {\"colorbar\": {\"outlinewidth\": 0, \"ticks\": \"\"}}, \"type\": \"scattermapbox\"}], \"scatterpolar\": [{\"marker\": {\"colorbar\": {\"outlinewidth\": 0, \"ticks\": \"\"}}, \"type\": \"scatterpolar\"}], \"scatterpolargl\": [{\"marker\": {\"colorbar\": {\"outlinewidth\": 0, \"ticks\": \"\"}}, \"type\": \"scatterpolargl\"}], \"scatterternary\": [{\"marker\": {\"colorbar\": {\"outlinewidth\": 0, \"ticks\": \"\"}}, \"type\": \"scatterternary\"}], \"surface\": [{\"colorbar\": {\"outlinewidth\": 0, \"ticks\": \"\"}, \"colorscale\": [[0.0, \"#0d0887\"], [0.1111111111111111, \"#46039f\"], [0.2222222222222222, \"#7201a8\"], [0.3333333333333333, \"#9c179e\"], [0.4444444444444444, \"#bd3786\"], [0.5555555555555556, \"#d8576b\"], [0.6666666666666666, \"#ed7953\"], [0.7777777777777778, \"#fb9f3a\"], [0.8888888888888888, \"#fdca26\"], [1.0, \"#f0f921\"]], \"type\": \"surface\"}], \"table\": [{\"cells\": {\"fill\": {\"color\": \"#EBF0F8\"}, \"line\": {\"color\": \"white\"}}, \"header\": {\"fill\": {\"color\": \"#C8D4E3\"}, \"line\": {\"color\": \"white\"}}, \"type\": \"table\"}]}, \"layout\": {\"annotationdefaults\": {\"arrowcolor\": \"#2a3f5f\", \"arrowhead\": 0, \"arrowwidth\": 1}, \"coloraxis\": {\"colorbar\": {\"outlinewidth\": 0, \"ticks\": \"\"}}, \"colorscale\": {\"diverging\": [[0, \"#8e0152\"], [0.1, \"#c51b7d\"], [0.2, \"#de77ae\"], [0.3, \"#f1b6da\"], [0.4, \"#fde0ef\"], [0.5, \"#f7f7f7\"], [0.6, \"#e6f5d0\"], [0.7, \"#b8e186\"], [0.8, \"#7fbc41\"], [0.9, \"#4d9221\"], [1, \"#276419\"]], \"sequential\": [[0.0, \"#0d0887\"], [0.1111111111111111, \"#46039f\"], [0.2222222222222222, \"#7201a8\"], [0.3333333333333333, \"#9c179e\"], [0.4444444444444444, \"#bd3786\"], [0.5555555555555556, \"#d8576b\"], [0.6666666666666666, \"#ed7953\"], [0.7777777777777778, \"#fb9f3a\"], [0.8888888888888888, \"#fdca26\"], [1.0, \"#f0f921\"]], \"sequentialminus\": [[0.0, \"#0d0887\"], [0.1111111111111111, \"#46039f\"], [0.2222222222222222, \"#7201a8\"], [0.3333333333333333, \"#9c179e\"], [0.4444444444444444, \"#bd3786\"], [0.5555555555555556, \"#d8576b\"], [0.6666666666666666, \"#ed7953\"], [0.7777777777777778, \"#fb9f3a\"], [0.8888888888888888, \"#fdca26\"], [1.0, \"#f0f921\"]]}, \"colorway\": [\"#636efa\", \"#EF553B\", \"#00cc96\", \"#ab63fa\", \"#FFA15A\", \"#19d3f3\", \"#FF6692\", \"#B6E880\", \"#FF97FF\", \"#FECB52\"], \"font\": {\"color\": \"#2a3f5f\"}, \"geo\": {\"bgcolor\": \"white\", \"lakecolor\": \"white\", \"landcolor\": \"#E5ECF6\", \"showlakes\": true, \"showland\": true, \"subunitcolor\": \"white\"}, \"hoverlabel\": {\"align\": \"left\"}, \"hovermode\": \"closest\", \"mapbox\": {\"style\": \"light\"}, \"paper_bgcolor\": \"white\", \"plot_bgcolor\": \"#E5ECF6\", \"polar\": {\"angularaxis\": {\"gridcolor\": \"white\", \"linecolor\": \"white\", \"ticks\": \"\"}, \"bgcolor\": \"#E5ECF6\", \"radialaxis\": {\"gridcolor\": \"white\", \"linecolor\": \"white\", \"ticks\": \"\"}}, \"scene\": {\"xaxis\": {\"backgroundcolor\": \"#E5ECF6\", \"gridcolor\": \"white\", \"gridwidth\": 2, \"linecolor\": \"white\", \"showbackground\": true, \"ticks\": \"\", \"zerolinecolor\": \"white\"}, \"yaxis\": {\"backgroundcolor\": \"#E5ECF6\", \"gridcolor\": \"white\", \"gridwidth\": 2, \"linecolor\": \"white\", \"showbackground\": true, \"ticks\": \"\", \"zerolinecolor\": \"white\"}, \"zaxis\": {\"backgroundcolor\": \"#E5ECF6\", \"gridcolor\": \"white\", \"gridwidth\": 2, \"linecolor\": \"white\", \"showbackground\": true, \"ticks\": \"\", \"zerolinecolor\": \"white\"}}, \"shapedefaults\": {\"line\": {\"color\": \"#2a3f5f\"}}, \"ternary\": {\"aaxis\": {\"gridcolor\": \"white\", \"linecolor\": \"white\", \"ticks\": \"\"}, \"baxis\": {\"gridcolor\": \"white\", \"linecolor\": \"white\", \"ticks\": \"\"}, \"bgcolor\": \"#E5ECF6\", \"caxis\": {\"gridcolor\": \"white\", \"linecolor\": \"white\", \"ticks\": \"\"}}, \"title\": {\"x\": 0.05}, \"xaxis\": {\"automargin\": true, \"gridcolor\": \"white\", \"linecolor\": \"white\", \"ticks\": \"\", \"title\": {\"standoff\": 15}, \"zerolinecolor\": \"white\", \"zerolinewidth\": 2}, \"yaxis\": {\"automargin\": true, \"gridcolor\": \"white\", \"linecolor\": \"white\", \"ticks\": \"\", \"title\": {\"standoff\": 15}, \"zerolinecolor\": \"white\", \"zerolinewidth\": 2}}}, \"xaxis\": {\"anchor\": \"y\", \"domain\": [0.0, 1.0], \"dtick\": \"M1\", \"tickformat\": \"%b %d\\n%Y\", \"title\": {\"text\": \"date\"}}, \"yaxis\": {\"anchor\": \"x\", \"domain\": [0.0, 1.0], \"title\": {\"text\": \"value\"}}},\n",
              "                        {\"responsive\": true}\n",
              "                    ).then(function(){\n",
              "                            \n",
              "var gd = document.getElementById('4d4d7cd9-47e5-4ef2-930d-d37d4116c17a');\n",
              "var x = new MutationObserver(function (mutations, observer) {{\n",
              "        var display = window.getComputedStyle(gd).display;\n",
              "        if (!display || display === 'none') {{\n",
              "            console.log([gd, 'removed!']);\n",
              "            Plotly.purge(gd);\n",
              "            observer.disconnect();\n",
              "        }}\n",
              "}});\n",
              "\n",
              "// Listen for the removal of the full notebook cells\n",
              "var notebookContainer = gd.closest('#notebook-container');\n",
              "if (notebookContainer) {{\n",
              "    x.observe(notebookContainer, {childList: true});\n",
              "}}\n",
              "\n",
              "// Listen for the clearing of the current output cell\n",
              "var outputEl = gd.closest('.output');\n",
              "if (outputEl) {{\n",
              "    x.observe(outputEl, {childList: true});\n",
              "}}\n",
              "\n",
              "                        })\n",
              "                };\n",
              "                \n",
              "            </script>\n",
              "        </div>\n",
              "</body>\n",
              "</html>"
            ]
          },
          "metadata": {
            "tags": []
          }
        }
      ]
    },
    {
      "cell_type": "markdown",
      "metadata": {
        "id": "96LR99mPLEWo"
      },
      "source": [
        "The graph shows how conversion rates changed over time in each group. We break the whole group into one area for easy comparison. Let's look at the chart above, we can see that, there is no big difference between the trend of the conversion ratio of the Boys and Girls groups, everything is changing in the same direction. Now we can say that gender may not be the factor driving the conversion rate down."
      ]
    },
    {
      "cell_type": "code",
      "metadata": {
        "colab": {
          "base_uri": "https://localhost:8080/",
          "height": 378
        },
        "id": "bXY8_6_fL9L2",
        "outputId": "c669b292-c5a0-4a0d-c9de-97817905ecbc"
      },
      "source": [
        "#this step is identical to the step before\r\n",
        "device = df.groupby(['date', 'device']).agg({'search_page': 'sum', 'payment_page': 'sum', 'payment_confirmation_page': 'sum'})\r\n",
        "device.columns = ['search_page', 'payment_page', 'payment_confirmation_page']\r\n",
        "device = pd.DataFrame(device.reset_index())\r\n",
        "device = device.melt(id_vars=[\"date\", \"device\"]) \r\n",
        "device['variable'] = device['device'] +'_'+ device['variable']\r\n",
        "device.drop(columns='device', inplace=True)\r\n",
        "device= device.pivot( index='date', columns=\"variable\", values=\"value\")\r\n",
        "\r\n",
        "device2 = pd.get_dummies(df[['date', 'device']], columns=['device'], drop_first=False)\r\n",
        "device2 = device2.groupby('date', as_index= False)['device_Desktop', 'device_Mobile'].sum()\r\n",
        "\r\n",
        "device3 = device.merge(device2,\r\n",
        "              how='left',\r\n",
        "              left_index=True,\r\n",
        "              right_on='date')\r\n",
        "\r\n",
        "device3.head()"
      ],
      "execution_count": 24,
      "outputs": [
        {
          "output_type": "stream",
          "text": [
            "/usr/local/lib/python3.6/dist-packages/ipykernel_launcher.py:11: FutureWarning:\n",
            "\n",
            "Indexing with multiple keys (implicitly converted to a tuple of keys) will be deprecated, use a list instead.\n",
            "\n"
          ],
          "name": "stderr"
        },
        {
          "output_type": "execute_result",
          "data": {
            "text/html": [
              "<div>\n",
              "<style scoped>\n",
              "    .dataframe tbody tr th:only-of-type {\n",
              "        vertical-align: middle;\n",
              "    }\n",
              "\n",
              "    .dataframe tbody tr th {\n",
              "        vertical-align: top;\n",
              "    }\n",
              "\n",
              "    .dataframe thead th {\n",
              "        text-align: right;\n",
              "    }\n",
              "</style>\n",
              "<table border=\"1\" class=\"dataframe\">\n",
              "  <thead>\n",
              "    <tr style=\"text-align: right;\">\n",
              "      <th></th>\n",
              "      <th>Desktop_payment_confirmation_page</th>\n",
              "      <th>Desktop_payment_page</th>\n",
              "      <th>Desktop_search_page</th>\n",
              "      <th>Mobile_payment_confirmation_page</th>\n",
              "      <th>Mobile_payment_page</th>\n",
              "      <th>Mobile_search_page</th>\n",
              "      <th>date</th>\n",
              "      <th>device_Desktop</th>\n",
              "      <th>device_Mobile</th>\n",
              "    </tr>\n",
              "  </thead>\n",
              "  <tbody>\n",
              "    <tr>\n",
              "      <th>0</th>\n",
              "      <td>1.0</td>\n",
              "      <td>47.0</td>\n",
              "      <td>256.0</td>\n",
              "      <td>5.0</td>\n",
              "      <td>29.0</td>\n",
              "      <td>180.0</td>\n",
              "      <td>2015-01-01</td>\n",
              "      <td>493.0</td>\n",
              "      <td>219.0</td>\n",
              "    </tr>\n",
              "    <tr>\n",
              "      <th>1</th>\n",
              "      <td>1.0</td>\n",
              "      <td>44.0</td>\n",
              "      <td>261.0</td>\n",
              "      <td>4.0</td>\n",
              "      <td>40.0</td>\n",
              "      <td>186.0</td>\n",
              "      <td>2015-01-02</td>\n",
              "      <td>484.0</td>\n",
              "      <td>237.0</td>\n",
              "    </tr>\n",
              "    <tr>\n",
              "      <th>2</th>\n",
              "      <td>3.0</td>\n",
              "      <td>22.0</td>\n",
              "      <td>222.0</td>\n",
              "      <td>4.0</td>\n",
              "      <td>42.0</td>\n",
              "      <td>200.0</td>\n",
              "      <td>2015-01-03</td>\n",
              "      <td>507.0</td>\n",
              "      <td>253.0</td>\n",
              "    </tr>\n",
              "    <tr>\n",
              "      <th>3</th>\n",
              "      <td>1.0</td>\n",
              "      <td>38.0</td>\n",
              "      <td>249.0</td>\n",
              "      <td>6.0</td>\n",
              "      <td>38.0</td>\n",
              "      <td>198.0</td>\n",
              "      <td>2015-01-04</td>\n",
              "      <td>474.0</td>\n",
              "      <td>239.0</td>\n",
              "    </tr>\n",
              "    <tr>\n",
              "      <th>4</th>\n",
              "      <td>3.0</td>\n",
              "      <td>37.0</td>\n",
              "      <td>249.0</td>\n",
              "      <td>8.0</td>\n",
              "      <td>51.0</td>\n",
              "      <td>213.0</td>\n",
              "      <td>2015-01-05</td>\n",
              "      <td>483.0</td>\n",
              "      <td>271.0</td>\n",
              "    </tr>\n",
              "  </tbody>\n",
              "</table>\n",
              "</div>"
            ],
            "text/plain": [
              "   Desktop_payment_confirmation_page  ...  device_Mobile\n",
              "0                                1.0  ...          219.0\n",
              "1                                1.0  ...          237.0\n",
              "2                                3.0  ...          253.0\n",
              "3                                1.0  ...          239.0\n",
              "4                                3.0  ...          271.0\n",
              "\n",
              "[5 rows x 9 columns]"
            ]
          },
          "metadata": {
            "tags": []
          },
          "execution_count": 24
        }
      ]
    },
    {
      "cell_type": "code",
      "metadata": {
        "colab": {
          "base_uri": "https://localhost:8080/",
          "height": 542
        },
        "id": "7XbB_okEZY3U",
        "outputId": "bd2083cb-6a2a-4ecb-e325-e744c1f294af"
      },
      "source": [
        "def cvr_rate_d (variable):\r\n",
        "  return variable*100/device3['device_Desktop']\r\n",
        "\r\n",
        "def cvr_rate_mo (variable):\r\n",
        "  return variable*100/device3['device_Mobile']\r\n",
        "\r\n",
        "device3[[\"Desktop_search_page %\", 'Desktop_payment_page %', 'Desktop_payment_confirmation_page %']] = device3[[\"Desktop_search_page\", 'Desktop_payment_page', 'Desktop_payment_confirmation_page']].apply(cvr_rate_d) \r\n",
        "device3[[\"Mobile_search_page %\", 'Mobile_payment_page %', 'Mobile_payment_confirmation_page %']] = device3[[\"Mobile_search_page\", 'Mobile_payment_page', 'Mobile_payment_confirmation_page']].apply(cvr_rate_mo) \r\n",
        "device3 = device3.drop(columns=[\"Desktop_search_page\", 'Desktop_payment_page', 'Desktop_payment_confirmation_page', \"Mobile_search_page\", 'Mobile_payment_page', 'Mobile_payment_confirmation_page', 'device_Mobile', 'device_Desktop'])\r\n",
        "device_melt= device3.melt(id_vars=[\"date\"])  \r\n",
        "\r\n",
        "\r\n",
        "fig = px.line(device_melt, x='date', y='value',\r\n",
        "              color=\"variable\",\r\n",
        "              line_group=\"variable\", hover_name=\"variable\")\r\n",
        "fig.update_xaxes(\r\n",
        "    dtick=\"M1\",\r\n",
        "    tickformat=\"%b %d\\n%Y\")\r\n",
        "fig.show()"
      ],
      "execution_count": 25,
      "outputs": [
        {
          "output_type": "display_data",
          "data": {
            "text/html": [
              "<html>\n",
              "<head><meta charset=\"utf-8\" /></head>\n",
              "<body>\n",
              "    <div>\n",
              "            <script src=\"https://cdnjs.cloudflare.com/ajax/libs/mathjax/2.7.5/MathJax.js?config=TeX-AMS-MML_SVG\"></script><script type=\"text/javascript\">if (window.MathJax) {MathJax.Hub.Config({SVG: {font: \"STIX-Web\"}});}</script>\n",
              "                <script type=\"text/javascript\">window.PlotlyConfig = {MathJaxConfig: 'local'};</script>\n",
              "        <script src=\"https://cdn.plot.ly/plotly-latest.min.js\"></script>    \n",
              "            <div id=\"4805b72d-2289-48ae-a39e-6a69f6f92607\" class=\"plotly-graph-div\" style=\"height:525px; width:100%;\"></div>\n",
              "            <script type=\"text/javascript\">\n",
              "                \n",
              "                    window.PLOTLYENV=window.PLOTLYENV || {};\n",
              "                    \n",
              "                if (document.getElementById(\"4805b72d-2289-48ae-a39e-6a69f6f92607\")) {\n",
              "                    Plotly.newPlot(\n",
              "                        '4805b72d-2289-48ae-a39e-6a69f6f92607',\n",
              "                        [{\"hoverlabel\": {\"namelength\": 0}, \"hovertemplate\": \"<b>%{hovertext}</b><br><br>variable=Desktop_search_page %<br>date=%{x}<br>value=%{y}\", \"hovertext\": [\"Desktop_search_page %\", \"Desktop_search_page %\", \"Desktop_search_page %\", \"Desktop_search_page %\", \"Desktop_search_page %\", \"Desktop_search_page %\", \"Desktop_search_page %\", \"Desktop_search_page %\", \"Desktop_search_page %\", \"Desktop_search_page %\", \"Desktop_search_page %\", \"Desktop_search_page %\", \"Desktop_search_page %\", \"Desktop_search_page %\", \"Desktop_search_page %\", \"Desktop_search_page %\", \"Desktop_search_page %\", \"Desktop_search_page %\", \"Desktop_search_page %\", \"Desktop_search_page %\", \"Desktop_search_page %\", \"Desktop_search_page %\", \"Desktop_search_page %\", \"Desktop_search_page %\", \"Desktop_search_page %\", \"Desktop_search_page %\", \"Desktop_search_page %\", \"Desktop_search_page %\", \"Desktop_search_page %\", \"Desktop_search_page %\", \"Desktop_search_page %\", \"Desktop_search_page %\", \"Desktop_search_page %\", \"Desktop_search_page %\", \"Desktop_search_page %\", \"Desktop_search_page %\", \"Desktop_search_page %\", \"Desktop_search_page %\", \"Desktop_search_page %\", \"Desktop_search_page %\", \"Desktop_search_page %\", \"Desktop_search_page %\", \"Desktop_search_page %\", \"Desktop_search_page %\", \"Desktop_search_page %\", \"Desktop_search_page %\", \"Desktop_search_page %\", \"Desktop_search_page %\", \"Desktop_search_page %\", \"Desktop_search_page %\", \"Desktop_search_page %\", \"Desktop_search_page %\", \"Desktop_search_page %\", \"Desktop_search_page %\", \"Desktop_search_page %\", \"Desktop_search_page %\", \"Desktop_search_page %\", \"Desktop_search_page %\", \"Desktop_search_page %\", \"Desktop_search_page %\", \"Desktop_search_page %\", \"Desktop_search_page %\", \"Desktop_search_page %\", \"Desktop_search_page %\", \"Desktop_search_page %\", \"Desktop_search_page %\", \"Desktop_search_page %\", \"Desktop_search_page %\", \"Desktop_search_page %\", \"Desktop_search_page %\", \"Desktop_search_page %\", \"Desktop_search_page %\", \"Desktop_search_page %\", \"Desktop_search_page %\", \"Desktop_search_page %\", \"Desktop_search_page %\", \"Desktop_search_page %\", \"Desktop_search_page %\", \"Desktop_search_page %\", \"Desktop_search_page %\", \"Desktop_search_page %\", \"Desktop_search_page %\", \"Desktop_search_page %\", \"Desktop_search_page %\", \"Desktop_search_page %\", \"Desktop_search_page %\", \"Desktop_search_page %\", \"Desktop_search_page %\", \"Desktop_search_page %\", \"Desktop_search_page %\", \"Desktop_search_page %\", \"Desktop_search_page %\", \"Desktop_search_page %\", \"Desktop_search_page %\", \"Desktop_search_page %\", \"Desktop_search_page %\", \"Desktop_search_page %\", \"Desktop_search_page %\", \"Desktop_search_page %\", \"Desktop_search_page %\", \"Desktop_search_page %\", \"Desktop_search_page %\", \"Desktop_search_page %\", \"Desktop_search_page %\", \"Desktop_search_page %\", \"Desktop_search_page %\", \"Desktop_search_page %\", \"Desktop_search_page %\", \"Desktop_search_page %\", \"Desktop_search_page %\", \"Desktop_search_page %\", \"Desktop_search_page %\", \"Desktop_search_page %\", \"Desktop_search_page %\", \"Desktop_search_page %\", \"Desktop_search_page %\", \"Desktop_search_page %\", \"Desktop_search_page %\", \"Desktop_search_page %\", \"Desktop_search_page %\"], \"legendgroup\": \"variable=Desktop_search_page %\", \"line\": {\"color\": \"#636efa\", \"dash\": \"solid\"}, \"mode\": \"lines\", \"name\": \"variable=Desktop_search_page %\", \"showlegend\": true, \"type\": \"scatter\", \"x\": [\"2015-01-01\", \"2015-01-02\", \"2015-01-03\", \"2015-01-04\", \"2015-01-05\", \"2015-01-06\", \"2015-01-07\", \"2015-01-08\", \"2015-01-09\", \"2015-01-10\", \"2015-01-11\", \"2015-01-12\", \"2015-01-13\", \"2015-01-14\", \"2015-01-15\", \"2015-01-16\", \"2015-01-17\", \"2015-01-18\", \"2015-01-19\", \"2015-01-20\", \"2015-01-21\", \"2015-01-22\", \"2015-01-23\", \"2015-01-24\", \"2015-01-25\", \"2015-01-26\", \"2015-01-27\", \"2015-01-28\", \"2015-01-29\", \"2015-01-30\", \"2015-01-31\", \"2015-02-01\", \"2015-02-02\", \"2015-02-03\", \"2015-02-04\", \"2015-02-05\", \"2015-02-06\", \"2015-02-07\", \"2015-02-08\", \"2015-02-09\", \"2015-02-10\", \"2015-02-11\", \"2015-02-12\", \"2015-02-13\", \"2015-02-14\", \"2015-02-15\", \"2015-02-16\", \"2015-02-17\", \"2015-02-18\", \"2015-02-19\", \"2015-02-20\", \"2015-02-21\", \"2015-02-22\", \"2015-02-23\", \"2015-02-24\", \"2015-02-25\", \"2015-02-26\", \"2015-02-27\", \"2015-02-28\", \"2015-03-01\", \"2015-03-02\", \"2015-03-03\", \"2015-03-04\", \"2015-03-05\", \"2015-03-06\", \"2015-03-07\", \"2015-03-08\", \"2015-03-09\", \"2015-03-10\", \"2015-03-11\", \"2015-03-12\", \"2015-03-13\", \"2015-03-14\", \"2015-03-15\", \"2015-03-16\", \"2015-03-17\", \"2015-03-18\", \"2015-03-19\", \"2015-03-20\", \"2015-03-21\", \"2015-03-22\", \"2015-03-23\", \"2015-03-24\", \"2015-03-25\", \"2015-03-26\", \"2015-03-27\", \"2015-03-28\", \"2015-03-29\", \"2015-03-30\", \"2015-03-31\", \"2015-04-01\", \"2015-04-02\", \"2015-04-03\", \"2015-04-04\", \"2015-04-05\", \"2015-04-06\", \"2015-04-07\", \"2015-04-08\", \"2015-04-09\", \"2015-04-10\", \"2015-04-11\", \"2015-04-12\", \"2015-04-13\", \"2015-04-14\", \"2015-04-15\", \"2015-04-16\", \"2015-04-17\", \"2015-04-18\", \"2015-04-19\", \"2015-04-20\", \"2015-04-21\", \"2015-04-22\", \"2015-04-23\", \"2015-04-24\", \"2015-04-25\", \"2015-04-26\", \"2015-04-27\", \"2015-04-28\", \"2015-04-29\", \"2015-04-30\"], \"xaxis\": \"x\", \"y\": [51.926977687626774, 53.925619834710744, 43.78698224852071, 52.53164556962025, 51.5527950310559, 50.30549898167006, 49.693251533742334, 45.093945720250524, 46.38297872340426, 53.86221294363257, 51.950718685831625, 51.102204408817634, 51.446280991735534, 48.95397489539749, 47.55102040816327, 47.19827586206897, 51.605995717344754, 57.40318906605923, 48.84615384615385, 49.688149688149686, 47.6, 48.79032258064516, 50.29821073558648, 46.420824295010846, 51.05973025048169, 48.63157894736842, 49.29006085192698, 52.81837160751566, 51.91570881226053, 48.739495798319325, 51.06837606837607, 52.952029520295206, 50.0, 46.71669793621013, 51.91570881226053, 49.81818181818182, 53.333333333333336, 49.826388888888886, 50.76923076923077, 50.0, 52.45579567779961, 48.484848484848484, 51.64835164835165, 50.67178502879079, 51.29740518962076, 50.966608084358526, 48.44961240310077, 51.838235294117645, 51.908396946564885, 49.59183673469388, 51.11940298507463, 51.27272727272727, 50.455373406193075, 49.438202247191015, 51.388888888888886, 52.57548845470693, 48.98710865561694, 47.90874524714829, 53.775322283609576, 48.333333333333336, 45.87525150905432, 52.87846481876333, 45.643153526970956, 47.66949152542373, 47.22222222222222, 50.0, 47.878787878787875, 51.717171717171716, 46.73267326732673, 49.469214437367306, 50.49900199600798, 44.91869918699187, 51.39186295503212, 50.10570824524313, 49.292929292929294, 52.525252525252526, 48.36601307189542, 50.65217391304348, 47.093023255813954, 51.94805194805195, 50.19455252918288, 48.323471400394475, 49.284253578732105, 52.8, 50.110864745011085, 49.56331877729258, 47.64957264957265, 45.02074688796681, 48.154981549815496, 47.25050916496945, 45.15503875968992, 45.790554414784395, 48.08429118773947, 50.29354207436399, 50.204081632653065, 51.77165354330709, 49.49290060851927, 49.053030303030305, 49.48665297741273, 52.43664717348928, 47.791164658634536, 46.71052631578947, 54.43298969072165, 50.858369098712444, 52.8957528957529, 51.61943319838057, 53.04518664047151, 48.06201550387597, 51.87376725838264, 55.900621118012424, 46.06525911708253, 53.125, 50.2868068833652, 49.4824016563147, 53.75722543352601, 48.960302457466916, 50.29469548133595, 52.52100840336134, 48.34437086092715, 50.92936802973978], \"yaxis\": \"y\"}, {\"hoverlabel\": {\"namelength\": 0}, \"hovertemplate\": \"<b>%{hovertext}</b><br><br>variable=Desktop_payment_page %<br>date=%{x}<br>value=%{y}\", \"hovertext\": [\"Desktop_payment_page %\", \"Desktop_payment_page %\", \"Desktop_payment_page %\", \"Desktop_payment_page %\", \"Desktop_payment_page %\", \"Desktop_payment_page %\", \"Desktop_payment_page %\", \"Desktop_payment_page %\", \"Desktop_payment_page %\", \"Desktop_payment_page %\", \"Desktop_payment_page %\", \"Desktop_payment_page %\", \"Desktop_payment_page %\", \"Desktop_payment_page %\", \"Desktop_payment_page %\", \"Desktop_payment_page %\", \"Desktop_payment_page %\", \"Desktop_payment_page %\", \"Desktop_payment_page %\", \"Desktop_payment_page %\", \"Desktop_payment_page %\", \"Desktop_payment_page %\", \"Desktop_payment_page %\", \"Desktop_payment_page %\", \"Desktop_payment_page %\", \"Desktop_payment_page %\", \"Desktop_payment_page %\", \"Desktop_payment_page %\", \"Desktop_payment_page %\", \"Desktop_payment_page %\", \"Desktop_payment_page %\", \"Desktop_payment_page %\", \"Desktop_payment_page %\", \"Desktop_payment_page %\", \"Desktop_payment_page %\", \"Desktop_payment_page %\", \"Desktop_payment_page %\", \"Desktop_payment_page %\", \"Desktop_payment_page %\", \"Desktop_payment_page %\", \"Desktop_payment_page %\", \"Desktop_payment_page %\", \"Desktop_payment_page %\", \"Desktop_payment_page %\", \"Desktop_payment_page %\", \"Desktop_payment_page %\", \"Desktop_payment_page %\", \"Desktop_payment_page %\", \"Desktop_payment_page %\", \"Desktop_payment_page %\", \"Desktop_payment_page %\", \"Desktop_payment_page %\", \"Desktop_payment_page %\", \"Desktop_payment_page %\", \"Desktop_payment_page %\", \"Desktop_payment_page %\", \"Desktop_payment_page %\", \"Desktop_payment_page %\", \"Desktop_payment_page %\", \"Desktop_payment_page %\", \"Desktop_payment_page %\", \"Desktop_payment_page %\", \"Desktop_payment_page %\", \"Desktop_payment_page %\", \"Desktop_payment_page %\", \"Desktop_payment_page %\", \"Desktop_payment_page %\", \"Desktop_payment_page %\", \"Desktop_payment_page %\", \"Desktop_payment_page %\", \"Desktop_payment_page %\", \"Desktop_payment_page %\", \"Desktop_payment_page %\", \"Desktop_payment_page %\", \"Desktop_payment_page %\", \"Desktop_payment_page %\", \"Desktop_payment_page %\", \"Desktop_payment_page %\", \"Desktop_payment_page %\", \"Desktop_payment_page %\", \"Desktop_payment_page %\", \"Desktop_payment_page %\", \"Desktop_payment_page %\", \"Desktop_payment_page %\", \"Desktop_payment_page %\", \"Desktop_payment_page %\", \"Desktop_payment_page %\", \"Desktop_payment_page %\", \"Desktop_payment_page %\", \"Desktop_payment_page %\", \"Desktop_payment_page %\", \"Desktop_payment_page %\", \"Desktop_payment_page %\", \"Desktop_payment_page %\", \"Desktop_payment_page %\", \"Desktop_payment_page %\", \"Desktop_payment_page %\", \"Desktop_payment_page %\", \"Desktop_payment_page %\", \"Desktop_payment_page %\", \"Desktop_payment_page %\", \"Desktop_payment_page %\", \"Desktop_payment_page %\", \"Desktop_payment_page %\", \"Desktop_payment_page %\", \"Desktop_payment_page %\", \"Desktop_payment_page %\", \"Desktop_payment_page %\", \"Desktop_payment_page %\", \"Desktop_payment_page %\", \"Desktop_payment_page %\", \"Desktop_payment_page %\", \"Desktop_payment_page %\", \"Desktop_payment_page %\", \"Desktop_payment_page %\", \"Desktop_payment_page %\", \"Desktop_payment_page %\", \"Desktop_payment_page %\", \"Desktop_payment_page %\", \"Desktop_payment_page %\"], \"legendgroup\": \"variable=Desktop_payment_page %\", \"line\": {\"color\": \"#EF553B\", \"dash\": \"solid\"}, \"mode\": \"lines\", \"name\": \"variable=Desktop_payment_page %\", \"showlegend\": true, \"type\": \"scatter\", \"x\": [\"2015-01-01\", \"2015-01-02\", \"2015-01-03\", \"2015-01-04\", \"2015-01-05\", \"2015-01-06\", \"2015-01-07\", \"2015-01-08\", \"2015-01-09\", \"2015-01-10\", \"2015-01-11\", \"2015-01-12\", \"2015-01-13\", \"2015-01-14\", \"2015-01-15\", \"2015-01-16\", \"2015-01-17\", \"2015-01-18\", \"2015-01-19\", \"2015-01-20\", \"2015-01-21\", \"2015-01-22\", \"2015-01-23\", \"2015-01-24\", \"2015-01-25\", \"2015-01-26\", \"2015-01-27\", \"2015-01-28\", \"2015-01-29\", \"2015-01-30\", \"2015-01-31\", \"2015-02-01\", \"2015-02-02\", \"2015-02-03\", \"2015-02-04\", \"2015-02-05\", \"2015-02-06\", \"2015-02-07\", \"2015-02-08\", \"2015-02-09\", \"2015-02-10\", \"2015-02-11\", \"2015-02-12\", \"2015-02-13\", \"2015-02-14\", \"2015-02-15\", \"2015-02-16\", \"2015-02-17\", \"2015-02-18\", \"2015-02-19\", \"2015-02-20\", \"2015-02-21\", \"2015-02-22\", \"2015-02-23\", \"2015-02-24\", \"2015-02-25\", \"2015-02-26\", \"2015-02-27\", \"2015-02-28\", \"2015-03-01\", \"2015-03-02\", \"2015-03-03\", \"2015-03-04\", \"2015-03-05\", \"2015-03-06\", \"2015-03-07\", \"2015-03-08\", \"2015-03-09\", \"2015-03-10\", \"2015-03-11\", \"2015-03-12\", \"2015-03-13\", \"2015-03-14\", \"2015-03-15\", \"2015-03-16\", \"2015-03-17\", \"2015-03-18\", \"2015-03-19\", \"2015-03-20\", \"2015-03-21\", \"2015-03-22\", \"2015-03-23\", \"2015-03-24\", \"2015-03-25\", \"2015-03-26\", \"2015-03-27\", \"2015-03-28\", \"2015-03-29\", \"2015-03-30\", \"2015-03-31\", \"2015-04-01\", \"2015-04-02\", \"2015-04-03\", \"2015-04-04\", \"2015-04-05\", \"2015-04-06\", \"2015-04-07\", \"2015-04-08\", \"2015-04-09\", \"2015-04-10\", \"2015-04-11\", \"2015-04-12\", \"2015-04-13\", \"2015-04-14\", \"2015-04-15\", \"2015-04-16\", \"2015-04-17\", \"2015-04-18\", \"2015-04-19\", \"2015-04-20\", \"2015-04-21\", \"2015-04-22\", \"2015-04-23\", \"2015-04-24\", \"2015-04-25\", \"2015-04-26\", \"2015-04-27\", \"2015-04-28\", \"2015-04-29\", \"2015-04-30\"], \"xaxis\": \"x\", \"y\": [9.533468559837727, 9.090909090909092, 4.339250493096647, 8.016877637130802, 7.6604554865424435, 6.924643584521385, 5.521472392638037, 6.471816283924843, 7.872340425531915, 9.18580375782881, 6.981519507186858, 8.41683366733467, 7.644628099173554, 9.414225941422593, 7.142857142857143, 8.836206896551724, 8.137044967880085, 8.200455580865604, 10.576923076923077, 8.93970893970894, 8.6, 8.46774193548387, 8.946322067594433, 8.459869848156183, 8.863198458574182, 8.421052631578947, 5.679513184584178, 8.559498956158665, 9.195402298850574, 7.773109243697479, 9.615384615384615, 8.487084870848708, 8.453237410071942, 9.380863039399625, 7.854406130268199, 9.454545454545455, 8.24561403508772, 6.944444444444445, 7.521367521367521, 8.653846153846153, 7.662082514734774, 7.575757575757576, 9.706959706959706, 8.061420345489443, 7.7844311377245505, 7.205623901581722, 8.333333333333334, 8.823529411764707, 9.732824427480915, 8.571428571428571, 7.649253731343284, 6.363636363636363, 5.646630236794171, 7.49063670411985, 9.523809523809524, 6.394316163410302, 6.261510128913444, 8.55513307984791, 5.70902394106814, 1.875, 1.6096579476861168, 1.492537313432836, 3.5269709543568464, 2.1186440677966103, 2.9914529914529915, 2.6315789473684212, 2.2222222222222223, 2.0202020202020203, 1.7821782178217822, 3.6093418259023355, 1.7964071856287425, 2.4390243902439024, 1.284796573875803, 3.382663847780127, 1.2121212121212122, 2.0202020202020203, 2.396514161220044, 1.9565217391304348, 1.937984496124031, 1.948051948051948, 1.7509727626459144, 1.5779092702169626, 1.2269938650306749, 2.0, 2.2172949002217295, 1.965065502183406, 1.0683760683760684, 0.6224066390041494, 0.922509225092251, 1.629327902240326, 3.10077519379845, 1.0266940451745379, 2.10727969348659, 2.935420743639922, 1.836734693877551, 1.3779527559055118, 2.028397565922921, 1.7045454545454546, 1.4373716632443532, 2.53411306042885, 1.606425702811245, 2.8508771929824563, 2.0618556701030926, 2.3605150214592276, 3.088803088803089, 1.8218623481781377, 2.161100196463654, 1.550387596899225, 1.5779092702169626, 2.070393374741201, 2.495201535508637, 1.5625, 2.294455066921606, 0.8281573498964804, 2.504816955684008, 2.4574669187145557, 1.9646365422396856, 1.8907563025210083, 0.8830022075055187, 1.858736059479554], \"yaxis\": \"y\"}, {\"hoverlabel\": {\"namelength\": 0}, \"hovertemplate\": \"<b>%{hovertext}</b><br><br>variable=Desktop_payment_confirmation_page %<br>date=%{x}<br>value=%{y}\", \"hovertext\": [\"Desktop_payment_confirmation_page %\", \"Desktop_payment_confirmation_page %\", \"Desktop_payment_confirmation_page %\", \"Desktop_payment_confirmation_page %\", \"Desktop_payment_confirmation_page %\", \"Desktop_payment_confirmation_page %\", \"Desktop_payment_confirmation_page %\", \"Desktop_payment_confirmation_page %\", \"Desktop_payment_confirmation_page %\", \"Desktop_payment_confirmation_page %\", \"Desktop_payment_confirmation_page %\", \"Desktop_payment_confirmation_page %\", \"Desktop_payment_confirmation_page %\", \"Desktop_payment_confirmation_page %\", \"Desktop_payment_confirmation_page %\", \"Desktop_payment_confirmation_page %\", \"Desktop_payment_confirmation_page %\", \"Desktop_payment_confirmation_page %\", \"Desktop_payment_confirmation_page %\", \"Desktop_payment_confirmation_page %\", \"Desktop_payment_confirmation_page %\", \"Desktop_payment_confirmation_page %\", \"Desktop_payment_confirmation_page %\", \"Desktop_payment_confirmation_page %\", \"Desktop_payment_confirmation_page %\", \"Desktop_payment_confirmation_page %\", \"Desktop_payment_confirmation_page %\", \"Desktop_payment_confirmation_page %\", \"Desktop_payment_confirmation_page %\", \"Desktop_payment_confirmation_page %\", \"Desktop_payment_confirmation_page %\", \"Desktop_payment_confirmation_page %\", \"Desktop_payment_confirmation_page %\", \"Desktop_payment_confirmation_page %\", \"Desktop_payment_confirmation_page %\", \"Desktop_payment_confirmation_page %\", \"Desktop_payment_confirmation_page %\", \"Desktop_payment_confirmation_page %\", \"Desktop_payment_confirmation_page %\", \"Desktop_payment_confirmation_page %\", \"Desktop_payment_confirmation_page %\", \"Desktop_payment_confirmation_page %\", \"Desktop_payment_confirmation_page %\", \"Desktop_payment_confirmation_page %\", \"Desktop_payment_confirmation_page %\", \"Desktop_payment_confirmation_page %\", \"Desktop_payment_confirmation_page %\", \"Desktop_payment_confirmation_page %\", \"Desktop_payment_confirmation_page %\", \"Desktop_payment_confirmation_page %\", \"Desktop_payment_confirmation_page %\", \"Desktop_payment_confirmation_page %\", \"Desktop_payment_confirmation_page %\", \"Desktop_payment_confirmation_page %\", \"Desktop_payment_confirmation_page %\", \"Desktop_payment_confirmation_page %\", \"Desktop_payment_confirmation_page %\", \"Desktop_payment_confirmation_page %\", \"Desktop_payment_confirmation_page %\", \"Desktop_payment_confirmation_page %\", \"Desktop_payment_confirmation_page %\", \"Desktop_payment_confirmation_page %\", \"Desktop_payment_confirmation_page %\", \"Desktop_payment_confirmation_page %\", \"Desktop_payment_confirmation_page %\", \"Desktop_payment_confirmation_page %\", \"Desktop_payment_confirmation_page %\", \"Desktop_payment_confirmation_page %\", \"Desktop_payment_confirmation_page %\", \"Desktop_payment_confirmation_page %\", \"Desktop_payment_confirmation_page %\", \"Desktop_payment_confirmation_page %\", \"Desktop_payment_confirmation_page %\", \"Desktop_payment_confirmation_page %\", \"Desktop_payment_confirmation_page %\", \"Desktop_payment_confirmation_page %\", \"Desktop_payment_confirmation_page %\", \"Desktop_payment_confirmation_page %\", \"Desktop_payment_confirmation_page %\", \"Desktop_payment_confirmation_page %\", \"Desktop_payment_confirmation_page %\", \"Desktop_payment_confirmation_page %\", \"Desktop_payment_confirmation_page %\", \"Desktop_payment_confirmation_page %\", \"Desktop_payment_confirmation_page %\", \"Desktop_payment_confirmation_page %\", \"Desktop_payment_confirmation_page %\", \"Desktop_payment_confirmation_page %\", \"Desktop_payment_confirmation_page %\", \"Desktop_payment_confirmation_page %\", \"Desktop_payment_confirmation_page %\", \"Desktop_payment_confirmation_page %\", \"Desktop_payment_confirmation_page %\", \"Desktop_payment_confirmation_page %\", \"Desktop_payment_confirmation_page %\", \"Desktop_payment_confirmation_page %\", \"Desktop_payment_confirmation_page %\", \"Desktop_payment_confirmation_page %\", \"Desktop_payment_confirmation_page %\", \"Desktop_payment_confirmation_page %\", \"Desktop_payment_confirmation_page %\", \"Desktop_payment_confirmation_page %\", \"Desktop_payment_confirmation_page %\", \"Desktop_payment_confirmation_page %\", \"Desktop_payment_confirmation_page %\", \"Desktop_payment_confirmation_page %\", \"Desktop_payment_confirmation_page %\", \"Desktop_payment_confirmation_page %\", \"Desktop_payment_confirmation_page %\", \"Desktop_payment_confirmation_page %\", \"Desktop_payment_confirmation_page %\", \"Desktop_payment_confirmation_page %\", \"Desktop_payment_confirmation_page %\", \"Desktop_payment_confirmation_page %\", \"Desktop_payment_confirmation_page %\", \"Desktop_payment_confirmation_page %\", \"Desktop_payment_confirmation_page %\", \"Desktop_payment_confirmation_page %\", \"Desktop_payment_confirmation_page %\", \"Desktop_payment_confirmation_page %\"], \"legendgroup\": \"variable=Desktop_payment_confirmation_page %\", \"line\": {\"color\": \"#00cc96\", \"dash\": \"solid\"}, \"mode\": \"lines\", \"name\": \"variable=Desktop_payment_confirmation_page %\", \"showlegend\": true, \"type\": \"scatter\", \"x\": [\"2015-01-01\", \"2015-01-02\", \"2015-01-03\", \"2015-01-04\", \"2015-01-05\", \"2015-01-06\", \"2015-01-07\", \"2015-01-08\", \"2015-01-09\", \"2015-01-10\", \"2015-01-11\", \"2015-01-12\", \"2015-01-13\", \"2015-01-14\", \"2015-01-15\", \"2015-01-16\", \"2015-01-17\", \"2015-01-18\", \"2015-01-19\", \"2015-01-20\", \"2015-01-21\", \"2015-01-22\", \"2015-01-23\", \"2015-01-24\", \"2015-01-25\", \"2015-01-26\", \"2015-01-27\", \"2015-01-28\", \"2015-01-29\", \"2015-01-30\", \"2015-01-31\", \"2015-02-01\", \"2015-02-02\", \"2015-02-03\", \"2015-02-04\", \"2015-02-05\", \"2015-02-06\", \"2015-02-07\", \"2015-02-08\", \"2015-02-09\", \"2015-02-10\", \"2015-02-11\", \"2015-02-12\", \"2015-02-13\", \"2015-02-14\", \"2015-02-15\", \"2015-02-16\", \"2015-02-17\", \"2015-02-18\", \"2015-02-19\", \"2015-02-20\", \"2015-02-21\", \"2015-02-22\", \"2015-02-23\", \"2015-02-24\", \"2015-02-25\", \"2015-02-26\", \"2015-02-27\", \"2015-02-28\", \"2015-03-01\", \"2015-03-02\", \"2015-03-03\", \"2015-03-04\", \"2015-03-05\", \"2015-03-06\", \"2015-03-07\", \"2015-03-08\", \"2015-03-09\", \"2015-03-10\", \"2015-03-11\", \"2015-03-12\", \"2015-03-13\", \"2015-03-14\", \"2015-03-15\", \"2015-03-16\", \"2015-03-17\", \"2015-03-18\", \"2015-03-19\", \"2015-03-20\", \"2015-03-21\", \"2015-03-22\", \"2015-03-23\", \"2015-03-24\", \"2015-03-25\", \"2015-03-26\", \"2015-03-27\", \"2015-03-28\", \"2015-03-29\", \"2015-03-30\", \"2015-03-31\", \"2015-04-01\", \"2015-04-02\", \"2015-04-03\", \"2015-04-04\", \"2015-04-05\", \"2015-04-06\", \"2015-04-07\", \"2015-04-08\", \"2015-04-09\", \"2015-04-10\", \"2015-04-11\", \"2015-04-12\", \"2015-04-13\", \"2015-04-14\", \"2015-04-15\", \"2015-04-16\", \"2015-04-17\", \"2015-04-18\", \"2015-04-19\", \"2015-04-20\", \"2015-04-21\", \"2015-04-22\", \"2015-04-23\", \"2015-04-24\", \"2015-04-25\", \"2015-04-26\", \"2015-04-27\", \"2015-04-28\", \"2015-04-29\", \"2015-04-30\"], \"xaxis\": \"x\", \"y\": [0.2028397565922921, 0.2066115702479339, 0.591715976331361, 0.2109704641350211, 0.6211180124223602, 0.20366598778004075, 0.40899795501022496, 0.4175365344467641, 0.2127659574468085, 0.6263048016701461, 0.4106776180698152, 0.40080160320641284, 0.2066115702479339, 0.41841004184100417, 0.20408163265306123, 0.43103448275862066, 0.4282655246252677, 0.22779043280182232, 0.38461538461538464, 0.6237006237006237, 0.8, 0.0, 0.7952286282306164, 0.6507592190889371, 0.5780346820809249, 0.42105263157894735, 0.0, 0.20876826722338204, 0.7662835249042146, 0.21008403361344538, 0.42735042735042733, 0.18450184501845018, 0.3597122302158273, 0.9380863039399625, 0.19157088122605365, 0.7272727272727273, 0.17543859649122806, 0.6944444444444444, 0.17094017094017094, 0.7692307692307693, 0.0, 0.1893939393939394, 0.3663003663003663, 0.0, 0.3992015968063872, 0.0, 0.1937984496124031, 0.7352941176470589, 0.0, 0.6122448979591837, 0.1865671641791045, 0.7272727272727273, 0.36429872495446264, 0.37453183520599254, 0.9920634920634921, 0.0, 0.3683241252302026, 0.19011406844106463, 0.1841620626151013, 0.0, 0.2012072434607646, 0.42643923240938164, 0.6224066390041494, 0.0, 0.0, 0.0, 0.0, 0.0, 0.0, 0.0, 0.0, 0.0, 0.0, 0.21141649048625794, 0.0, 0.0, 0.2178649237472767, 0.21739130434782608, 0.1937984496124031, 0.0, 0.0, 0.19723865877712032, 0.20449897750511248, 0.0, 0.0, 0.2183406113537118, 0.0, 0.0, 0.0, 0.20366598778004075, 0.0, 0.2053388090349076, 0.19157088122605365, 0.0, 0.40816326530612246, 0.0, 0.4056795131845842, 0.0, 0.8213552361396304, 0.0, 0.20080321285140562, 0.21929824561403508, 0.0, 0.0, 0.0, 0.0, 0.19646365422396855, 0.0, 0.19723865877712032, 0.4140786749482402, 0.3838771593090211, 0.0, 0.19120458891013384, 0.2070393374741201, 0.1926782273603083, 0.1890359168241966, 0.0, 0.0, 0.0, 0.0], \"yaxis\": \"y\"}, {\"hoverlabel\": {\"namelength\": 0}, \"hovertemplate\": \"<b>%{hovertext}</b><br><br>variable=Mobile_search_page %<br>date=%{x}<br>value=%{y}\", \"hovertext\": [\"Mobile_search_page %\", \"Mobile_search_page %\", \"Mobile_search_page %\", \"Mobile_search_page %\", \"Mobile_search_page %\", \"Mobile_search_page %\", \"Mobile_search_page %\", \"Mobile_search_page %\", \"Mobile_search_page %\", \"Mobile_search_page %\", \"Mobile_search_page %\", \"Mobile_search_page %\", \"Mobile_search_page %\", \"Mobile_search_page %\", \"Mobile_search_page %\", \"Mobile_search_page %\", \"Mobile_search_page %\", \"Mobile_search_page %\", \"Mobile_search_page %\", \"Mobile_search_page %\", \"Mobile_search_page %\", \"Mobile_search_page %\", \"Mobile_search_page %\", \"Mobile_search_page %\", \"Mobile_search_page %\", \"Mobile_search_page %\", \"Mobile_search_page %\", \"Mobile_search_page %\", \"Mobile_search_page %\", \"Mobile_search_page %\", \"Mobile_search_page %\", \"Mobile_search_page %\", \"Mobile_search_page %\", \"Mobile_search_page %\", \"Mobile_search_page %\", \"Mobile_search_page %\", \"Mobile_search_page %\", \"Mobile_search_page %\", \"Mobile_search_page %\", \"Mobile_search_page %\", \"Mobile_search_page %\", \"Mobile_search_page %\", \"Mobile_search_page %\", \"Mobile_search_page %\", \"Mobile_search_page %\", \"Mobile_search_page %\", \"Mobile_search_page %\", \"Mobile_search_page %\", \"Mobile_search_page %\", \"Mobile_search_page %\", \"Mobile_search_page %\", \"Mobile_search_page %\", \"Mobile_search_page %\", \"Mobile_search_page %\", \"Mobile_search_page %\", \"Mobile_search_page %\", \"Mobile_search_page %\", \"Mobile_search_page %\", \"Mobile_search_page %\", \"Mobile_search_page %\", \"Mobile_search_page %\", \"Mobile_search_page %\", \"Mobile_search_page %\", \"Mobile_search_page %\", \"Mobile_search_page %\", \"Mobile_search_page %\", \"Mobile_search_page %\", \"Mobile_search_page %\", \"Mobile_search_page %\", \"Mobile_search_page %\", \"Mobile_search_page %\", \"Mobile_search_page %\", \"Mobile_search_page %\", \"Mobile_search_page %\", \"Mobile_search_page %\", \"Mobile_search_page %\", \"Mobile_search_page %\", \"Mobile_search_page %\", \"Mobile_search_page %\", \"Mobile_search_page %\", \"Mobile_search_page %\", \"Mobile_search_page %\", \"Mobile_search_page %\", \"Mobile_search_page %\", \"Mobile_search_page %\", \"Mobile_search_page %\", \"Mobile_search_page %\", \"Mobile_search_page %\", \"Mobile_search_page %\", \"Mobile_search_page %\", \"Mobile_search_page %\", \"Mobile_search_page %\", \"Mobile_search_page %\", \"Mobile_search_page %\", \"Mobile_search_page %\", \"Mobile_search_page %\", \"Mobile_search_page %\", \"Mobile_search_page %\", \"Mobile_search_page %\", \"Mobile_search_page %\", \"Mobile_search_page %\", \"Mobile_search_page %\", \"Mobile_search_page %\", \"Mobile_search_page %\", \"Mobile_search_page %\", \"Mobile_search_page %\", \"Mobile_search_page %\", \"Mobile_search_page %\", \"Mobile_search_page %\", \"Mobile_search_page %\", \"Mobile_search_page %\", \"Mobile_search_page %\", \"Mobile_search_page %\", \"Mobile_search_page %\", \"Mobile_search_page %\", \"Mobile_search_page %\", \"Mobile_search_page %\", \"Mobile_search_page %\", \"Mobile_search_page %\", \"Mobile_search_page %\"], \"legendgroup\": \"variable=Mobile_search_page %\", \"line\": {\"color\": \"#ab63fa\", \"dash\": \"solid\"}, \"mode\": \"lines\", \"name\": \"variable=Mobile_search_page %\", \"showlegend\": true, \"type\": \"scatter\", \"x\": [\"2015-01-01\", \"2015-01-02\", \"2015-01-03\", \"2015-01-04\", \"2015-01-05\", \"2015-01-06\", \"2015-01-07\", \"2015-01-08\", \"2015-01-09\", \"2015-01-10\", \"2015-01-11\", \"2015-01-12\", \"2015-01-13\", \"2015-01-14\", \"2015-01-15\", \"2015-01-16\", \"2015-01-17\", \"2015-01-18\", \"2015-01-19\", \"2015-01-20\", \"2015-01-21\", \"2015-01-22\", \"2015-01-23\", \"2015-01-24\", \"2015-01-25\", \"2015-01-26\", \"2015-01-27\", \"2015-01-28\", \"2015-01-29\", \"2015-01-30\", \"2015-01-31\", \"2015-02-01\", \"2015-02-02\", \"2015-02-03\", \"2015-02-04\", \"2015-02-05\", \"2015-02-06\", \"2015-02-07\", \"2015-02-08\", \"2015-02-09\", \"2015-02-10\", \"2015-02-11\", \"2015-02-12\", \"2015-02-13\", \"2015-02-14\", \"2015-02-15\", \"2015-02-16\", \"2015-02-17\", \"2015-02-18\", \"2015-02-19\", \"2015-02-20\", \"2015-02-21\", \"2015-02-22\", \"2015-02-23\", \"2015-02-24\", \"2015-02-25\", \"2015-02-26\", \"2015-02-27\", \"2015-02-28\", \"2015-03-01\", \"2015-03-02\", \"2015-03-03\", \"2015-03-04\", \"2015-03-05\", \"2015-03-06\", \"2015-03-07\", \"2015-03-08\", \"2015-03-09\", \"2015-03-10\", \"2015-03-11\", \"2015-03-12\", \"2015-03-13\", \"2015-03-14\", \"2015-03-15\", \"2015-03-16\", \"2015-03-17\", \"2015-03-18\", \"2015-03-19\", \"2015-03-20\", \"2015-03-21\", \"2015-03-22\", \"2015-03-23\", \"2015-03-24\", \"2015-03-25\", \"2015-03-26\", \"2015-03-27\", \"2015-03-28\", \"2015-03-29\", \"2015-03-30\", \"2015-03-31\", \"2015-04-01\", \"2015-04-02\", \"2015-04-03\", \"2015-04-04\", \"2015-04-05\", \"2015-04-06\", \"2015-04-07\", \"2015-04-08\", \"2015-04-09\", \"2015-04-10\", \"2015-04-11\", \"2015-04-12\", \"2015-04-13\", \"2015-04-14\", \"2015-04-15\", \"2015-04-16\", \"2015-04-17\", \"2015-04-18\", \"2015-04-19\", \"2015-04-20\", \"2015-04-21\", \"2015-04-22\", \"2015-04-23\", \"2015-04-24\", \"2015-04-25\", \"2015-04-26\", \"2015-04-27\", \"2015-04-28\", \"2015-04-29\", \"2015-04-30\"], \"xaxis\": \"x\", \"y\": [82.1917808219178, 78.48101265822785, 79.05138339920948, 82.84518828451883, 78.59778597785977, 78.88446215139442, 78.53658536585365, 82.12765957446808, 77.36625514403292, 76.09561752988049, 76.28458498023716, 79.75206611570248, 82.29665071770334, 78.57142857142857, 82.44897959183673, 80.6949806949807, 79.76190476190476, 74.23580786026201, 77.98507462686567, 77.77777777777777, 79.61538461538461, 78.00829875518673, 81.10599078341014, 82.55813953488372, 79.08745247148289, 81.04265402843602, 78.35820895522389, 79.26829268292683, 84.38818565400844, 83.710407239819, 84.18972332015811, 81.11888111888112, 80.62283737024221, 77.32342007434944, 81.74904942965779, 81.41263940520446, 82.09606986899563, 81.11111111111111, 81.5068493150685, 79.85865724381625, 79.85347985347985, 80.31496062992126, 79.296875, 80.0, 72.62773722627738, 81.203007518797, 80.7843137254902, 80.38461538461539, 76.66666666666667, 79.42238267148015, 78.32167832167832, 82.79569892473118, 82.2463768115942, 80.86642599277978, 79.6078431372549, 79.40074906367042, 82.5278810408922, 81.203007518797, 81.45454545454545, 21.074380165289256, 23.2, 17.17557251908397, 20.642201834862384, 17.99163179916318, 20.30075187969925, 21.888412017167383, 20.318725099601593, 24.596774193548388, 19.10569105691057, 19.46564885496183, 20.58823529411765, 21.686746987951807, 20.0836820083682, 20.242914979757085, 23.076923076923077, 18.28793774319066, 17.28395061728395, 17.410714285714285, 24.152542372881356, 16.949152542372882, 22.22222222222222, 20.610687022900763, 17.02127659574468, 19.215686274509803, 20.284697508896798, 16.170212765957448, 19.615384615384617, 18.852459016393443, 21.27659574468085, 18.96551724137931, 20.553359683794465, 18.14516129032258, 20.76923076923077, 22.727272727272727, 21.120689655172413, 21.428571428571427, 20.652173913043477, 20.863309352517987, 20.0, 25.40983606557377, 23.076923076923077, 20.56451612903226, 19.838056680161944, 20.600858369098713, 20.233463035019454, 15.319148936170214, 16.59919028340081, 17.04035874439462, 18.840579710144926, 18.9873417721519, 20.17167381974249, 22.689075630252102, 20.434782608695652, 15.770609318996415, 18.218623481781375, 18.250950570342205, 20.37037037037037, 20.76923076923077, 20.0, 20.91254752851711], \"yaxis\": \"y\"}, {\"hoverlabel\": {\"namelength\": 0}, \"hovertemplate\": \"<b>%{hovertext}</b><br><br>variable=Mobile_payment_page %<br>date=%{x}<br>value=%{y}\", \"hovertext\": [\"Mobile_payment_page %\", \"Mobile_payment_page %\", \"Mobile_payment_page %\", \"Mobile_payment_page %\", \"Mobile_payment_page %\", \"Mobile_payment_page %\", \"Mobile_payment_page %\", \"Mobile_payment_page %\", \"Mobile_payment_page %\", \"Mobile_payment_page %\", \"Mobile_payment_page %\", \"Mobile_payment_page %\", \"Mobile_payment_page %\", \"Mobile_payment_page %\", \"Mobile_payment_page %\", \"Mobile_payment_page %\", \"Mobile_payment_page %\", \"Mobile_payment_page %\", \"Mobile_payment_page %\", \"Mobile_payment_page %\", \"Mobile_payment_page %\", \"Mobile_payment_page %\", \"Mobile_payment_page %\", \"Mobile_payment_page %\", \"Mobile_payment_page %\", \"Mobile_payment_page %\", \"Mobile_payment_page %\", \"Mobile_payment_page %\", \"Mobile_payment_page %\", \"Mobile_payment_page %\", \"Mobile_payment_page %\", \"Mobile_payment_page %\", \"Mobile_payment_page %\", \"Mobile_payment_page %\", \"Mobile_payment_page %\", \"Mobile_payment_page %\", \"Mobile_payment_page %\", \"Mobile_payment_page %\", \"Mobile_payment_page %\", \"Mobile_payment_page %\", \"Mobile_payment_page %\", \"Mobile_payment_page %\", \"Mobile_payment_page %\", \"Mobile_payment_page %\", \"Mobile_payment_page %\", \"Mobile_payment_page %\", \"Mobile_payment_page %\", \"Mobile_payment_page %\", \"Mobile_payment_page %\", \"Mobile_payment_page %\", \"Mobile_payment_page %\", \"Mobile_payment_page %\", \"Mobile_payment_page %\", \"Mobile_payment_page %\", \"Mobile_payment_page %\", \"Mobile_payment_page %\", \"Mobile_payment_page %\", \"Mobile_payment_page %\", \"Mobile_payment_page %\", \"Mobile_payment_page %\", \"Mobile_payment_page %\", \"Mobile_payment_page %\", \"Mobile_payment_page %\", \"Mobile_payment_page %\", \"Mobile_payment_page %\", \"Mobile_payment_page %\", \"Mobile_payment_page %\", \"Mobile_payment_page %\", \"Mobile_payment_page %\", \"Mobile_payment_page %\", \"Mobile_payment_page %\", \"Mobile_payment_page %\", \"Mobile_payment_page %\", \"Mobile_payment_page %\", \"Mobile_payment_page %\", \"Mobile_payment_page %\", \"Mobile_payment_page %\", \"Mobile_payment_page %\", \"Mobile_payment_page %\", \"Mobile_payment_page %\", \"Mobile_payment_page %\", \"Mobile_payment_page %\", \"Mobile_payment_page %\", \"Mobile_payment_page %\", \"Mobile_payment_page %\", \"Mobile_payment_page %\", \"Mobile_payment_page %\", \"Mobile_payment_page %\", \"Mobile_payment_page %\", \"Mobile_payment_page %\", \"Mobile_payment_page %\", \"Mobile_payment_page %\", \"Mobile_payment_page %\", \"Mobile_payment_page %\", \"Mobile_payment_page %\", \"Mobile_payment_page %\", \"Mobile_payment_page %\", \"Mobile_payment_page %\", \"Mobile_payment_page %\", \"Mobile_payment_page %\", \"Mobile_payment_page %\", \"Mobile_payment_page %\", \"Mobile_payment_page %\", \"Mobile_payment_page %\", \"Mobile_payment_page %\", \"Mobile_payment_page %\", \"Mobile_payment_page %\", \"Mobile_payment_page %\", \"Mobile_payment_page %\", \"Mobile_payment_page %\", \"Mobile_payment_page %\", \"Mobile_payment_page %\", \"Mobile_payment_page %\", \"Mobile_payment_page %\", \"Mobile_payment_page %\", \"Mobile_payment_page %\", \"Mobile_payment_page %\", \"Mobile_payment_page %\", \"Mobile_payment_page %\", \"Mobile_payment_page %\"], \"legendgroup\": \"variable=Mobile_payment_page %\", \"line\": {\"color\": \"#FFA15A\", \"dash\": \"solid\"}, \"mode\": \"lines\", \"name\": \"variable=Mobile_payment_page %\", \"showlegend\": true, \"type\": \"scatter\", \"x\": [\"2015-01-01\", \"2015-01-02\", \"2015-01-03\", \"2015-01-04\", \"2015-01-05\", \"2015-01-06\", \"2015-01-07\", \"2015-01-08\", \"2015-01-09\", \"2015-01-10\", \"2015-01-11\", \"2015-01-12\", \"2015-01-13\", \"2015-01-14\", \"2015-01-15\", \"2015-01-16\", \"2015-01-17\", \"2015-01-18\", \"2015-01-19\", \"2015-01-20\", \"2015-01-21\", \"2015-01-22\", \"2015-01-23\", \"2015-01-24\", \"2015-01-25\", \"2015-01-26\", \"2015-01-27\", \"2015-01-28\", \"2015-01-29\", \"2015-01-30\", \"2015-01-31\", \"2015-02-01\", \"2015-02-02\", \"2015-02-03\", \"2015-02-04\", \"2015-02-05\", \"2015-02-06\", \"2015-02-07\", \"2015-02-08\", \"2015-02-09\", \"2015-02-10\", \"2015-02-11\", \"2015-02-12\", \"2015-02-13\", \"2015-02-14\", \"2015-02-15\", \"2015-02-16\", \"2015-02-17\", \"2015-02-18\", \"2015-02-19\", \"2015-02-20\", \"2015-02-21\", \"2015-02-22\", \"2015-02-23\", \"2015-02-24\", \"2015-02-25\", \"2015-02-26\", \"2015-02-27\", \"2015-02-28\", \"2015-03-01\", \"2015-03-02\", \"2015-03-03\", \"2015-03-04\", \"2015-03-05\", \"2015-03-06\", \"2015-03-07\", \"2015-03-08\", \"2015-03-09\", \"2015-03-10\", \"2015-03-11\", \"2015-03-12\", \"2015-03-13\", \"2015-03-14\", \"2015-03-15\", \"2015-03-16\", \"2015-03-17\", \"2015-03-18\", \"2015-03-19\", \"2015-03-20\", \"2015-03-21\", \"2015-03-22\", \"2015-03-23\", \"2015-03-24\", \"2015-03-25\", \"2015-03-26\", \"2015-03-27\", \"2015-03-28\", \"2015-03-29\", \"2015-03-30\", \"2015-03-31\", \"2015-04-01\", \"2015-04-02\", \"2015-04-03\", \"2015-04-04\", \"2015-04-05\", \"2015-04-06\", \"2015-04-07\", \"2015-04-08\", \"2015-04-09\", \"2015-04-10\", \"2015-04-11\", \"2015-04-12\", \"2015-04-13\", \"2015-04-14\", \"2015-04-15\", \"2015-04-16\", \"2015-04-17\", \"2015-04-18\", \"2015-04-19\", \"2015-04-20\", \"2015-04-21\", \"2015-04-22\", \"2015-04-23\", \"2015-04-24\", \"2015-04-25\", \"2015-04-26\", \"2015-04-27\", \"2015-04-28\", \"2015-04-29\", \"2015-04-30\"], \"xaxis\": \"x\", \"y\": [13.242009132420092, 16.877637130801688, 16.600790513833992, 15.899581589958158, 18.819188191881917, 13.147410358565738, 13.658536585365853, 14.042553191489361, 16.049382716049383, 13.147410358565738, 17.786561264822133, 13.636363636363637, 18.660287081339714, 11.785714285714286, 15.918367346938776, 15.444015444015443, 15.476190476190476, 11.353711790393014, 18.65671641791045, 14.957264957264957, 16.923076923076923, 15.352697095435685, 15.668202764976959, 13.565891472868216, 18.250950570342205, 17.061611374407583, 18.28358208955224, 18.29268292682927, 13.080168776371307, 12.217194570135746, 15.019762845849803, 16.433566433566433, 14.186851211072664, 15.985130111524164, 14.448669201520913, 14.49814126394052, 11.353711790393014, 14.074074074074074, 19.17808219178082, 17.314487632508833, 15.750915750915752, 14.566929133858268, 13.28125, 14.716981132075471, 14.233576642335766, 19.548872180451127, 16.862745098039216, 18.46153846153846, 15.185185185185185, 19.494584837545126, 17.482517482517483, 16.129032258064516, 16.304347826086957, 14.440433212996389, 19.215686274509803, 16.10486891385768, 18.95910780669145, 16.541353383458645, 17.09090909090909, 4.132231404958677, 3.6, 3.435114503816794, 4.587155963302752, 3.7656903765690375, 3.007518796992481, 7.296137339055794, 4.780876494023905, 4.032258064516129, 3.252032520325203, 6.870229007633588, 4.411764705882353, 6.42570281124498, 5.857740585774058, 4.8582995951417, 4.700854700854701, 5.058365758754864, 2.880658436213992, 3.5714285714285716, 5.084745762711864, 2.1186440677966103, 3.111111111111111, 3.435114503816794, 4.25531914893617, 5.098039215686274, 4.6263345195729535, 2.5531914893617023, 3.076923076923077, 5.327868852459017, 4.25531914893617, 8.189655172413794, 4.3478260869565215, 3.225806451612903, 3.4615384615384617, 4.545454545454546, 4.741379310344827, 3.9682539682539684, 5.072463768115942, 4.676258992805756, 6.0, 0.4098360655737705, 3.6437246963562755, 3.629032258064516, 6.882591093117409, 3.4334763948497855, 3.11284046692607, 3.8297872340425534, 4.048582995951417, 1.345291479820628, 1.8115942028985508, 4.641350210970464, 3.004291845493562, 4.621848739495798, 2.1739130434782608, 2.5089605734767026, 4.4534412955465585, 4.562737642585551, 5.925925925925926, 6.153846153846154, 2.3076923076923075, 4.182509505703422], \"yaxis\": \"y\"}, {\"hoverlabel\": {\"namelength\": 0}, \"hovertemplate\": \"<b>%{hovertext}</b><br><br>variable=Mobile_payment_confirmation_page %<br>date=%{x}<br>value=%{y}\", \"hovertext\": [\"Mobile_payment_confirmation_page %\", \"Mobile_payment_confirmation_page %\", \"Mobile_payment_confirmation_page %\", \"Mobile_payment_confirmation_page %\", \"Mobile_payment_confirmation_page %\", \"Mobile_payment_confirmation_page %\", \"Mobile_payment_confirmation_page %\", \"Mobile_payment_confirmation_page %\", \"Mobile_payment_confirmation_page %\", \"Mobile_payment_confirmation_page %\", \"Mobile_payment_confirmation_page %\", \"Mobile_payment_confirmation_page %\", \"Mobile_payment_confirmation_page %\", \"Mobile_payment_confirmation_page %\", \"Mobile_payment_confirmation_page %\", \"Mobile_payment_confirmation_page %\", \"Mobile_payment_confirmation_page %\", \"Mobile_payment_confirmation_page %\", \"Mobile_payment_confirmation_page %\", \"Mobile_payment_confirmation_page %\", \"Mobile_payment_confirmation_page %\", \"Mobile_payment_confirmation_page %\", \"Mobile_payment_confirmation_page %\", \"Mobile_payment_confirmation_page %\", \"Mobile_payment_confirmation_page %\", \"Mobile_payment_confirmation_page %\", \"Mobile_payment_confirmation_page %\", \"Mobile_payment_confirmation_page %\", \"Mobile_payment_confirmation_page %\", \"Mobile_payment_confirmation_page %\", \"Mobile_payment_confirmation_page %\", \"Mobile_payment_confirmation_page %\", \"Mobile_payment_confirmation_page %\", \"Mobile_payment_confirmation_page %\", \"Mobile_payment_confirmation_page %\", \"Mobile_payment_confirmation_page %\", \"Mobile_payment_confirmation_page %\", \"Mobile_payment_confirmation_page %\", \"Mobile_payment_confirmation_page %\", \"Mobile_payment_confirmation_page %\", \"Mobile_payment_confirmation_page %\", \"Mobile_payment_confirmation_page %\", \"Mobile_payment_confirmation_page %\", \"Mobile_payment_confirmation_page %\", \"Mobile_payment_confirmation_page %\", \"Mobile_payment_confirmation_page %\", \"Mobile_payment_confirmation_page %\", \"Mobile_payment_confirmation_page %\", \"Mobile_payment_confirmation_page %\", \"Mobile_payment_confirmation_page %\", \"Mobile_payment_confirmation_page %\", \"Mobile_payment_confirmation_page %\", \"Mobile_payment_confirmation_page %\", \"Mobile_payment_confirmation_page %\", \"Mobile_payment_confirmation_page %\", \"Mobile_payment_confirmation_page %\", \"Mobile_payment_confirmation_page %\", \"Mobile_payment_confirmation_page %\", \"Mobile_payment_confirmation_page %\", \"Mobile_payment_confirmation_page %\", \"Mobile_payment_confirmation_page %\", \"Mobile_payment_confirmation_page %\", \"Mobile_payment_confirmation_page %\", \"Mobile_payment_confirmation_page %\", \"Mobile_payment_confirmation_page %\", \"Mobile_payment_confirmation_page %\", \"Mobile_payment_confirmation_page %\", \"Mobile_payment_confirmation_page %\", \"Mobile_payment_confirmation_page %\", \"Mobile_payment_confirmation_page %\", \"Mobile_payment_confirmation_page %\", \"Mobile_payment_confirmation_page %\", \"Mobile_payment_confirmation_page %\", \"Mobile_payment_confirmation_page %\", \"Mobile_payment_confirmation_page %\", \"Mobile_payment_confirmation_page %\", \"Mobile_payment_confirmation_page %\", \"Mobile_payment_confirmation_page %\", \"Mobile_payment_confirmation_page %\", \"Mobile_payment_confirmation_page %\", \"Mobile_payment_confirmation_page %\", \"Mobile_payment_confirmation_page %\", \"Mobile_payment_confirmation_page %\", \"Mobile_payment_confirmation_page %\", \"Mobile_payment_confirmation_page %\", \"Mobile_payment_confirmation_page %\", \"Mobile_payment_confirmation_page %\", \"Mobile_payment_confirmation_page %\", \"Mobile_payment_confirmation_page %\", \"Mobile_payment_confirmation_page %\", \"Mobile_payment_confirmation_page %\", \"Mobile_payment_confirmation_page %\", \"Mobile_payment_confirmation_page %\", \"Mobile_payment_confirmation_page %\", \"Mobile_payment_confirmation_page %\", \"Mobile_payment_confirmation_page %\", \"Mobile_payment_confirmation_page %\", \"Mobile_payment_confirmation_page %\", \"Mobile_payment_confirmation_page %\", \"Mobile_payment_confirmation_page %\", \"Mobile_payment_confirmation_page %\", \"Mobile_payment_confirmation_page %\", \"Mobile_payment_confirmation_page %\", \"Mobile_payment_confirmation_page %\", \"Mobile_payment_confirmation_page %\", \"Mobile_payment_confirmation_page %\", \"Mobile_payment_confirmation_page %\", \"Mobile_payment_confirmation_page %\", \"Mobile_payment_confirmation_page %\", \"Mobile_payment_confirmation_page %\", \"Mobile_payment_confirmation_page %\", \"Mobile_payment_confirmation_page %\", \"Mobile_payment_confirmation_page %\", \"Mobile_payment_confirmation_page %\", \"Mobile_payment_confirmation_page %\", \"Mobile_payment_confirmation_page %\", \"Mobile_payment_confirmation_page %\", \"Mobile_payment_confirmation_page %\", \"Mobile_payment_confirmation_page %\", \"Mobile_payment_confirmation_page %\"], \"legendgroup\": \"variable=Mobile_payment_confirmation_page %\", \"line\": {\"color\": \"#19d3f3\", \"dash\": \"solid\"}, \"mode\": \"lines\", \"name\": \"variable=Mobile_payment_confirmation_page %\", \"showlegend\": true, \"type\": \"scatter\", \"x\": [\"2015-01-01\", \"2015-01-02\", \"2015-01-03\", \"2015-01-04\", \"2015-01-05\", \"2015-01-06\", \"2015-01-07\", \"2015-01-08\", \"2015-01-09\", \"2015-01-10\", \"2015-01-11\", \"2015-01-12\", \"2015-01-13\", \"2015-01-14\", \"2015-01-15\", \"2015-01-16\", \"2015-01-17\", \"2015-01-18\", \"2015-01-19\", \"2015-01-20\", \"2015-01-21\", \"2015-01-22\", \"2015-01-23\", \"2015-01-24\", \"2015-01-25\", \"2015-01-26\", \"2015-01-27\", \"2015-01-28\", \"2015-01-29\", \"2015-01-30\", \"2015-01-31\", \"2015-02-01\", \"2015-02-02\", \"2015-02-03\", \"2015-02-04\", \"2015-02-05\", \"2015-02-06\", \"2015-02-07\", \"2015-02-08\", \"2015-02-09\", \"2015-02-10\", \"2015-02-11\", \"2015-02-12\", \"2015-02-13\", \"2015-02-14\", \"2015-02-15\", \"2015-02-16\", \"2015-02-17\", \"2015-02-18\", \"2015-02-19\", \"2015-02-20\", \"2015-02-21\", \"2015-02-22\", \"2015-02-23\", \"2015-02-24\", \"2015-02-25\", \"2015-02-26\", \"2015-02-27\", \"2015-02-28\", \"2015-03-01\", \"2015-03-02\", \"2015-03-03\", \"2015-03-04\", \"2015-03-05\", \"2015-03-06\", \"2015-03-07\", \"2015-03-08\", \"2015-03-09\", \"2015-03-10\", \"2015-03-11\", \"2015-03-12\", \"2015-03-13\", \"2015-03-14\", \"2015-03-15\", \"2015-03-16\", \"2015-03-17\", \"2015-03-18\", \"2015-03-19\", \"2015-03-20\", \"2015-03-21\", \"2015-03-22\", \"2015-03-23\", \"2015-03-24\", \"2015-03-25\", \"2015-03-26\", \"2015-03-27\", \"2015-03-28\", \"2015-03-29\", \"2015-03-30\", \"2015-03-31\", \"2015-04-01\", \"2015-04-02\", \"2015-04-03\", \"2015-04-04\", \"2015-04-05\", \"2015-04-06\", \"2015-04-07\", \"2015-04-08\", \"2015-04-09\", \"2015-04-10\", \"2015-04-11\", \"2015-04-12\", \"2015-04-13\", \"2015-04-14\", \"2015-04-15\", \"2015-04-16\", \"2015-04-17\", \"2015-04-18\", \"2015-04-19\", \"2015-04-20\", \"2015-04-21\", \"2015-04-22\", \"2015-04-23\", \"2015-04-24\", \"2015-04-25\", \"2015-04-26\", \"2015-04-27\", \"2015-04-28\", \"2015-04-29\", \"2015-04-30\"], \"xaxis\": \"x\", \"y\": [2.2831050228310503, 1.6877637130801688, 1.5810276679841897, 2.510460251046025, 2.952029520295203, 3.187250996015936, 0.975609756097561, 1.2765957446808511, 1.2345679012345678, 1.593625498007968, 1.976284584980237, 1.6528925619834711, 0.0, 1.4285714285714286, 2.4489795918367347, 1.1583011583011582, 1.1904761904761905, 1.7467248908296944, 2.985074626865672, 1.7094017094017093, 1.1538461538461537, 2.074688796680498, 2.304147465437788, 0.0, 1.9011406844106464, 1.8957345971563981, 1.492537313432836, 2.845528455284553, 0.4219409282700422, 1.3574660633484164, 1.5810276679841897, 2.097902097902098, 1.7301038062283738, 1.1152416356877324, 1.1406844106463878, 0.7434944237918215, 2.183406113537118, 1.8518518518518519, 1.7123287671232876, 2.1201413427561837, 1.8315018315018314, 1.5748031496062993, 0.78125, 0.37735849056603776, 2.9197080291970803, 1.5037593984962405, 2.3529411764705883, 2.3076923076923075, 1.1111111111111112, 1.444043321299639, 0.6993006993006993, 1.075268817204301, 1.4492753623188406, 1.444043321299639, 2.3529411764705883, 1.8726591760299625, 1.486988847583643, 0.7518796992481203, 2.1818181818181817, 0.0, 0.4, 0.3816793893129771, 0.45871559633027525, 0.0, 0.7518796992481203, 0.8583690987124464, 0.398406374501992, 0.4032258064516129, 0.0, 0.3816793893129771, 1.4705882352941178, 0.40160642570281124, 0.41841004184100417, 0.8097165991902834, 0.8547008547008547, 0.0, 0.0, 0.8928571428571429, 0.847457627118644, 0.0, 0.0, 0.0, 0.425531914893617, 0.0, 0.35587188612099646, 0.425531914893617, 0.38461538461538464, 0.4098360655737705, 0.425531914893617, 0.43103448275862066, 0.7905138339920948, 0.0, 0.7692307692307693, 1.1363636363636365, 0.43103448275862066, 1.1904761904761905, 0.0, 0.3597122302158273, 0.4, 0.0, 0.0, 0.4032258064516129, 0.4048582995951417, 0.4291845493562232, 0.38910505836575876, 0.0, 0.0, 0.0, 0.0, 0.0, 0.4291845493562232, 0.8403361344537815, 0.0, 0.35842293906810035, 0.0, 0.0, 0.37037037037037035, 0.38461538461538464, 0.0, 0.38022813688212925], \"yaxis\": \"y\"}],\n",
              "                        {\"legend\": {\"tracegroupgap\": 0}, \"margin\": {\"t\": 60}, \"template\": {\"data\": {\"bar\": [{\"error_x\": {\"color\": \"#2a3f5f\"}, \"error_y\": {\"color\": \"#2a3f5f\"}, \"marker\": {\"line\": {\"color\": \"#E5ECF6\", \"width\": 0.5}}, \"type\": \"bar\"}], \"barpolar\": [{\"marker\": {\"line\": {\"color\": \"#E5ECF6\", \"width\": 0.5}}, \"type\": \"barpolar\"}], \"carpet\": [{\"aaxis\": {\"endlinecolor\": \"#2a3f5f\", \"gridcolor\": \"white\", \"linecolor\": \"white\", \"minorgridcolor\": \"white\", \"startlinecolor\": \"#2a3f5f\"}, \"baxis\": {\"endlinecolor\": \"#2a3f5f\", \"gridcolor\": \"white\", \"linecolor\": \"white\", \"minorgridcolor\": \"white\", \"startlinecolor\": \"#2a3f5f\"}, \"type\": \"carpet\"}], \"choropleth\": [{\"colorbar\": {\"outlinewidth\": 0, \"ticks\": \"\"}, \"type\": \"choropleth\"}], \"contour\": [{\"colorbar\": {\"outlinewidth\": 0, \"ticks\": \"\"}, \"colorscale\": [[0.0, \"#0d0887\"], [0.1111111111111111, \"#46039f\"], [0.2222222222222222, \"#7201a8\"], [0.3333333333333333, \"#9c179e\"], [0.4444444444444444, \"#bd3786\"], [0.5555555555555556, \"#d8576b\"], [0.6666666666666666, \"#ed7953\"], [0.7777777777777778, \"#fb9f3a\"], [0.8888888888888888, \"#fdca26\"], [1.0, \"#f0f921\"]], \"type\": \"contour\"}], \"contourcarpet\": [{\"colorbar\": {\"outlinewidth\": 0, \"ticks\": \"\"}, \"type\": \"contourcarpet\"}], \"heatmap\": [{\"colorbar\": {\"outlinewidth\": 0, \"ticks\": \"\"}, \"colorscale\": [[0.0, \"#0d0887\"], [0.1111111111111111, \"#46039f\"], [0.2222222222222222, \"#7201a8\"], [0.3333333333333333, \"#9c179e\"], [0.4444444444444444, \"#bd3786\"], [0.5555555555555556, \"#d8576b\"], [0.6666666666666666, \"#ed7953\"], [0.7777777777777778, \"#fb9f3a\"], [0.8888888888888888, \"#fdca26\"], [1.0, \"#f0f921\"]], \"type\": \"heatmap\"}], \"heatmapgl\": [{\"colorbar\": {\"outlinewidth\": 0, \"ticks\": \"\"}, \"colorscale\": [[0.0, \"#0d0887\"], [0.1111111111111111, \"#46039f\"], [0.2222222222222222, \"#7201a8\"], [0.3333333333333333, \"#9c179e\"], [0.4444444444444444, \"#bd3786\"], [0.5555555555555556, \"#d8576b\"], [0.6666666666666666, \"#ed7953\"], [0.7777777777777778, \"#fb9f3a\"], [0.8888888888888888, \"#fdca26\"], [1.0, \"#f0f921\"]], \"type\": \"heatmapgl\"}], \"histogram\": [{\"marker\": {\"colorbar\": {\"outlinewidth\": 0, \"ticks\": \"\"}}, \"type\": \"histogram\"}], \"histogram2d\": [{\"colorbar\": {\"outlinewidth\": 0, \"ticks\": \"\"}, \"colorscale\": [[0.0, \"#0d0887\"], [0.1111111111111111, \"#46039f\"], [0.2222222222222222, \"#7201a8\"], [0.3333333333333333, \"#9c179e\"], [0.4444444444444444, \"#bd3786\"], [0.5555555555555556, \"#d8576b\"], [0.6666666666666666, \"#ed7953\"], [0.7777777777777778, \"#fb9f3a\"], [0.8888888888888888, \"#fdca26\"], [1.0, \"#f0f921\"]], \"type\": \"histogram2d\"}], \"histogram2dcontour\": [{\"colorbar\": {\"outlinewidth\": 0, \"ticks\": \"\"}, \"colorscale\": [[0.0, \"#0d0887\"], [0.1111111111111111, \"#46039f\"], [0.2222222222222222, \"#7201a8\"], [0.3333333333333333, \"#9c179e\"], [0.4444444444444444, \"#bd3786\"], [0.5555555555555556, \"#d8576b\"], [0.6666666666666666, \"#ed7953\"], [0.7777777777777778, \"#fb9f3a\"], [0.8888888888888888, \"#fdca26\"], [1.0, \"#f0f921\"]], \"type\": \"histogram2dcontour\"}], \"mesh3d\": [{\"colorbar\": {\"outlinewidth\": 0, \"ticks\": \"\"}, \"type\": \"mesh3d\"}], \"parcoords\": [{\"line\": {\"colorbar\": {\"outlinewidth\": 0, \"ticks\": \"\"}}, \"type\": \"parcoords\"}], \"pie\": [{\"automargin\": true, \"type\": \"pie\"}], \"scatter\": [{\"marker\": {\"colorbar\": {\"outlinewidth\": 0, \"ticks\": \"\"}}, \"type\": \"scatter\"}], \"scatter3d\": [{\"line\": {\"colorbar\": {\"outlinewidth\": 0, \"ticks\": \"\"}}, \"marker\": {\"colorbar\": {\"outlinewidth\": 0, \"ticks\": \"\"}}, \"type\": \"scatter3d\"}], \"scattercarpet\": [{\"marker\": {\"colorbar\": {\"outlinewidth\": 0, \"ticks\": \"\"}}, \"type\": \"scattercarpet\"}], \"scattergeo\": [{\"marker\": {\"colorbar\": {\"outlinewidth\": 0, \"ticks\": \"\"}}, \"type\": \"scattergeo\"}], \"scattergl\": [{\"marker\": {\"colorbar\": {\"outlinewidth\": 0, \"ticks\": \"\"}}, \"type\": \"scattergl\"}], \"scattermapbox\": [{\"marker\": {\"colorbar\": {\"outlinewidth\": 0, \"ticks\": \"\"}}, \"type\": \"scattermapbox\"}], \"scatterpolar\": [{\"marker\": {\"colorbar\": {\"outlinewidth\": 0, \"ticks\": \"\"}}, \"type\": \"scatterpolar\"}], \"scatterpolargl\": [{\"marker\": {\"colorbar\": {\"outlinewidth\": 0, \"ticks\": \"\"}}, \"type\": \"scatterpolargl\"}], \"scatterternary\": [{\"marker\": {\"colorbar\": {\"outlinewidth\": 0, \"ticks\": \"\"}}, \"type\": \"scatterternary\"}], \"surface\": [{\"colorbar\": {\"outlinewidth\": 0, \"ticks\": \"\"}, \"colorscale\": [[0.0, \"#0d0887\"], [0.1111111111111111, \"#46039f\"], [0.2222222222222222, \"#7201a8\"], [0.3333333333333333, \"#9c179e\"], [0.4444444444444444, \"#bd3786\"], [0.5555555555555556, \"#d8576b\"], [0.6666666666666666, \"#ed7953\"], [0.7777777777777778, \"#fb9f3a\"], [0.8888888888888888, \"#fdca26\"], [1.0, \"#f0f921\"]], \"type\": \"surface\"}], \"table\": [{\"cells\": {\"fill\": {\"color\": \"#EBF0F8\"}, \"line\": {\"color\": \"white\"}}, \"header\": {\"fill\": {\"color\": \"#C8D4E3\"}, \"line\": {\"color\": \"white\"}}, \"type\": \"table\"}]}, \"layout\": {\"annotationdefaults\": {\"arrowcolor\": \"#2a3f5f\", \"arrowhead\": 0, \"arrowwidth\": 1}, \"coloraxis\": {\"colorbar\": {\"outlinewidth\": 0, \"ticks\": \"\"}}, \"colorscale\": {\"diverging\": [[0, \"#8e0152\"], [0.1, \"#c51b7d\"], [0.2, \"#de77ae\"], [0.3, \"#f1b6da\"], [0.4, \"#fde0ef\"], [0.5, \"#f7f7f7\"], [0.6, \"#e6f5d0\"], [0.7, \"#b8e186\"], [0.8, \"#7fbc41\"], [0.9, \"#4d9221\"], [1, \"#276419\"]], \"sequential\": [[0.0, \"#0d0887\"], [0.1111111111111111, \"#46039f\"], [0.2222222222222222, \"#7201a8\"], [0.3333333333333333, \"#9c179e\"], [0.4444444444444444, \"#bd3786\"], [0.5555555555555556, \"#d8576b\"], [0.6666666666666666, \"#ed7953\"], [0.7777777777777778, \"#fb9f3a\"], [0.8888888888888888, \"#fdca26\"], [1.0, \"#f0f921\"]], \"sequentialminus\": [[0.0, \"#0d0887\"], [0.1111111111111111, \"#46039f\"], [0.2222222222222222, \"#7201a8\"], [0.3333333333333333, \"#9c179e\"], [0.4444444444444444, \"#bd3786\"], [0.5555555555555556, \"#d8576b\"], [0.6666666666666666, \"#ed7953\"], [0.7777777777777778, \"#fb9f3a\"], [0.8888888888888888, \"#fdca26\"], [1.0, \"#f0f921\"]]}, \"colorway\": [\"#636efa\", \"#EF553B\", \"#00cc96\", \"#ab63fa\", \"#FFA15A\", \"#19d3f3\", \"#FF6692\", \"#B6E880\", \"#FF97FF\", \"#FECB52\"], \"font\": {\"color\": \"#2a3f5f\"}, \"geo\": {\"bgcolor\": \"white\", \"lakecolor\": \"white\", \"landcolor\": \"#E5ECF6\", \"showlakes\": true, \"showland\": true, \"subunitcolor\": \"white\"}, \"hoverlabel\": {\"align\": \"left\"}, \"hovermode\": \"closest\", \"mapbox\": {\"style\": \"light\"}, \"paper_bgcolor\": \"white\", \"plot_bgcolor\": \"#E5ECF6\", \"polar\": {\"angularaxis\": {\"gridcolor\": \"white\", \"linecolor\": \"white\", \"ticks\": \"\"}, \"bgcolor\": \"#E5ECF6\", \"radialaxis\": {\"gridcolor\": \"white\", \"linecolor\": \"white\", \"ticks\": \"\"}}, \"scene\": {\"xaxis\": {\"backgroundcolor\": \"#E5ECF6\", \"gridcolor\": \"white\", \"gridwidth\": 2, \"linecolor\": \"white\", \"showbackground\": true, \"ticks\": \"\", \"zerolinecolor\": \"white\"}, \"yaxis\": {\"backgroundcolor\": \"#E5ECF6\", \"gridcolor\": \"white\", \"gridwidth\": 2, \"linecolor\": \"white\", \"showbackground\": true, \"ticks\": \"\", \"zerolinecolor\": \"white\"}, \"zaxis\": {\"backgroundcolor\": \"#E5ECF6\", \"gridcolor\": \"white\", \"gridwidth\": 2, \"linecolor\": \"white\", \"showbackground\": true, \"ticks\": \"\", \"zerolinecolor\": \"white\"}}, \"shapedefaults\": {\"line\": {\"color\": \"#2a3f5f\"}}, \"ternary\": {\"aaxis\": {\"gridcolor\": \"white\", \"linecolor\": \"white\", \"ticks\": \"\"}, \"baxis\": {\"gridcolor\": \"white\", \"linecolor\": \"white\", \"ticks\": \"\"}, \"bgcolor\": \"#E5ECF6\", \"caxis\": {\"gridcolor\": \"white\", \"linecolor\": \"white\", \"ticks\": \"\"}}, \"title\": {\"x\": 0.05}, \"xaxis\": {\"automargin\": true, \"gridcolor\": \"white\", \"linecolor\": \"white\", \"ticks\": \"\", \"title\": {\"standoff\": 15}, \"zerolinecolor\": \"white\", \"zerolinewidth\": 2}, \"yaxis\": {\"automargin\": true, \"gridcolor\": \"white\", \"linecolor\": \"white\", \"ticks\": \"\", \"title\": {\"standoff\": 15}, \"zerolinecolor\": \"white\", \"zerolinewidth\": 2}}}, \"xaxis\": {\"anchor\": \"y\", \"domain\": [0.0, 1.0], \"dtick\": \"M1\", \"tickformat\": \"%b %d\\n%Y\", \"title\": {\"text\": \"date\"}}, \"yaxis\": {\"anchor\": \"x\", \"domain\": [0.0, 1.0], \"title\": {\"text\": \"value\"}}},\n",
              "                        {\"responsive\": true}\n",
              "                    ).then(function(){\n",
              "                            \n",
              "var gd = document.getElementById('4805b72d-2289-48ae-a39e-6a69f6f92607');\n",
              "var x = new MutationObserver(function (mutations, observer) {{\n",
              "        var display = window.getComputedStyle(gd).display;\n",
              "        if (!display || display === 'none') {{\n",
              "            console.log([gd, 'removed!']);\n",
              "            Plotly.purge(gd);\n",
              "            observer.disconnect();\n",
              "        }}\n",
              "}});\n",
              "\n",
              "// Listen for the removal of the full notebook cells\n",
              "var notebookContainer = gd.closest('#notebook-container');\n",
              "if (notebookContainer) {{\n",
              "    x.observe(notebookContainer, {childList: true});\n",
              "}}\n",
              "\n",
              "// Listen for the clearing of the current output cell\n",
              "var outputEl = gd.closest('.output');\n",
              "if (outputEl) {{\n",
              "    x.observe(outputEl, {childList: true});\n",
              "}}\n",
              "\n",
              "                        })\n",
              "                };\n",
              "                \n",
              "            </script>\n",
              "        </div>\n",
              "</body>\n",
              "</html>"
            ]
          },
          "metadata": {
            "tags": []
          }
        }
      ]
    },
    {
      "cell_type": "markdown",
      "metadata": {
        "id": "nXN1rVWvQ96D"
      },
      "source": [
        "When looking at the graphic above, we will immediately notice that the mobile conversion rate is always higher than desktop. In fact, the mobile conversion rate on the search page had reached 80%. However, on March 1, there was a very significant decrease (up to 60%), so after that date, the mobile conversion rate on the search page was only around 20%. This of course resulted in a decrease in the conversion rate on the payment page and payment confirmation page. While the desktop conversion rate looked stable for the search page and payment confirmation page, however, it decreased slightly for the payment page on March 1."
      ]
    },
    {
      "cell_type": "markdown",
      "metadata": {
        "id": "JPiOhgK9VEk9"
      },
      "source": [
        "## **4. Conclusion**\r\n",
        "\r\n",
        "Based on the analysis we have done before, we can conclude:\r\n",
        "1. Overall, website performance doesn't look healthy. In fact, 50% of website visitors choose to leave the website while still on the home page.\r\n",
        "2. The comparison of male and female visitors is almost the same for each device. However, visitors who use desktops are twice as high as visitors who use mobile.\r\n",
        "3. The performance of the desktop version of the website results in a smaller conversion rate than the mobile version (and the mobile version of the website always provides a higher conversion rate).\r\n",
        "4. There was an additional visitor on Feb 1, but it did not increase the conversion rate on that date.\r\n",
        "5. On March 1, there was a very significant decrease (up to 60%) for the mobile conversion rate on the search page.\r\n",
        "6. The payment page and payment confirmation page has a low conversion rate.\r\n",
        "\r\n"
      ]
    },
    {
      "cell_type": "markdown",
      "metadata": {
        "id": "9fKrz9codvrH"
      },
      "source": [
        "## **5. Suggestion**\r\n",
        "We already know the problems that occur on this company's website based on the analysis we have done. So, here is input for the CEO to optimize the performance of his website.\r\n",
        "\r\n",
        "1. If you want to get new visitors, then we can observe several trends on the chart to find out when the visitors went up, such as February 1. After that, we look back, what really caused the increase? Could it be that we held a promotion at that time? or Launching a new product? So, we can go back to trying this strategy to increase visitors.\r\n",
        "2. Fix / Change website for desktop because twice as many visitors use desktop but have a lower conversion rate. So, it shows that there are things on the desktop version of the website that can be optimized again. For example, visitors leave the website since they are on the home page due to an unattractive appearance, irrelevant product search results on the search page, lack of types of methods for making payments on the payment page, etc.\r\n",
        "3. To intensify the publication of the mobile version of the website to get more users. This needs to be done because a better mobile version of the website conversion rate will increase the chances of a user to decide to buy a product. However, it is necessary to conduct an investigation as well as resolve the problem regarding the cause of the drop in the mobile conversion rate on the search page that occurred on March 1. Could there be a change in the appearance of the website that users don't like?\r\n",
        "4. Re-discuss matters relating to the payment page and payment confirmation page because both pages have a low conversion rate. Maybe because the product price is beyond expectations? or a voucher code that can't be used?\r\n",
        "\r\n"
      ]
    }
  ]
}